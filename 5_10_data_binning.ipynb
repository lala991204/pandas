{
  "nbformat": 4,
  "nbformat_minor": 0,
  "metadata": {
    "colab": {
      "name": "5.10_data_binning.ipynb",
      "provenance": [],
      "mount_file_id": "1xMLxKOLiPrJ7G5Lc3SVZ3F2y1KfrjpsQ",
      "authorship_tag": "ABX9TyOQKTbz6M9PXbzcNnC9HrcG",
      "include_colab_link": true
    },
    "kernelspec": {
      "name": "python3",
      "display_name": "Python 3"
    },
    "language_info": {
      "name": "python"
    }
  },
  "cells": [
    {
      "cell_type": "markdown",
      "metadata": {
        "id": "view-in-github",
        "colab_type": "text"
      },
      "source": [
        "<a href=\"https://colab.research.google.com/github/lala991204/pandas/blob/master/5_10_data_binning.ipynb\" target=\"_parent\"><img src=\"https://colab.research.google.com/assets/colab-badge.svg\" alt=\"Open In Colab\"/></a>"
      ]
    },
    {
      "cell_type": "code",
      "metadata": {
        "colab": {
          "base_uri": "https://localhost:8080/"
        },
        "id": "FCuHG0yQARzm",
        "outputId": "1b80bd9d-34b5-4343-d1d7-849f7ae36d2f"
      },
      "source": [
        "# 라이브러리 불러오기\n",
        "import pandas as pd\n",
        "import numpy as np\n",
        "\n",
        "# read_csv() 함수로 df 생성\n",
        "df = pd.read_csv('/content/drive/MyDrive/Colab Notebooks/pandas/auto-mpg.csv', header=None)\n",
        "\n",
        "# 열 이름을 지정\n",
        "df.columns = ['mpg', 'cylinders', 'displacement', 'horsepower', 'weight',\n",
        "              'acceleration', 'model year', 'origin', 'name']\n",
        "\n",
        "# horsepower 열의 누락 데이터('?') 삭제하고 실수형 변환\n",
        "df['horsepower'].replace('?', np.nan, inplace=True)            # '?'을 np.nan으로 변경\n",
        "df.dropna(subset=['horsepower'], axis=0, inplace=True)         # 누락데이터 행을 삭제\n",
        "df['horsepower'] = df['horsepower'].astype('float')            # 문자열을 실수형으로 변환\n",
        "\n",
        "# np.histogram 함수로 3개의 bin으로 나누는 경계 값의 리스트 구하기\n",
        "count, bin_dividers = np.histogram(df['horsepower'], bins=3)\n",
        "print(bin_dividers)\n",
        "\n",
        "# 3개의 bin에 이름 지정\n",
        "bin_names = ['저출력', '보통출력', '고출력']\n",
        "\n",
        "# pd.cut 함수로 각 데이터를 3개의 bin에 할당\n",
        "df['hp_bin'] = pd.cut(x=df['horsepower'],            # 데이터 배열\n",
        "                      bins=bin_dividers,             # 경계 값 리스트\n",
        "                      labels=bin_names,              # bin 이름\n",
        "                      include_lowest=True)           # 첫 경계값 포함\n",
        "\n",
        "# horsepower 열, hp_bin 열의 첫 15행을 출력\n",
        "print(df[['horsepower', 'hp_bin']].head(15))"
      ],
      "execution_count": 1,
      "outputs": [
        {
          "output_type": "stream",
          "name": "stdout",
          "text": [
            "[ 46.         107.33333333 168.66666667 230.        ]\n",
            "    horsepower hp_bin\n",
            "0        130.0   보통출력\n",
            "1        165.0   보통출력\n",
            "2        150.0   보통출력\n",
            "3        150.0   보통출력\n",
            "4        140.0   보통출력\n",
            "5        198.0    고출력\n",
            "6        220.0    고출력\n",
            "7        215.0    고출력\n",
            "8        225.0    고출력\n",
            "9        190.0    고출력\n",
            "10       170.0    고출력\n",
            "11       160.0   보통출력\n",
            "12       150.0   보통출력\n",
            "13       225.0    고출력\n",
            "14        95.0    저출력\n"
          ]
        }
      ]
    },
    {
      "cell_type": "code",
      "metadata": {
        "id": "cU-7VVkOCYOM"
      },
      "source": [
        ""
      ],
      "execution_count": null,
      "outputs": []
    }
  ]
}