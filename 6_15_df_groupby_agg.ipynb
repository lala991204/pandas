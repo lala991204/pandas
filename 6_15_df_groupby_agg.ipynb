{
  "nbformat": 4,
  "nbformat_minor": 0,
  "metadata": {
    "colab": {
      "name": "6.15_df_groupby_agg.ipynb",
      "provenance": [],
      "toc_visible": true,
      "authorship_tag": "ABX9TyONLMmuizxyM2EtUWbcbkuJ",
      "include_colab_link": true
    },
    "kernelspec": {
      "name": "python3",
      "display_name": "Python 3"
    },
    "language_info": {
      "name": "python"
    }
  },
  "cells": [
    {
      "cell_type": "markdown",
      "metadata": {
        "id": "view-in-github",
        "colab_type": "text"
      },
      "source": [
        "<a href=\"https://colab.research.google.com/github/lala991204/pandas/blob/master/6_15_df_groupby_agg.ipynb\" target=\"_parent\"><img src=\"https://colab.research.google.com/assets/colab-badge.svg\" alt=\"Open In Colab\"/></a>"
      ]
    },
    {
      "cell_type": "code",
      "metadata": {
        "colab": {
          "base_uri": "https://localhost:8080/"
        },
        "id": "OgJmddHNt2Vq",
        "outputId": "d645ad18-dcc2-4ad2-fd23-4b065529199e"
      },
      "source": [
        "# 라이브러리 불러오기\n",
        "import pandas as pd\n",
        "import seaborn as sns\n",
        "\n",
        "# titanic 데이터셋에서 age, sex 등 5개 열을 선택하여 데이터프레임 만들기\n",
        "titanic = sns.load_dataset('titanic')\n",
        "df = titanic.loc[:, ['age', 'sex', 'class', 'fare', 'survived']]\n",
        "\n",
        "# class 열을 기준으로 분할\n",
        "grouped = df.groupby(['class'])\n",
        "\n",
        "# 각 그룹에 대한 모든 열의 표준편차를 집계하여 데이터프레임으로 반환\n",
        "std_all = grouped.std()\n",
        "print(std_all)\n",
        "print('\\n')\n",
        "print(type(std_all))\n",
        "print('\\n')\n",
        "\n",
        "# 각 그룹에 대한 fare 열의 표준편차를 집계하여 시리즈로 반환\n",
        "std_fare = grouped.fare.std()\n",
        "print(std_fare)\n",
        "print('\\n')\n",
        "print(type(std_fare))\n",
        "print('\\n')"
      ],
      "execution_count": 1,
      "outputs": [
        {
          "output_type": "stream",
          "name": "stdout",
          "text": [
            "              age       fare  survived\n",
            "class                                 \n",
            "First   14.802856  78.380373  0.484026\n",
            "Second  14.001077  13.417399  0.500623\n",
            "Third   12.495398  11.778142  0.428949\n",
            "\n",
            "\n",
            "<class 'pandas.core.frame.DataFrame'>\n",
            "\n",
            "\n",
            "class\n",
            "First     78.380373\n",
            "Second    13.417399\n",
            "Third     11.778142\n",
            "Name: fare, dtype: float64\n",
            "\n",
            "\n",
            "<class 'pandas.core.series.Series'>\n",
            "\n",
            "\n"
          ]
        }
      ]
    },
    {
      "cell_type": "code",
      "metadata": {
        "colab": {
          "base_uri": "https://localhost:8080/"
        },
        "id": "2Av-tdV6vUvu",
        "outputId": "e953a1da-021d-468e-e2bc-5ead36c57320"
      },
      "source": [
        "# 그룹 객체에 agg() 메소드 적용 - 사용자 정의 함수를 인수로 전달\n",
        "def min_max(x):         # 최대값 - 최소값\n",
        "    return x.max() - x.min()\n",
        "\n",
        "# 각 그룹의 최대값과 최소값의 차이를 계산하여 그룹별로 집계\n",
        "agg_minmax = grouped.agg(min_max)\n",
        "print(agg_minmax.head())\n",
        "print('\\n')\n",
        "\n",
        "# 여러 함수를 각 열에 동일하게 적용하여 집계\n",
        "agg_all = grouped.agg(['min', 'max'])\n",
        "print(agg_all.head())\n",
        "print('\\n')\n",
        "\n",
        "# 각 열마다 다른 함수를 적용하여 집계\n",
        "agg_sep = grouped.agg({'fare':['min', 'max'], 'age':'mean'})\n",
        "print(agg_sep.head())"
      ],
      "execution_count": 2,
      "outputs": [
        {
          "output_type": "stream",
          "name": "stdout",
          "text": [
            "          age      fare  survived\n",
            "class                            \n",
            "First   79.08  512.3292         1\n",
            "Second  69.33   73.5000         1\n",
            "Third   73.58   69.5500         1\n",
            "\n",
            "\n",
            "         age           sex       fare           survived    \n",
            "         min   max     min   max  min       max      min max\n",
            "class                                                       \n",
            "First   0.92  80.0  female  male  0.0  512.3292        0   1\n",
            "Second  0.67  70.0  female  male  0.0   73.5000        0   1\n",
            "Third   0.42  74.0  female  male  0.0   69.5500        0   1\n",
            "\n",
            "\n",
            "       fare                  age\n",
            "        min       max       mean\n",
            "class                           \n",
            "First   0.0  512.3292  38.233441\n",
            "Second  0.0   73.5000  29.877630\n",
            "Third   0.0   69.5500  25.140620\n"
          ]
        }
      ]
    },
    {
      "cell_type": "code",
      "metadata": {
        "id": "1fXAvLUyvZQz"
      },
      "source": [
        ""
      ],
      "execution_count": null,
      "outputs": []
    }
  ]
}