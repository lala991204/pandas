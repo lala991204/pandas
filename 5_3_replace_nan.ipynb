{
  "nbformat": 4,
  "nbformat_minor": 0,
  "metadata": {
    "colab": {
      "name": "5.3_replace_nan.ipynb",
      "provenance": [],
      "authorship_tag": "ABX9TyOkuHuYAVVIp/Tc4V4X5PNx",
      "include_colab_link": true
    },
    "kernelspec": {
      "name": "python3",
      "display_name": "Python 3"
    },
    "language_info": {
      "name": "python"
    }
  },
  "cells": [
    {
      "cell_type": "markdown",
      "metadata": {
        "id": "view-in-github",
        "colab_type": "text"
      },
      "source": [
        "<a href=\"https://colab.research.google.com/github/lala991204/pandas/blob/master/5_3_replace_nan.ipynb\" target=\"_parent\"><img src=\"https://colab.research.google.com/assets/colab-badge.svg\" alt=\"Open In Colab\"/></a>"
      ]
    },
    {
      "cell_type": "code",
      "metadata": {
        "colab": {
          "base_uri": "https://localhost:8080/"
        },
        "id": "4reAfqM7SagN",
        "outputId": "0f6e30e2-917f-4153-9c4b-52ceefa9c5c9"
      },
      "source": [
        "# 라이브러리 불러오기\n",
        "import seaborn as sns\n",
        "\n",
        "# titanic 데이터셋 가져오기\n",
        "df = sns.load_dataset('titanic')\n",
        "\n",
        "# age 열의 첫 10개 데이터 출력 (5행에 NaN값)\n",
        "print(df['age'].head(10))\n",
        "print('\\n')\n",
        "\n",
        "# age 열의 NaN 값을 다른 나이 데이터의 평균으로 변경하기\n",
        "mean_age = df['age'].mean(axis=0)        # age 열의 평균 계산 (NaN 값 제외)\n",
        "df['age'].fillna(mean_age, inplace=True)\n",
        "\n",
        "# age 열의 첫 10개 데이터 출력(5행에 NaN 값이 평균으로 대체)\n",
        "print(df['age'].head(10))"
      ],
      "execution_count": 1,
      "outputs": [
        {
          "output_type": "stream",
          "name": "stdout",
          "text": [
            "0    22.0\n",
            "1    38.0\n",
            "2    26.0\n",
            "3    35.0\n",
            "4    35.0\n",
            "5     NaN\n",
            "6    54.0\n",
            "7     2.0\n",
            "8    27.0\n",
            "9    14.0\n",
            "Name: age, dtype: float64\n",
            "\n",
            "\n",
            "0    22.000000\n",
            "1    38.000000\n",
            "2    26.000000\n",
            "3    35.000000\n",
            "4    35.000000\n",
            "5    29.699118\n",
            "6    54.000000\n",
            "7     2.000000\n",
            "8    27.000000\n",
            "9    14.000000\n",
            "Name: age, dtype: float64\n"
          ]
        }
      ]
    },
    {
      "cell_type": "code",
      "metadata": {
        "id": "x58jYCE6TrqN"
      },
      "source": [
        ""
      ],
      "execution_count": null,
      "outputs": []
    }
  ]
}