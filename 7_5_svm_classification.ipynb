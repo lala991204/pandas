{
  "nbformat": 4,
  "nbformat_minor": 0,
  "metadata": {
    "colab": {
      "name": "7.5_svm_classification.ipynb",
      "provenance": [],
      "toc_visible": true,
      "authorship_tag": "ABX9TyMzPAMo76QajaE3V2+lSCOr",
      "include_colab_link": true
    },
    "kernelspec": {
      "name": "python3",
      "display_name": "Python 3"
    },
    "language_info": {
      "name": "python"
    }
  },
  "cells": [
    {
      "cell_type": "markdown",
      "metadata": {
        "id": "view-in-github",
        "colab_type": "text"
      },
      "source": [
        "<a href=\"https://colab.research.google.com/github/lala991204/pandas/blob/master/7_5_svm_classification.ipynb\" target=\"_parent\"><img src=\"https://colab.research.google.com/assets/colab-badge.svg\" alt=\"Open In Colab\"/></a>"
      ]
    },
    {
      "cell_type": "code",
      "metadata": {
        "colab": {
          "base_uri": "https://localhost:8080/"
        },
        "id": "vdWxMcw2xlKy",
        "outputId": "467e24a2-0e33-4cb3-aabe-a3652ef3acf4"
      },
      "source": [
        "### 기본 라이브러리 불러오기\n",
        "import pandas as pd\n",
        "import seaborn as sns\n",
        "\n",
        "'''\n",
        "[Step 1] 데이터 준비/기본 설정\n",
        "'''\n",
        "\n",
        "# load_dataset 함수를 사용하여 데이터프레임으로 변환\n",
        "df = sns.load_dataset('titanic')\n",
        "\n",
        "# IPython 디스플레이 설정 - 출력할 열의 개수 한도 늘리기\n",
        "pd.set_option('display.max_columns', 15)\n",
        "\n",
        "'''\n",
        "[Step 2] 데이터 탐색/전처리\n",
        "'''\n",
        "\n",
        "# NaN 값이 많은 deck 열 삭제, embarked와 내용이 겹치는 embark_town 열 삭제\n",
        "rdf = df.drop(['deck', 'embark_town'], axis=1)\n",
        "\n",
        "# age 열에 나이 데이터가 없는 모든 행 삭제 - age 열(891개 중 177개의 NaN 값)\n",
        "rdf = rdf.dropna(subset=['age'], how='any', axis=0)\n",
        "\n",
        "# embarked 열의 NaN 값을 승선도시 중에서 가장 많이 출현한 값으로 치환하기\n",
        "most_freq = rdf['embarked'].value_counts(dropna=True).idxmax()\n",
        "rdf['embarked'].fillna(most_freq, inplace=True)\n",
        "\n",
        "'''\n",
        "[Step 3] 분석에 사용할 속성 선택\n",
        "'''\n",
        "\n",
        "# 분석에 활용할 열(속성) 선택\n",
        "ndf = rdf[['survived', 'pclass', 'sex', 'age', 'sibsp', 'parch', 'embarked']]\n",
        "\n",
        "# 원핫인코딩(= '더미 변수를 만든다') - 범주형 데이터를 모형이 인식할 수 있도록 숫자형으로 변환\n",
        "onehot_sex = pd.get_dummies(ndf['sex'])\n",
        "ndf = pd.concat([ndf, onehot_sex], axis=1)\n",
        "\n",
        "onehot_embarked = pd.get_dummies(ndf['embarked'], prefix='town')      # 열 이름에 접두어 붙임: prefix\n",
        "ndf = pd.concat([ndf, onehot_embarked], axis=1)\n",
        "\n",
        "ndf.drop(['sex', 'embarked'], axis=1, inplace=True)\n",
        "\n",
        "'''\n",
        "[Step 4] 데이터셋 구분 - 훈련용(train data)/검증용(test data)\n",
        "'''\n",
        "\n",
        "# 속성(변수) 선택\n",
        "X = ndf[['pclass', 'age', 'sibsp', 'parch', 'female', 'male',\n",
        "         'town_C', 'town_Q', 'town_S']]      # 설명 변수 X\n",
        "y = ndf['survived']\n",
        "\n",
        "# 설명 변수 데이터를 정규화(normalization); 데이터의 상대적 크기 차이를 없애기 위해서\n",
        "from sklearn import preprocessing\n",
        "X = preprocessing.StandardScaler().fit(X).transform(X)\n",
        "\n",
        "# train data와 test data로 구분(7:3 비율)\n",
        "from sklearn.model_selection import train_test_split\n",
        "X_train, X_test, y_train, y_test = train_test_split(X, y, test_size=0.3, random_state=10)\n",
        "\n",
        "print('train data 개수: ', X_train.shape)\n",
        "print('test data 개수: ', y_train.shape)"
      ],
      "execution_count": 1,
      "outputs": [
        {
          "output_type": "stream",
          "name": "stdout",
          "text": [
            "train data 개수:  (499, 9)\n",
            "test data 개수:  (499,)\n"
          ]
        }
      ]
    },
    {
      "cell_type": "code",
      "metadata": {
        "colab": {
          "base_uri": "https://localhost:8080/"
        },
        "id": "c8xlXbLkyS4q",
        "outputId": "db851dd9-6dc6-4f19-e790-92d4a4647dc2"
      },
      "source": [
        "'''\n",
        "[Step 5] SVM 분류 모형 - sklearn 사용\n",
        "'''\n",
        "\n",
        "# sklearn 라이브러리에서 SVM 분류 모형 가져오기\n",
        "from sklearn import svm\n",
        "\n",
        "# 모형 객체 생성(kernel='rbf' 적용)\n",
        "svm_model = svm.SVC(kernel='rbf')\n",
        "\n",
        "# train data를 가지고 모형 학습\n",
        "svm_model.fit(X_train, y_train)\n",
        "\n",
        "# test data를 가지고 y_hat 예측(분류)\n",
        "y_hat = svm_model.predict(X_test)\n",
        "\n",
        "print(y_hat[0:10])\n",
        "print(y_test.values[0:10])"
      ],
      "execution_count": 3,
      "outputs": [
        {
          "output_type": "stream",
          "name": "stdout",
          "text": [
            "[0 0 1 0 0 0 1 0 0 0]\n",
            "[0 0 1 0 0 1 1 1 0 0]\n"
          ]
        }
      ]
    },
    {
      "cell_type": "code",
      "metadata": {
        "colab": {
          "base_uri": "https://localhost:8080/"
        },
        "id": "cC6QgIKGy4Ex",
        "outputId": "1b967e11-0416-40c0-9e8a-f52ecc4e533d"
      },
      "source": [
        "# 모형 성능 평가 - Confusion Matrix 계산\n",
        "from sklearn import metrics\n",
        "svm_matrix = metrics.confusion_matrix(y_test, y_hat)\n",
        "print(svm_matrix)\n",
        "print('\\n')\n",
        "\n",
        "# 모형 성능 평가 - 평가 지표 계산\n",
        "svm_report = metrics.classification_report(y_test, y_hat)\n",
        "print(svm_report)"
      ],
      "execution_count": 4,
      "outputs": [
        {
          "output_type": "stream",
          "name": "stdout",
          "text": [
            "[[120   5]\n",
            " [ 35  55]]\n",
            "\n",
            "\n",
            "              precision    recall  f1-score   support\n",
            "\n",
            "           0       0.77      0.96      0.86       125\n",
            "           1       0.92      0.61      0.73        90\n",
            "\n",
            "    accuracy                           0.81       215\n",
            "   macro avg       0.85      0.79      0.80       215\n",
            "weighted avg       0.83      0.81      0.81       215\n",
            "\n"
          ]
        }
      ]
    },
    {
      "cell_type": "code",
      "metadata": {
        "id": "1JHZ9PPvzYcl"
      },
      "source": [
        ""
      ],
      "execution_count": null,
      "outputs": []
    }
  ]
}