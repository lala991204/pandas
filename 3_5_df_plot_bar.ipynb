{
  "nbformat": 4,
  "nbformat_minor": 0,
  "metadata": {
    "colab": {
      "name": "3.5_df_plot_bar.ipynb",
      "provenance": [],
      "mount_file_id": "1d_y34ZPl6-OwjJOIv5ky_tqofyDN8fPI",
      "authorship_tag": "ABX9TyNzifiHguR7tHqzxkOGxYTq",
      "include_colab_link": true
    },
    "kernelspec": {
      "name": "python3",
      "display_name": "Python 3"
    },
    "language_info": {
      "name": "python"
    }
  },
  "cells": [
    {
      "cell_type": "markdown",
      "metadata": {
        "id": "view-in-github",
        "colab_type": "text"
      },
      "source": [
        "<a href=\"https://colab.research.google.com/github/lala991204/pandas/blob/master/3_5_df_plot_bar.ipynb\" target=\"_parent\"><img src=\"https://colab.research.google.com/assets/colab-badge.svg\" alt=\"Open In Colab\"/></a>"
      ]
    },
    {
      "cell_type": "code",
      "metadata": {
        "colab": {
          "base_uri": "https://localhost:8080/",
          "height": 443
        },
        "id": "B9dKxe97svrv",
        "outputId": "aaa0e488-c308-4061-cdcd-29577f4dc03d"
      },
      "source": [
        "import pandas as pd\n",
        "\n",
        "df = pd.read_excel('/content/drive/MyDrive/Colab Notebooks/pandas/남북한발전전력량.xlsx', engine ='openpyxl')         # 데이터프레임 변환\n",
        "\n",
        "df_ns = df.iloc[[0, 5], 3:]                    # 남한, 북한 발전량 합계 데이터만 추출\n",
        "df_ns.index = ['South', 'North']               # 행 인덱스 변경\n",
        "df_ns.columns = df_ns.columns.map(int)         # 열 이름의 자료형을 정수형으로 변경\n",
        "\n",
        "# 행, 열 전치하여 막대 그래프 그리기\n",
        "tdf_ns = df_ns.T\n",
        "print(tdf_ns.head())\n",
        "print('\\n')\n",
        "tdf_ns.plot(kind='bar')"
      ],
      "execution_count": 2,
      "outputs": [
        {
          "output_type": "stream",
          "name": "stdout",
          "text": [
            "     South North\n",
            "1991  1186   263\n",
            "1992  1310   247\n",
            "1993  1444   221\n",
            "1994  1650   231\n",
            "1995  1847   230\n",
            "\n",
            "\n"
          ]
        },
        {
          "output_type": "execute_result",
          "data": {
            "text/plain": [
              "<matplotlib.axes._subplots.AxesSubplot at 0x7f23b1686ed0>"
            ]
          },
          "metadata": {},
          "execution_count": 2
        },
        {
          "output_type": "display_data",
          "data": {
            "image/png": "[encoded data removed]",
            "text/plain": [
              "<Figure size 432x288 with 1 Axes>"
            ]
          },
          "metadata": {
            "needs_background": "light"
          }
        }
      ]
    },
    {
      "cell_type": "code",
      "metadata": {
        "id": "cHBwgyFFuo2D"
      },
      "source": [
        ""
      ],
      "execution_count": null,
      "outputs": []
    }
  ]
}