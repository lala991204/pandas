{
  "nbformat": 4,
  "nbformat_minor": 0,
  "metadata": {
    "colab": {
      "name": "5.1_isnull_notnull.ipynb",
      "provenance": [],
      "mount_file_id": "19IsDRf0YJB2Z0A2HEIK0z7IOBJcmqAyZ",
      "authorship_tag": "ABX9TyOxweevZCbFFOkDGg4Aj0Bd",
      "include_colab_link": true
    },
    "kernelspec": {
      "name": "python3",
      "display_name": "Python 3"
    },
    "language_info": {
      "name": "python"
    }
  },
  "cells": [
    {
      "cell_type": "markdown",
      "metadata": {
        "id": "view-in-github",
        "colab_type": "text"
      },
      "source": [
        "<a href=\"https://colab.research.google.com/github/lala991204/pandas/blob/master/5_1_isnull_notnull.ipynb\" target=\"_parent\"><img src=\"https://colab.research.google.com/assets/colab-badge.svg\" alt=\"Open In Colab\"/></a>"
      ]
    },
    {
      "cell_type": "code",
      "metadata": {
        "colab": {
          "base_uri": "https://localhost:8080/"
        },
        "id": "MCECM2oKNqQL",
        "outputId": "6981f67b-7793-4436-9a92-0aa1043ab347"
      },
      "source": [
        "# 라이브러리 불러오기\n",
        "import seaborn as sns\n",
        "\n",
        "# titanic 데이터셋 가져오기\n",
        "df = sns.load_dataset('titanic')\n",
        "\n",
        "# deck 열의 NaN 개수 계산하기\n",
        "nan_deck = df['deck'].value_counts(dropna=False)\n",
        "print(nan_deck)\n",
        "\n",
        "# isnull() 메서드로 누락 데이터 찾기\n",
        "print(df.head().isnull())\n",
        "\n",
        "# notnull() 메서드로 누락 데이터 찾기\n",
        "print(df.head().notnull())\n",
        "\n",
        "# isnull() 메서드로 누락 데이터 개수 구하기\n",
        "print(df.head().isnull().sum(axis=0))"
      ],
      "execution_count": 1,
      "outputs": [
        {
          "output_type": "stream",
          "name": "stdout",
          "text": [
            "NaN    688\n",
            "C       59\n",
            "B       47\n",
            "D       33\n",
            "E       32\n",
            "A       15\n",
            "F       13\n",
            "G        4\n",
            "Name: deck, dtype: int64\n",
            "   survived  pclass    sex    age  ...   deck  embark_town  alive  alone\n",
            "0     False   False  False  False  ...   True        False  False  False\n",
            "1     False   False  False  False  ...  False        False  False  False\n",
            "2     False   False  False  False  ...   True        False  False  False\n",
            "3     False   False  False  False  ...  False        False  False  False\n",
            "4     False   False  False  False  ...   True        False  False  False\n",
            "\n",
            "[5 rows x 15 columns]\n",
            "   survived  pclass   sex   age  ...   deck  embark_town  alive  alone\n",
            "0      True    True  True  True  ...  False         True   True   True\n",
            "1      True    True  True  True  ...   True         True   True   True\n",
            "2      True    True  True  True  ...  False         True   True   True\n",
            "3      True    True  True  True  ...   True         True   True   True\n",
            "4      True    True  True  True  ...  False         True   True   True\n",
            "\n",
            "[5 rows x 15 columns]\n",
            "survived       0\n",
            "pclass         0\n",
            "sex            0\n",
            "age            0\n",
            "sibsp          0\n",
            "parch          0\n",
            "fare           0\n",
            "embarked       0\n",
            "class          0\n",
            "who            0\n",
            "adult_male     0\n",
            "deck           3\n",
            "embark_town    0\n",
            "alive          0\n",
            "alone          0\n",
            "dtype: int64\n"
          ]
        }
      ]
    },
    {
      "cell_type": "code",
      "metadata": {
        "id": "Ebo1EFrPOytv"
      },
      "source": [
        ""
      ],
      "execution_count": null,
      "outputs": []
    }
  ]
}