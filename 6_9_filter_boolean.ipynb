{
  "nbformat": 4,
  "nbformat_minor": 0,
  "metadata": {
    "colab": {
      "name": "6.9_filter_boolean.ipynb",
      "provenance": [],
      "toc_visible": true,
      "authorship_tag": "ABX9TyNwyRawND9ywUNAR0u1Xvah",
      "include_colab_link": true
    },
    "kernelspec": {
      "name": "python3",
      "display_name": "Python 3"
    },
    "language_info": {
      "name": "python"
    }
  },
  "cells": [
    {
      "cell_type": "markdown",
      "metadata": {
        "id": "view-in-github",
        "colab_type": "text"
      },
      "source": [
        "<a href=\"https://colab.research.google.com/github/lala991204/pandas/blob/master/6_9_filter_boolean.ipynb\" target=\"_parent\"><img src=\"https://colab.research.google.com/assets/colab-badge.svg\" alt=\"Open In Colab\"/></a>"
      ]
    },
    {
      "cell_type": "code",
      "metadata": {
        "colab": {
          "base_uri": "https://localhost:8080/"
        },
        "id": "APZg8EIvBonH",
        "outputId": "778ef402-5591-467c-d14d-a4cff2ba00dc"
      },
      "source": [
        "# 라이브러리 불러오기\n",
        "import seaborn as sns\n",
        "\n",
        "# titanic 데이터셋 로딩\n",
        "titanic = sns.load_dataset('titanic')\n",
        "\n",
        "# 나이가 10대(10~19세)인 승객만 따로 선택\n",
        "mask1 = (titanic.age >= 10) & (titanic.age < 20)\n",
        "df_teenage = titanic.loc[mask1, :]\n",
        "print(df_teenage.head())\n",
        "print('\\n')\n",
        "\n",
        "# 나이가 10세 미만(0~9세)이고 여성인 승객만 따로 선택\n",
        "mask2 = (titanic.age < 10) & (titanic.sex == 'female')\n",
        "df_female_under10 = titanic.loc[mask2, :]\n",
        "print(df_female_under10.head())\n",
        "print('\\n')\n",
        "\n",
        "# 나이가 10세 미만(0~9세) 또는 60세 이상인 승객의 age, sex, alone 열만 선택\n",
        "mask3 = (titanic.age < 10) | (titanic.age >= 60)\n",
        "df_under10_morethan60 = titanic.loc[mask3, ['age', 'sex', 'alone']]\n",
        "print(df_under10_morethan60.head())"
      ],
      "execution_count": 1,
      "outputs": [
        {
          "output_type": "stream",
          "name": "stdout",
          "text": [
            "    survived  pclass     sex   age  ...  deck  embark_town  alive  alone\n",
            "9          1       2  female  14.0  ...   NaN    Cherbourg    yes  False\n",
            "14         0       3  female  14.0  ...   NaN  Southampton     no   True\n",
            "22         1       3  female  15.0  ...   NaN   Queenstown    yes   True\n",
            "27         0       1    male  19.0  ...     C  Southampton     no  False\n",
            "38         0       3  female  18.0  ...   NaN  Southampton     no  False\n",
            "\n",
            "[5 rows x 15 columns]\n",
            "\n",
            "\n",
            "     survived  pclass     sex  age  ...  deck  embark_town  alive  alone\n",
            "10          1       3  female  4.0  ...     G  Southampton    yes  False\n",
            "24          0       3  female  8.0  ...   NaN  Southampton     no  False\n",
            "43          1       2  female  3.0  ...   NaN    Cherbourg    yes  False\n",
            "58          1       2  female  5.0  ...   NaN  Southampton    yes  False\n",
            "119         0       3  female  2.0  ...   NaN  Southampton     no  False\n",
            "\n",
            "[5 rows x 15 columns]\n",
            "\n",
            "\n",
            "     age     sex  alone\n",
            "7    2.0    male  False\n",
            "10   4.0  female  False\n",
            "16   2.0    male  False\n",
            "24   8.0  female  False\n",
            "33  66.0    male   True\n"
          ]
        }
      ]
    }
  ]
}