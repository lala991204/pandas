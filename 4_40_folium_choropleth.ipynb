{
  "nbformat": 4,
  "nbformat_minor": 0,
  "metadata": {
    "colab": {
      "name": "4.40_folium_choropleth.ipynb",
      "provenance": [],
      "authorship_tag": "ABX9TyOY3MLUB0c4Iz62K/cz/zY/",
      "include_colab_link": true
    },
    "kernelspec": {
      "name": "python3",
      "display_name": "Python 3"
    },
    "language_info": {
      "name": "python"
    }
  },
  "cells": [
    {
      "cell_type": "markdown",
      "metadata": {
        "id": "view-in-github",
        "colab_type": "text"
      },
      "source": [
        "<a href=\"https://colab.research.google.com/github/lala991204/pandas/blob/master/4_40_folium_choropleth.ipynb\" target=\"_parent\"><img src=\"https://colab.research.google.com/assets/colab-badge.svg\" alt=\"Open In Colab\"/></a>"
      ]
    },
    {
      "cell_type": "code",
      "metadata": {
        "id": "dxtuHlvuaLAi"
      },
      "source": [
        "# 라이브러리 불러오기\n",
        "import pandas as pd\n",
        "import folium\n",
        "import json\n",
        "\n",
        "# 경기도 인구변화 데이터를 불러와서 데이터프레임으로 변환\n",
        "file_path = '/content/drive/MyDrive/Colab Notebooks/pandas/경기도인구데이터.xlsx'\n",
        "df = pd.read_excel(file_path, index_col='구분', engine='openpyxl')\n",
        "df.columns = df.columns.map(str)\n",
        "\n",
        "# 경기도 시군구 경계 정보를 가진 geo-json 파일 불러오기\n",
        "geo_path = '/content/drive/MyDrive/Colab Notebooks/pandas/경기도행정구역경계.json'\n",
        "try:\n",
        "    geo_data = json.load(open(geo_path, encoding='utf-8'))\n",
        "except:\n",
        "    geo_data = json.load(open(geo_path, encoding='utf-8-sig'))\n",
        "\n",
        "# 경기도 지도 만들기\n",
        "g_map = folium.Map(location=[37.5502, 126.982],\n",
        "                   tiles='Stamen Terrain', zoom_start=9)\n",
        "\n",
        "# 출력할 연도 선택(2007~2017년 중에서 선택)\n",
        "year='2007'\n",
        "\n",
        "# Choropleth 클래스로 단계구분도 표시하기\n",
        "folium.Choropleth(geo_data=geo_data,                 # 지도 경계\n",
        "                  data = df[year],                   # 표시하려는 데이터\n",
        "                  columns = [df.index, df[year]],    # 열 지정\n",
        "                  fill_color='YlOrRd', fill_opacity=0.7, line_opacity=0.3,\n",
        "                  threshold_scale=[10000, 100000, 300000, 500000, 700000],\n",
        "                  key_on='feature.properties.name'\n",
        "                  ).add_to(g_map)\n",
        "\n",
        "# 지도를 HTML 파일로 저장하기\n",
        "g_map.save('/content/drive/MyDrive/Colab Notebooks/pandas/gyonggi_population_' + year + '.html')"
      ],
      "execution_count": 7,
      "outputs": []
    },
    {
      "cell_type": "code",
      "metadata": {
        "id": "rTFcClp0gczZ"
      },
      "source": [
        ""
      ],
      "execution_count": null,
      "outputs": []
    }
  ]
}