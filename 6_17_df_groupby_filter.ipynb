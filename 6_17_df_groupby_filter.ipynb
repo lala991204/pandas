{
  "nbformat": 4,
  "nbformat_minor": 0,
  "metadata": {
    "colab": {
      "name": "6.17_df_groupby_filter.ipynb",
      "provenance": [],
      "toc_visible": true,
      "authorship_tag": "ABX9TyNsNryH8TXbAQEdcgU5AFSp",
      "include_colab_link": true
    },
    "kernelspec": {
      "name": "python3",
      "display_name": "Python 3"
    },
    "language_info": {
      "name": "python"
    }
  },
  "cells": [
    {
      "cell_type": "markdown",
      "metadata": {
        "id": "view-in-github",
        "colab_type": "text"
      },
      "source": [
        "<a href=\"https://colab.research.google.com/github/lala991204/pandas/blob/master/6_17_df_groupby_filter.ipynb\" target=\"_parent\"><img src=\"https://colab.research.google.com/assets/colab-badge.svg\" alt=\"Open In Colab\"/></a>"
      ]
    },
    {
      "cell_type": "code",
      "metadata": {
        "colab": {
          "base_uri": "https://localhost:8080/"
        },
        "id": "ye5AF53hzqCJ",
        "outputId": "fabc2d1a-885a-4c05-ac27-51409cbf63f6"
      },
      "source": [
        "# 라이브러리 불러오기\n",
        "import pandas as pd\n",
        "import seaborn as sns\n",
        "\n",
        "# titanic 데이터셋에서 age, sex 등 5개 열을 선택하여 데이터프레임 만들기\n",
        "titanic = sns.load_dataset('titanic')\n",
        "df = titanic.loc[:, ['age', 'sex', 'class', 'fare', 'survived']]\n",
        "\n",
        "# class 열을 기준으로 분할\n",
        "grouped = df.groupby(['class'])\n",
        "\n",
        "# 데이터 개수가 200개 이상인 \"그룹\"만을 필터링하여 데이터프레임으로 반환\n",
        "grouped_filter = grouped.filter(lambda x: len(x) >= 200)                # 'class' = 'First' & 'Third'인 부분\n",
        "print(grouped_filter.head())\n",
        "print('\\n')\n",
        "print(type(grouped_filter))\n",
        "\n",
        "# age 열의 평균이 30보다 작은 \"그룹\"만을 필터링하여 데이터프레임으로 반환\n",
        "age_filter = grouped.filter(lambda x: x.age.mean() < 30)\n",
        "print(age_filter.tail())\n",
        "print('\\n')\n",
        "print(type(age_filter))"
      ],
      "execution_count": 2,
      "outputs": [
        {
          "output_type": "stream",
          "name": "stdout",
          "text": [
            "    age     sex  class     fare  survived\n",
            "0  22.0    male  Third   7.2500         0\n",
            "1  38.0  female  First  71.2833         1\n",
            "2  26.0  female  Third   7.9250         1\n",
            "3  35.0  female  First  53.1000         1\n",
            "4  35.0    male  Third   8.0500         0\n",
            "\n",
            "\n",
            "<class 'pandas.core.frame.DataFrame'>\n",
            "      age     sex   class    fare  survived\n",
            "884  25.0    male   Third   7.050         0\n",
            "885  39.0  female   Third  29.125         0\n",
            "886  27.0    male  Second  13.000         0\n",
            "888   NaN  female   Third  23.450         0\n",
            "890  32.0    male   Third   7.750         0\n",
            "\n",
            "\n",
            "<class 'pandas.core.frame.DataFrame'>\n"
          ]
        }
      ]
    },
    {
      "cell_type": "code",
      "metadata": {
        "id": "7Kxkve7a00jQ"
      },
      "source": [
        ""
      ],
      "execution_count": null,
      "outputs": []
    }
  ]
}