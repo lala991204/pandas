{
  "nbformat": 4,
  "nbformat_minor": 0,
  "metadata": {
    "colab": {
      "name": "1.14_modify_dataframe_element.ipynb",
      "provenance": [],
      "authorship_tag": "ABX9TyPZ+XQK8YA8m/+3tVfC7s+s",
      "include_colab_link": true
    },
    "kernelspec": {
      "name": "python3",
      "display_name": "Python 3"
    },
    "language_info": {
      "name": "python"
    }
  },
  "cells": [
    {
      "cell_type": "markdown",
      "metadata": {
        "id": "view-in-github",
        "colab_type": "text"
      },
      "source": [
        "<a href=\"https://colab.research.google.com/github/lala991204/pandas/blob/master/1_14_modify_dataframe_element.ipynb\" target=\"_parent\"><img src=\"https://colab.research.google.com/assets/colab-badge.svg\" alt=\"Open In Colab\"/></a>"
      ]
    },
    {
      "cell_type": "code",
      "metadata": {
        "colab": {
          "base_uri": "https://localhost:8080/"
        },
        "id": "Tu9yojraum_9",
        "outputId": "de5ac1d5-f9de-46a8-91b6-bc869f320e9a"
      },
      "source": [
        "import pandas as pd\n",
        "\n",
        "# DataFrame() 함수로 데이터프레임 변환. 변수 df에 저장\n",
        "exam_data = {'이름' : ['서준', '우현', '인아'],\n",
        "             '수학' : [90, 80, 70],\n",
        "             '영어' : [98, 89, 95],\n",
        "             '음악' : [85, 95, 100],\n",
        "             '체육' : [100, 90, 90]}\n",
        "df = pd.DataFrame(exam_data)\n",
        "\n",
        "# '이름' 열을 새로운 인덱스로 지정하고, df 객체에 변경사항 반영\n",
        "df.set_index('이름', inplace=True)\n",
        "print(df)\n",
        "print('\\n')\n",
        "\n",
        "# 데이터프레임 df의 특정 원소를 변경하는 방법: '서준'의 '체육' 점수\n",
        "df.iloc[0][3] = 80\n",
        "print(df)\n",
        "print('\\n')\n",
        "\n",
        "df.loc['서준']['체육'] = 90\n",
        "print(df)\n",
        "print('\\n')\n",
        "\n",
        "df.loc['서준','체육'] = 100\n",
        "print(df)"
      ],
      "execution_count": 2,
      "outputs": [
        {
          "output_type": "stream",
          "name": "stdout",
          "text": [
            "    수학  영어   음악   체육\n",
            "이름                  \n",
            "서준  90  98   85  100\n",
            "우현  80  89   95   90\n",
            "인아  70  95  100   90\n",
            "\n",
            "\n",
            "    수학  영어   음악  체육\n",
            "이름                 \n",
            "서준  90  98   85  80\n",
            "우현  80  89   95  90\n",
            "인아  70  95  100  90\n",
            "\n",
            "\n",
            "    수학  영어   음악  체육\n",
            "이름                 \n",
            "서준  90  98   85  90\n",
            "우현  80  89   95  90\n",
            "인아  70  95  100  90\n",
            "\n",
            "\n",
            "    수학  영어   음악   체육\n",
            "이름                  \n",
            "서준  90  98   85  100\n",
            "우현  80  89   95   90\n",
            "인아  70  95  100   90\n"
          ]
        }
      ]
    },
    {
      "cell_type": "code",
      "metadata": {
        "colab": {
          "base_uri": "https://localhost:8080/"
        },
        "id": "FozoHj4vwLm6",
        "outputId": "c53ec6b9-4707-45d3-d490-939234eec55c"
      },
      "source": [
        "# 데이터프레임 df의 원소 여러 개를 변경하는 방법: '서준'의 '음악', '체육' 점수\n",
        "df.loc['서준', ['음악', '체육']] = 50\n",
        "print(df)\n",
        "print('\\n')\n",
        "\n",
        "df.loc['서준', ['음악', '체육']] = 100, 50\n",
        "print(df)"
      ],
      "execution_count": 3,
      "outputs": [
        {
          "output_type": "stream",
          "name": "stdout",
          "text": [
            "    수학  영어   음악  체육\n",
            "이름                 \n",
            "서준  90  98   50  50\n",
            "우현  80  89   95  90\n",
            "인아  70  95  100  90\n",
            "\n",
            "\n",
            "    수학  영어   음악  체육\n",
            "이름                 \n",
            "서준  90  98  100  50\n",
            "우현  80  89   95  90\n",
            "인아  70  95  100  90\n"
          ]
        }
      ]
    },
    {
      "cell_type": "code",
      "metadata": {
        "id": "ELjVFKUQw8Td"
      },
      "source": [
        ""
      ],
      "execution_count": null,
      "outputs": []
    }
  ]
}