{
  "nbformat": 4,
  "nbformat_minor": 0,
  "metadata": {
    "colab": {
      "name": "5.14_normalize_min_max.ipynb",
      "provenance": [],
      "mount_file_id": "1PXO7BSU_Tb6lczPt_aEWfc8TRxcYjZUy",
      "authorship_tag": "ABX9TyNG9EnGCXiz6ilc3egLcrWB",
      "include_colab_link": true
    },
    "kernelspec": {
      "name": "python3",
      "display_name": "Python 3"
    },
    "language_info": {
      "name": "python"
    }
  },
  "cells": [
    {
      "cell_type": "markdown",
      "metadata": {
        "id": "view-in-github",
        "colab_type": "text"
      },
      "source": [
        "<a href=\"https://colab.research.google.com/github/lala991204/pandas/blob/master/5_14_normalize_min_max.ipynb\" target=\"_parent\"><img src=\"https://colab.research.google.com/assets/colab-badge.svg\" alt=\"Open In Colab\"/></a>"
      ]
    },
    {
      "cell_type": "code",
      "metadata": {
        "colab": {
          "base_uri": "https://localhost:8080/"
        },
        "id": "vyk-RexuNy83",
        "outputId": "36b1df01-519c-466c-ce88-452327ca0ff7"
      },
      "source": [
        "# 라이브러리 불러오기\n",
        "import pandas as pd\n",
        "import numpy as np\n",
        "\n",
        "# read_csv() 함수로 df 생성\n",
        "df= pd.read_csv('/content/drive/MyDrive/Colab Notebooks/pandas/auto-mpg.csv')\n",
        "\n",
        "# 열 이름을 지정\n",
        "df.columns = ['mpg', 'cylinders', 'displacement', 'horsepower', 'weight',\n",
        "              'acceleration', 'model year', 'origin', 'name']\n",
        "\n",
        "# horsepower 열의 누락 데이터('?') 삭제하고 실수형으로 변환\n",
        "df['horsepower'].replace('?', np.nan, inplace=True)           # '?' 을 np.nan 으로 변경\n",
        "df.dropna(subset=['horsepower'], axis=0, inplace=True)       # 누락데이터 행을 삭제\n",
        "df['horsepower'] = df['horsepower'].astype('float')          # 문자열을 실수형으로 변환\n",
        "\n",
        "# horsepower 열의 통계 요약정보로 최대값(max)과 최소값(min)을 확인\n",
        "print(df.horsepower.describe())\n",
        "print('\\n')\n",
        "\n",
        "# horsepower 열의 최대값의 절대값으로 모든 데이터를 나눠서 저장\n",
        "min_x = df.horsepower - df.horsepower.min()\n",
        "min_max = df.horsepower.max() - df.horsepower.min()\n",
        "df.horsepower = min_x / min_max\n",
        "\n",
        "print(df.horsepower.head())\n",
        "print('\\n')\n",
        "print(df.horsepower.describe())"
      ],
      "execution_count": 1,
      "outputs": [
        {
          "output_type": "stream",
          "name": "stdout",
          "text": [
            "count    391.000000\n",
            "mean     104.404092\n",
            "std       38.518732\n",
            "min       46.000000\n",
            "25%       75.000000\n",
            "50%       93.000000\n",
            "75%      125.000000\n",
            "max      230.000000\n",
            "Name: horsepower, dtype: float64\n",
            "\n",
            "\n",
            "0    0.646739\n",
            "1    0.565217\n",
            "2    0.565217\n",
            "3    0.510870\n",
            "4    0.826087\n",
            "Name: horsepower, dtype: float64\n",
            "\n",
            "\n",
            "count    391.000000\n",
            "mean       0.317414\n",
            "std        0.209341\n",
            "min        0.000000\n",
            "25%        0.157609\n",
            "50%        0.255435\n",
            "75%        0.429348\n",
            "max        1.000000\n",
            "Name: horsepower, dtype: float64\n"
          ]
        }
      ]
    },
    {
      "cell_type": "code",
      "metadata": {
        "id": "bV0RyUmTOyqW"
      },
      "source": [
        ""
      ],
      "execution_count": null,
      "outputs": []
    }
  ]
}