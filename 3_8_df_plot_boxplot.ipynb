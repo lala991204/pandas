{
  "nbformat": 4,
  "nbformat_minor": 0,
  "metadata": {
    "colab": {
      "name": "3.8_df_plot_boxplot.ipynb",
      "provenance": [],
      "mount_file_id": "15GunSCqbyjgM11CDOq5b08oVn0ZdFrLC",
      "authorship_tag": "ABX9TyOmAVyeGUjFSvOTgAHZaiez",
      "include_colab_link": true
    },
    "kernelspec": {
      "name": "python3",
      "display_name": "Python 3"
    },
    "language_info": {
      "name": "python"
    }
  },
  "cells": [
    {
      "cell_type": "markdown",
      "metadata": {
        "id": "view-in-github",
        "colab_type": "text"
      },
      "source": [
        "<a href=\"https://colab.research.google.com/github/lala991204/pandas/blob/master/3_8_df_plot_boxplot.ipynb\" target=\"_parent\"><img src=\"https://colab.research.google.com/assets/colab-badge.svg\" alt=\"Open In Colab\"/></a>"
      ]
    },
    {
      "cell_type": "code",
      "metadata": {
        "colab": {
          "base_uri": "https://localhost:8080/",
          "height": 283
        },
        "id": "THKqM-h_xdUj",
        "outputId": "9b6c8334-112c-4030-8939-6b811c71d133"
      },
      "source": [
        "import pandas as pd\n",
        "\n",
        "# read_csv() 함수로 df 생성\n",
        "df = pd.read_csv('/content/drive/MyDrive/Colab Notebooks/pandas/auto-mpg.csv', header=None)\n",
        "\n",
        "# 열 이름 지정\n",
        "df.columns = ['mpg', 'cylinders', 'displacement', 'horsepower', 'weight',\n",
        "              'acceleration', 'model year', 'origin', 'name']\n",
        "\n",
        "# 열을 선택하여 박스 플롯 그리기\n",
        "df[['mpg', 'cylinders']].plot(kind='box')"
      ],
      "execution_count": 2,
      "outputs": [
        {
          "output_type": "execute_result",
          "data": {
            "text/plain": [
              "<matplotlib.axes._subplots.AxesSubplot at 0x7f2a80c38490>"
            ]
          },
          "metadata": {},
          "execution_count": 2
        },
        {
          "output_type": "display_data",
          "data": {
            "image/png": "[encoded data removed]",
            "text/plain": [
              "<Figure size 432x288 with 1 Axes>"
            ]
          },
          "metadata": {
            "needs_background": "light"
          }
        }
      ]
    },
    {
      "cell_type": "code",
      "metadata": {
        "id": "hUd4Kjb0x9Bl"
      },
      "source": [
        ""
      ],
      "execution_count": null,
      "outputs": []
    }
  ]
}