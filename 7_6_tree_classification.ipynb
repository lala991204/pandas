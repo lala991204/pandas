{
  "nbformat": 4,
  "nbformat_minor": 0,
  "metadata": {
    "colab": {
      "name": "7.6_tree_classification.ipynb",
      "provenance": [],
      "collapsed_sections": [],
      "toc_visible": true,
      "authorship_tag": "ABX9TyMK+PfiSuS9dRGmZYOf68Hi",
      "include_colab_link": true
    },
    "kernelspec": {
      "name": "python3",
      "display_name": "Python 3"
    },
    "language_info": {
      "name": "python"
    }
  },
  "cells": [
    {
      "cell_type": "markdown",
      "metadata": {
        "id": "view-in-github",
        "colab_type": "text"
      },
      "source": [
        "<a href=\"https://colab.research.google.com/github/lala991204/pandas/blob/master/7_6_tree_classification.ipynb\" target=\"_parent\"><img src=\"https://colab.research.google.com/assets/colab-badge.svg\" alt=\"Open In Colab\"/></a>"
      ]
    },
    {
      "cell_type": "code",
      "metadata": {
        "colab": {
          "base_uri": "https://localhost:8080/"
        },
        "id": "0aQy-Wb80bwS",
        "outputId": "d0db3145-6f3d-49de-c02b-90aa658aefa5"
      },
      "source": [
        "### 기본 라이브러리 불러오기\n",
        "import pandas as pd\n",
        "import numpy as np\n",
        "\n",
        "'''\n",
        "[Step 1] 데이터 준비/기본 설정\n",
        "'''\n",
        "\n",
        "# Breast Cancer 데이터셋 가져오기(출처: UCI ML Repository)\n",
        "uci_path = 'https://archive.ics.uci.edu/ml/machine-learning-databases/breast-cancer-wisconsin/breast-cancer-wisconsin.data'\n",
        "df = pd.read_csv(uci_path, header=None)\n",
        "\n",
        "# 열 이름 지정\n",
        "df.columns = ['id', 'clump', 'cell_size', 'cell_shape', 'adhesion', 'epithlial',\n",
        "              'bare_nuclei', 'chromatin', 'normal_nucleoli', 'mitoses', 'class']\n",
        "\n",
        "# IPython 디스플레이 설정 - 출력할 열의 개수 한도 늘리기\n",
        "pd.set_option('display.max_columns', 15)\n",
        "\n",
        "'''\n",
        "[Step 2] 데이터 탐색\n",
        "'''\n",
        "\n",
        "# 데이터 살펴보기\n",
        "print(df.head())\n",
        "print('\\n')\n",
        "\n",
        "# 데이터 자료형 확인\n",
        "print(df.info())\n",
        "print('\\n')\n",
        "\n",
        "# 데이터 통계 요약 정보 확인\n",
        "print(df.describe())"
      ],
      "execution_count": 2,
      "outputs": [
        {
          "output_type": "stream",
          "name": "stdout",
          "text": [
            "        id  clump  cell_size  cell_shape  adhesion  epithlial bare_nuclei  \\\n",
            "0  1000025      5          1           1         1          2           1   \n",
            "1  1002945      5          4           4         5          7          10   \n",
            "2  1015425      3          1           1         1          2           2   \n",
            "3  1016277      6          8           8         1          3           4   \n",
            "4  1017023      4          1           1         3          2           1   \n",
            "\n",
            "   chromatin  normal_nucleoli  mitoses  class  \n",
            "0          3                1        1      2  \n",
            "1          3                2        1      2  \n",
            "2          3                1        1      2  \n",
            "3          3                7        1      2  \n",
            "4          3                1        1      2  \n",
            "\n",
            "\n",
            "<class 'pandas.core.frame.DataFrame'>\n",
            "RangeIndex: 699 entries, 0 to 698\n",
            "Data columns (total 11 columns):\n",
            " #   Column           Non-Null Count  Dtype \n",
            "---  ------           --------------  ----- \n",
            " 0   id               699 non-null    int64 \n",
            " 1   clump            699 non-null    int64 \n",
            " 2   cell_size        699 non-null    int64 \n",
            " 3   cell_shape       699 non-null    int64 \n",
            " 4   adhesion         699 non-null    int64 \n",
            " 5   epithlial        699 non-null    int64 \n",
            " 6   bare_nuclei      699 non-null    object\n",
            " 7   chromatin        699 non-null    int64 \n",
            " 8   normal_nucleoli  699 non-null    int64 \n",
            " 9   mitoses          699 non-null    int64 \n",
            " 10  class            699 non-null    int64 \n",
            "dtypes: int64(10), object(1)\n",
            "memory usage: 60.2+ KB\n",
            "None\n",
            "\n",
            "\n",
            "                 id       clump   cell_size  cell_shape    adhesion  \\\n",
            "count  6.990000e+02  699.000000  699.000000  699.000000  699.000000   \n",
            "mean   1.071704e+06    4.417740    3.134478    3.207439    2.806867   \n",
            "std    6.170957e+05    2.815741    3.051459    2.971913    2.855379   \n",
            "min    6.163400e+04    1.000000    1.000000    1.000000    1.000000   \n",
            "25%    8.706885e+05    2.000000    1.000000    1.000000    1.000000   \n",
            "50%    1.171710e+06    4.000000    1.000000    1.000000    1.000000   \n",
            "75%    1.238298e+06    6.000000    5.000000    5.000000    4.000000   \n",
            "max    1.345435e+07   10.000000   10.000000   10.000000   10.000000   \n",
            "\n",
            "        epithlial   chromatin  normal_nucleoli     mitoses       class  \n",
            "count  699.000000  699.000000       699.000000  699.000000  699.000000  \n",
            "mean     3.216023    3.437768         2.866953    1.589413    2.689557  \n",
            "std      2.214300    2.438364         3.053634    1.715078    0.951273  \n",
            "min      1.000000    1.000000         1.000000    1.000000    2.000000  \n",
            "25%      2.000000    2.000000         1.000000    1.000000    2.000000  \n",
            "50%      2.000000    3.000000         1.000000    1.000000    2.000000  \n",
            "75%      4.000000    5.000000         4.000000    1.000000    4.000000  \n",
            "max     10.000000   10.000000        10.000000   10.000000    4.000000  \n"
          ]
        }
      ]
    },
    {
      "cell_type": "code",
      "metadata": {
        "colab": {
          "base_uri": "https://localhost:8080/"
        },
        "id": "rs9944Xw3Enq",
        "outputId": "c3b34537-a65d-41eb-aad7-ce28a2ecc064"
      },
      "source": [
        "# bare_nuclei 열의 자료형 변경(문자열 -> 숫자)\n",
        "print(df['bare_nuclei'].unique())                         # bare_nuclei 열의 고유값 확인\n",
        "print('\\n')\n",
        "\n",
        "df['bare_nuclei'].replace('?', np.nan, inplace=True)      # '?' 을 np.nan으로 변경\n",
        "df.dropna(subset=['bare_nuclei'], axis=0, inplace=True)   # 누락 데이터 행 삭제\n",
        "df['bare_nuclei'] = df['bare_nuclei'].astype('int')       # 문자열을 정수형으로 변환\n",
        "\n",
        "print(df.describe())"
      ],
      "execution_count": 3,
      "outputs": [
        {
          "output_type": "stream",
          "name": "stdout",
          "text": [
            "['1' '10' '2' '4' '3' '9' '7' '?' '5' '8' '6']\n",
            "\n",
            "\n",
            "                 id       clump   cell_size  cell_shape    adhesion  \\\n",
            "count  6.830000e+02  683.000000  683.000000  683.000000  683.000000   \n",
            "mean   1.076720e+06    4.442167    3.150805    3.215227    2.830161   \n",
            "std    6.206440e+05    2.820761    3.065145    2.988581    2.864562   \n",
            "min    6.337500e+04    1.000000    1.000000    1.000000    1.000000   \n",
            "25%    8.776170e+05    2.000000    1.000000    1.000000    1.000000   \n",
            "50%    1.171795e+06    4.000000    1.000000    1.000000    1.000000   \n",
            "75%    1.238705e+06    6.000000    5.000000    5.000000    4.000000   \n",
            "max    1.345435e+07   10.000000   10.000000   10.000000   10.000000   \n",
            "\n",
            "        epithlial  bare_nuclei   chromatin  normal_nucleoli     mitoses  \\\n",
            "count  683.000000   683.000000  683.000000       683.000000  683.000000   \n",
            "mean     3.234261     3.544656    3.445095         2.869693    1.603221   \n",
            "std      2.223085     3.643857    2.449697         3.052666    1.732674   \n",
            "min      1.000000     1.000000    1.000000         1.000000    1.000000   \n",
            "25%      2.000000     1.000000    2.000000         1.000000    1.000000   \n",
            "50%      2.000000     1.000000    3.000000         1.000000    1.000000   \n",
            "75%      4.000000     6.000000    5.000000         4.000000    1.000000   \n",
            "max     10.000000    10.000000   10.000000        10.000000   10.000000   \n",
            "\n",
            "            class  \n",
            "count  683.000000  \n",
            "mean     2.699854  \n",
            "std      0.954592  \n",
            "min      2.000000  \n",
            "25%      2.000000  \n",
            "50%      2.000000  \n",
            "75%      4.000000  \n",
            "max      4.000000  \n"
          ]
        }
      ]
    },
    {
      "cell_type": "code",
      "metadata": {
        "colab": {
          "base_uri": "https://localhost:8080/"
        },
        "id": "k0U6xiyI35U0",
        "outputId": "9fac15ff-5487-4a56-c675-d1565f91863d"
      },
      "source": [
        "'''\n",
        "[Step 3] 데이터 구분 - 훈련용(train data)/검증용(test data)\n",
        "'''\n",
        "\n",
        "# 속성(변수) 선택\n",
        "X=df[['clump', 'cell_size', 'cell_shape', 'adhesion', 'epithlial',\n",
        "      'bare_nuclei', 'chromatin', 'normal_nucleoli', 'mitoses']]         # 설명 변수 X\n",
        "y=df['class']                                                            # 예측 변수 y\n",
        "\n",
        "# 설명 변수 데이터 정규화\n",
        "from sklearn import preprocessing\n",
        "X = preprocessing.StandardScaler().fit(X).transform(X)\n",
        "\n",
        "# train data와 test data로 구분(7:3 비율)\n",
        "from sklearn.model_selection import train_test_split\n",
        "X_train, X_test, y_train, y_test = train_test_split(X, y, test_size=0.3, random_state=10)\n",
        "\n",
        "print('train data 개수: ', X_train.shape)\n",
        "print('test data 개수: ', X_test.shape)"
      ],
      "execution_count": 4,
      "outputs": [
        {
          "output_type": "stream",
          "name": "stdout",
          "text": [
            "train data 개수:  (478, 9)\n",
            "test data 개수:  (205, 9)\n"
          ]
        }
      ]
    },
    {
      "cell_type": "code",
      "metadata": {
        "colab": {
          "base_uri": "https://localhost:8080/"
        },
        "id": "mVPkuLg443_a",
        "outputId": "f27e13ee-6be1-4942-8173-220664f2425f"
      },
      "source": [
        "'''\n",
        "[Step 4] Decision Tree 분류 모형 - sklearn 사용\n",
        "'''\n",
        "\n",
        "# sklearn 라이브러리에서 Decision Tree 분류 모형 가져오기\n",
        "from sklearn import tree\n",
        "\n",
        "# 모형 객체 생성(criterion='entropy' 적용; 다른 종류 값들이 섞여 있는 정도를 나타냄) -> 낮을수록 분류 잘 된 것\n",
        "tree_model = tree.DecisionTreeClassifier(criterion='entropy', max_depth=5)   # 5단계까지 가지 확장 가능\n",
        "\n",
        "# train data를 가지고 모형 학습\n",
        "tree_model.fit(X_train, y_train)\n",
        "\n",
        "# test data를 가지고 y_hat 예측(분류)\n",
        "y_hat = tree_model.predict(X_test)        # 2: benign(양성), 4: malignant(악성)\n",
        "\n",
        "print(y_hat[0:10])\n",
        "print(y_test.values[0:10])"
      ],
      "execution_count": 6,
      "outputs": [
        {
          "output_type": "stream",
          "name": "stdout",
          "text": [
            "[4 4 4 4 4 4 2 2 4 4]\n",
            "[4 4 4 4 4 4 2 2 4 4]\n"
          ]
        }
      ]
    },
    {
      "cell_type": "code",
      "metadata": {
        "colab": {
          "base_uri": "https://localhost:8080/"
        },
        "id": "smSOAih355ws",
        "outputId": "39199be6-539b-4c06-c8bd-fdf347a5c5b9"
      },
      "source": [
        "# 모형 성능 평가 - Confusion Matrix 계산\n",
        "from sklearn import metrics\n",
        "tree_matrix = metrics.confusion_matrix(y_test, y_hat)\n",
        "print(tree_matrix)\n",
        "print('\\n')\n",
        "\n",
        "# 모형 성능 평가 - 평가 지표 계산\n",
        "tree_report = metrics.classification_report(y_test, y_hat)        # f1-score지표를 보아하니 예측 능력에 별 차이 없음/ 평균적으로 0.97의 정확도 가짐\n",
        "print(tree_report)"
      ],
      "execution_count": 7,
      "outputs": [
        {
          "output_type": "stream",
          "name": "stdout",
          "text": [
            "[[127   4]\n",
            " [  2  72]]\n",
            "\n",
            "\n",
            "              precision    recall  f1-score   support\n",
            "\n",
            "           2       0.98      0.97      0.98       131\n",
            "           4       0.95      0.97      0.96        74\n",
            "\n",
            "    accuracy                           0.97       205\n",
            "   macro avg       0.97      0.97      0.97       205\n",
            "weighted avg       0.97      0.97      0.97       205\n",
            "\n"
          ]
        }
      ]
    },
    {
      "cell_type": "code",
      "metadata": {
        "id": "NWPmChe-6N38"
      },
      "source": [
        ""
      ],
      "execution_count": null,
      "outputs": []
    }
  ]
}