{
  "nbformat": 4,
  "nbformat_minor": 0,
  "metadata": {
    "colab": {
      "name": "2.7_to_csv.ipynb",
      "provenance": [],
      "authorship_tag": "ABX9TyPwt76uU3YDsYAzJK6vFw4z",
      "include_colab_link": true
    },
    "kernelspec": {
      "name": "python3",
      "display_name": "Python 3"
    },
    "language_info": {
      "name": "python"
    }
  },
  "cells": [
    {
      "cell_type": "markdown",
      "metadata": {
        "id": "view-in-github",
        "colab_type": "text"
      },
      "source": [
        "<a href=\"https://colab.research.google.com/github/lala991204/pandas/blob/master/2_7_to_csv.ipynb\" target=\"_parent\"><img src=\"https://colab.research.google.com/assets/colab-badge.svg\" alt=\"Open In Colab\"/></a>"
      ]
    },
    {
      "cell_type": "code",
      "metadata": {
        "id": "P8P_qdejbMg1",
        "colab": {
          "base_uri": "https://localhost:8080/"
        },
        "outputId": "1b45febe-bf98-4232-a818-cf2b120085c7"
      },
      "source": [
        "import pandas as pd\n",
        "\n",
        "# 판다스 DataFrame() 함수로 데이터프레임 변환. 변수 df에 저장\n",
        "data = {'name' : ['Jerry', 'Riah', 'Paul'],\n",
        "        'algol': [\"A\", \"A+\", \"B\"],\n",
        "        'basic' : [\"C\", \"B\", \"B+\"],\n",
        "        'c++' : [\"B+\", \"C\", \"C+\"],\n",
        "        }\n",
        "\n",
        "df = pd.DataFrame(data)\n",
        "df.set_index('name', inplace=True)     # name 열을 인덱스로 지정\n",
        "print(df)\n",
        "\n",
        "# to_csv() 메소드를 사용하여 csv 파일로 내보내기. 파일명은 df_sample.csv로 저장\n",
        "df.to_csv(\"/content/drive/MyDrive/Colab Notebooks/pandas/df_sample.csv\")"
      ],
      "execution_count": 2,
      "outputs": [
        {
          "output_type": "stream",
          "name": "stdout",
          "text": [
            "      algol basic c++\n",
            "name                 \n",
            "Jerry     A     C  B+\n",
            "Riah     A+     B   C\n",
            "Paul      B    B+  C+\n"
          ]
        }
      ]
    },
    {
      "cell_type": "code",
      "metadata": {
        "id": "cDQ6DGK_ger8"
      },
      "source": [
        ""
      ],
      "execution_count": null,
      "outputs": []
    }
  ]
}