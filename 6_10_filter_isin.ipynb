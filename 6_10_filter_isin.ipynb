{
  "nbformat": 4,
  "nbformat_minor": 0,
  "metadata": {
    "colab": {
      "name": "6.10_filter_isin.ipynb",
      "provenance": [],
      "collapsed_sections": [],
      "toc_visible": true,
      "authorship_tag": "ABX9TyOivKL+U74Ytjy5hoEg8owq",
      "include_colab_link": true
    },
    "kernelspec": {
      "name": "python3",
      "display_name": "Python 3"
    },
    "language_info": {
      "name": "python"
    }
  },
  "cells": [
    {
      "cell_type": "markdown",
      "metadata": {
        "id": "view-in-github",
        "colab_type": "text"
      },
      "source": [
        "<a href=\"https://colab.research.google.com/github/lala991204/pandas/blob/master/6_10_filter_isin.ipynb\" target=\"_parent\"><img src=\"https://colab.research.google.com/assets/colab-badge.svg\" alt=\"Open In Colab\"/></a>"
      ]
    },
    {
      "cell_type": "code",
      "metadata": {
        "colab": {
          "base_uri": "https://localhost:8080/"
        },
        "id": "EwrQhtz5DtMU",
        "outputId": "97ad27b5-b2be-4905-dca7-7518f5ea9aa1"
      },
      "source": [
        "# 라이브러리 불러오기\n",
        "import seaborn as sns\n",
        "import pandas as pd\n",
        "\n",
        "# titanic 데이터셋 로딩\n",
        "titanic = sns.load_dataset('titanic')\n",
        "\n",
        "# IPython 디스플레이 설정 변경 - 출력할 최대 열의 개수\n",
        "pd.set_option('display.max_columns', 10)\n",
        "\n",
        "# 함께 탑승한 형제 또는 배우자의 수가 3, 4, 5인 승객만 따로 추출 - 불린 인덱싱\n",
        "mask3 = titanic['sibsp'] == 3\n",
        "mask4 = titanic['sibsp'] == 4\n",
        "mask5 = titanic['sibsp'] == 5\n",
        "df_boolean = titanic[mask3 | mask4 | mask5]\n",
        "print(df_boolean.head())\n",
        "print('\\n')\n",
        "\n",
        "# isin() 메서드 활용하여 동일한 조건으로 추출\n",
        "isin_filter = titanic['sibsp'].isin([3, 4, 5])\n",
        "df_isin = titanic[isin_filter]\n",
        "print(df_isin.head())"
      ],
      "execution_count": 1,
      "outputs": [
        {
          "output_type": "stream",
          "name": "stdout",
          "text": [
            "    survived  pclass     sex   age  sibsp  ...  adult_male  deck  embark_town  \\\n",
            "7          0       3    male   2.0      3  ...       False   NaN  Southampton   \n",
            "16         0       3    male   2.0      4  ...       False   NaN   Queenstown   \n",
            "24         0       3  female   8.0      3  ...       False   NaN  Southampton   \n",
            "27         0       1    male  19.0      3  ...        True     C  Southampton   \n",
            "50         0       3    male   7.0      4  ...       False   NaN  Southampton   \n",
            "\n",
            "   alive  alone  \n",
            "7     no  False  \n",
            "16    no  False  \n",
            "24    no  False  \n",
            "27    no  False  \n",
            "50    no  False  \n",
            "\n",
            "[5 rows x 15 columns]\n",
            "\n",
            "\n",
            "    survived  pclass     sex   age  sibsp  ...  adult_male  deck  embark_town  \\\n",
            "7          0       3    male   2.0      3  ...       False   NaN  Southampton   \n",
            "16         0       3    male   2.0      4  ...       False   NaN   Queenstown   \n",
            "24         0       3  female   8.0      3  ...       False   NaN  Southampton   \n",
            "27         0       1    male  19.0      3  ...        True     C  Southampton   \n",
            "50         0       3    male   7.0      4  ...       False   NaN  Southampton   \n",
            "\n",
            "   alive  alone  \n",
            "7     no  False  \n",
            "16    no  False  \n",
            "24    no  False  \n",
            "27    no  False  \n",
            "50    no  False  \n",
            "\n",
            "[5 rows x 15 columns]\n"
          ]
        }
      ]
    }
  ]
}