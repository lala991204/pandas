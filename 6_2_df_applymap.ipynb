{
  "nbformat": 4,
  "nbformat_minor": 0,
  "metadata": {
    "colab": {
      "name": "6.2_df_applymap.ipynb",
      "provenance": [],
      "toc_visible": true,
      "authorship_tag": "ABX9TyOEZoZB1fKgruZOPrMJu/JQ",
      "include_colab_link": true
    },
    "kernelspec": {
      "name": "python3",
      "display_name": "Python 3"
    },
    "language_info": {
      "name": "python"
    }
  },
  "cells": [
    {
      "cell_type": "markdown",
      "metadata": {
        "id": "view-in-github",
        "colab_type": "text"
      },
      "source": [
        "<a href=\"https://colab.research.google.com/github/lala991204/pandas/blob/master/6_2_df_applymap.ipynb\" target=\"_parent\"><img src=\"https://colab.research.google.com/assets/colab-badge.svg\" alt=\"Open In Colab\"/></a>"
      ]
    },
    {
      "cell_type": "code",
      "metadata": {
        "colab": {
          "base_uri": "https://localhost:8080/"
        },
        "id": "cwnO_lf2rCe9",
        "outputId": "f01d0ba9-37a5-4f41-d54a-ca2a6fb244a6"
      },
      "source": [
        "# 라이브러리 불러오기\n",
        "import seaborn as sns\n",
        "\n",
        "# titanic 데이터셋에서 age, fare 2개 열을 선택하여 데이터프레임 만들기\n",
        "titanic = sns.load_dataset('titanic')\n",
        "df = titanic.loc[:, ['age','fare']]\n",
        "print(df.head())\n",
        "print('\\n')\n",
        "\n",
        "# 사용자 함수 정의\n",
        "def add_10(n):              # 10을 더하는 함수\n",
        "    return n + 10\n",
        "\n",
        "# 데이터프레임에 add_10() 함수를 매핑 적용\n",
        "df_map = df.applymap(add_10)\n",
        "print(df_map.head())"
      ],
      "execution_count": null,
      "outputs": [
        {
          "output_type": "stream",
          "name": "stdout",
          "text": [
            "    age     fare\n",
            "0  22.0   7.2500\n",
            "1  38.0  71.2833\n",
            "2  26.0   7.9250\n",
            "3  35.0  53.1000\n",
            "4  35.0   8.0500\n",
            "\n",
            "\n",
            "    age     fare\n",
            "0  32.0  17.2500\n",
            "1  48.0  81.2833\n",
            "2  36.0  17.9250\n",
            "3  45.0  63.1000\n",
            "4  45.0  18.0500\n"
          ]
        }
      ]
    }
  ]
}