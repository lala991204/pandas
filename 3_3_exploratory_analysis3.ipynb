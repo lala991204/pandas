{
  "nbformat": 4,
  "nbformat_minor": 0,
  "metadata": {
    "colab": {
      "name": "3.3_exploratory_analysis3.ipynb",
      "provenance": [],
      "mount_file_id": "1OKovUI_7LYJJijNeJialv9eU6PY9snIy",
      "authorship_tag": "ABX9TyPuZMQJp4T+VxcC5mpLafCX",
      "include_colab_link": true
    },
    "kernelspec": {
      "name": "python3",
      "display_name": "Python 3"
    },
    "language_info": {
      "name": "python"
    }
  },
  "cells": [
    {
      "cell_type": "markdown",
      "metadata": {
        "id": "view-in-github",
        "colab_type": "text"
      },
      "source": [
        "<a href=\"https://colab.research.google.com/github/lala991204/pandas/blob/master/3_3_exploratory_analysis3.ipynb\" target=\"_parent\"><img src=\"https://colab.research.google.com/assets/colab-badge.svg\" alt=\"Open In Colab\"/></a>"
      ]
    },
    {
      "cell_type": "code",
      "metadata": {
        "colab": {
          "base_uri": "https://localhost:8080/"
        },
        "id": "10ch6d1kf82-",
        "outputId": "8026a035-00c8-4c36-d75f-8640177d6358"
      },
      "source": [
        "import pandas as pd\n",
        "\n",
        "# read_csv() 함수로 df 생성\n",
        "df = pd.read_csv('/content/drive/MyDrive/Colab Notebooks/pandas/auto-mpg.csv', header=None)\n",
        "\n",
        "# 열 이름 지정\n",
        "df.columns = ['mpg', 'cylinders', 'displacement', 'horsepower', 'weight',\n",
        "              'acceleration', 'model year', 'origin', 'name']\n",
        "\n",
        "# 평균값\n",
        "print(df.mean())\n",
        "print('\\n')\n",
        "print(df['mpg'].mean())\n",
        "print(df.mpg.mean())\n",
        "print('\\n')\n",
        "print(df[['mpg', 'weight']].mean())"
      ],
      "execution_count": 1,
      "outputs": [
        {
          "output_type": "stream",
          "name": "stdout",
          "text": [
            "mpg               23.514573\n",
            "cylinders          5.454774\n",
            "displacement     193.425879\n",
            "weight          2970.424623\n",
            "acceleration      15.568090\n",
            "model year        76.010050\n",
            "origin             1.572864\n",
            "dtype: float64\n",
            "\n",
            "\n",
            "23.514572864321615\n",
            "23.514572864321615\n",
            "\n",
            "\n",
            "mpg         23.514573\n",
            "weight    2970.424623\n",
            "dtype: float64\n"
          ]
        }
      ]
    },
    {
      "cell_type": "code",
      "metadata": {
        "colab": {
          "base_uri": "https://localhost:8080/"
        },
        "id": "Js3Fr7vMiPyv",
        "outputId": "aae0f0cd-23a5-4183-8641-0b53295360c2"
      },
      "source": [
        "# 중간값\n",
        "print(df.median())\n",
        "print('\\n')\n",
        "print(df['mpg'].median())"
      ],
      "execution_count": 2,
      "outputs": [
        {
          "output_type": "stream",
          "name": "stdout",
          "text": [
            "mpg               23.0\n",
            "cylinders          4.0\n",
            "displacement     148.5\n",
            "weight          2803.5\n",
            "acceleration      15.5\n",
            "model year        76.0\n",
            "origin             1.0\n",
            "dtype: float64\n",
            "\n",
            "\n",
            "23.0\n"
          ]
        }
      ]
    },
    {
      "cell_type": "code",
      "metadata": {
        "colab": {
          "base_uri": "https://localhost:8080/"
        },
        "id": "xbrpWRsgichi",
        "outputId": "b78b80f2-f66e-46da-db39-5fa68ebc446a"
      },
      "source": [
        "# 최대값\n",
        "print(df.max())\n",
        "print('\\n')\n",
        "print(df['mpg'].max())"
      ],
      "execution_count": 3,
      "outputs": [
        {
          "output_type": "stream",
          "name": "stdout",
          "text": [
            "mpg                         46.6\n",
            "cylinders                      8\n",
            "displacement                 455\n",
            "horsepower                     ?\n",
            "weight                      5140\n",
            "acceleration                24.8\n",
            "model year                    82\n",
            "origin                         3\n",
            "name            vw rabbit custom\n",
            "dtype: object\n",
            "\n",
            "\n",
            "46.6\n"
          ]
        }
      ]
    },
    {
      "cell_type": "code",
      "metadata": {
        "colab": {
          "base_uri": "https://localhost:8080/"
        },
        "id": "gysdaPH-ipdP",
        "outputId": "27cb8cd9-421b-4fdf-b50e-ad383705c06b"
      },
      "source": [
        "# 최소값\n",
        "print(df.min())\n",
        "print('\\n')\n",
        "print(df['mpg'].min())"
      ],
      "execution_count": 4,
      "outputs": [
        {
          "output_type": "stream",
          "name": "stdout",
          "text": [
            "mpg                                   9\n",
            "cylinders                             3\n",
            "displacement                         68\n",
            "horsepower                        100.0\n",
            "weight                             1613\n",
            "acceleration                          8\n",
            "model year                           70\n",
            "origin                                1\n",
            "name            amc ambassador brougham\n",
            "dtype: object\n",
            "\n",
            "\n",
            "9.0\n"
          ]
        }
      ]
    },
    {
      "cell_type": "code",
      "metadata": {
        "colab": {
          "base_uri": "https://localhost:8080/"
        },
        "id": "m4Bn0WpckWw7",
        "outputId": "65d1b48a-5758-469b-996d-91458e7b04f0"
      },
      "source": [
        "# 표준편차\n",
        "print(df.std())\n",
        "print('\\n')\n",
        "print(df['mpg'].std())"
      ],
      "execution_count": 5,
      "outputs": [
        {
          "output_type": "stream",
          "name": "stdout",
          "text": [
            "mpg               7.815984\n",
            "cylinders         1.701004\n",
            "displacement    104.269838\n",
            "weight          846.841774\n",
            "acceleration      2.757689\n",
            "model year        3.697627\n",
            "origin            0.802055\n",
            "dtype: float64\n",
            "\n",
            "\n",
            "7.815984312565782\n"
          ]
        }
      ]
    },
    {
      "cell_type": "code",
      "metadata": {
        "colab": {
          "base_uri": "https://localhost:8080/"
        },
        "id": "HJfl7nqXkeSs",
        "outputId": "827bfd47-6007-4131-c713-53ef056ebfe6"
      },
      "source": [
        "# 상관계수\n",
        "print(df.corr())\n",
        "print('\\n')\n",
        "print(df[['mpg', 'weight']].corr())"
      ],
      "execution_count": 6,
      "outputs": [
        {
          "output_type": "stream",
          "name": "stdout",
          "text": [
            "                   mpg  cylinders  ...  model year    origin\n",
            "mpg           1.000000  -0.775396  ...    0.579267  0.563450\n",
            "cylinders    -0.775396   1.000000  ...   -0.348746 -0.562543\n",
            "displacement -0.804203   0.950721  ...   -0.370164 -0.609409\n",
            "weight       -0.831741   0.896017  ...   -0.306564 -0.581024\n",
            "acceleration  0.420289  -0.505419  ...    0.288137  0.205873\n",
            "model year    0.579267  -0.348746  ...    1.000000  0.180662\n",
            "origin        0.563450  -0.562543  ...    0.180662  1.000000\n",
            "\n",
            "[7 rows x 7 columns]\n",
            "\n",
            "\n",
            "             mpg    weight\n",
            "mpg     1.000000 -0.831741\n",
            "weight -0.831741  1.000000\n"
          ]
        }
      ]
    },
    {
      "cell_type": "code",
      "metadata": {
        "id": "JRoOTQrnpKbx"
      },
      "source": [
        ""
      ],
      "execution_count": null,
      "outputs": []
    }
  ]
}