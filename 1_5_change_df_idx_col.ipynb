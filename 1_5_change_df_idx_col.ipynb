{
  "nbformat": 4,
  "nbformat_minor": 0,
  "metadata": {
    "colab": {
      "name": "1.5_change_df_idx_col.ipynb",
      "provenance": [],
      "authorship_tag": "ABX9TyN+dfA8ETU5eDDeCqPaPxLZ",
      "include_colab_link": true
    },
    "kernelspec": {
      "name": "python3",
      "display_name": "Python 3"
    },
    "language_info": {
      "name": "python"
    }
  },
  "cells": [
    {
      "cell_type": "markdown",
      "metadata": {
        "id": "view-in-github",
        "colab_type": "text"
      },
      "source": [
        "<a href=\"https://colab.research.google.com/github/lala991204/pandas/blob/master/1_5_change_df_idx_col.ipynb\" target=\"_parent\"><img src=\"https://colab.research.google.com/assets/colab-badge.svg\" alt=\"Open In Colab\"/></a>"
      ]
    },
    {
      "cell_type": "code",
      "metadata": {
        "colab": {
          "base_uri": "https://localhost:8080/"
        },
        "id": "XEtFteS2zL3L",
        "outputId": "5958991b-8766-4465-ffc1-f58b37111fe4"
      },
      "source": [
        "import pandas as pd\n",
        "\n",
        "# 행 인덱스/열 이름 지정하여 데이터프레임 만들기\n",
        "df = pd.DataFrame([[15, '남', '덕영중'], [17, '여', '수리중']],\n",
        "                  index=['준서', '예은'],\n",
        "                  columns=['나이', '성별', '학교'])\n",
        "\n",
        "# 행 인덱스, 열 이름 확인하기\n",
        "print(df)            # 데이터프레임\n",
        "print('\\n')\n",
        "print(df.index)      # 행 인덱스\n",
        "print('\\n')\n",
        "print(df.columns)    # 열 이름"
      ],
      "execution_count": 1,
      "outputs": [
        {
          "output_type": "stream",
          "name": "stdout",
          "text": [
            "    나이 성별   학교\n",
            "준서  15  남  덕영중\n",
            "예은  17  여  수리중\n",
            "\n",
            "\n",
            "Index(['준서', '예은'], dtype='object')\n",
            "\n",
            "\n",
            "Index(['나이', '성별', '학교'], dtype='object')\n"
          ]
        }
      ]
    },
    {
      "cell_type": "code",
      "metadata": {
        "colab": {
          "base_uri": "https://localhost:8080/"
        },
        "id": "twR_D5X90GZN",
        "outputId": "ebac533d-a438-46be-a01a-2db64220be0f"
      },
      "source": [
        "# 행 인덱스, 열 이름 변경하기\n",
        "df.index=['학생1', '학생2']\n",
        "df.columns=['연령', '남녀', '소속']\n",
        "\n",
        "print(df)          # 데이터프레임\n",
        "print('\\n')\n",
        "print(df.index)    # 행 인덱스\n",
        "print('\\n')\n",
        "print(df.columns)  # 열 이름"
      ],
      "execution_count": 3,
      "outputs": [
        {
          "output_type": "stream",
          "name": "stdout",
          "text": [
            "     연령 남녀   소속\n",
            "학생1  15  남  덕영중\n",
            "학생2  17  여  수리중\n",
            "\n",
            "\n",
            "Index(['학생1', '학생2'], dtype='object')\n",
            "\n",
            "\n",
            "Index(['연령', '남녀', '소속'], dtype='object')\n"
          ]
        }
      ]
    },
    {
      "cell_type": "code",
      "metadata": {
        "id": "9kDWvcZW0Y8p"
      },
      "source": [
        ""
      ],
      "execution_count": null,
      "outputs": []
    }
  ]
}