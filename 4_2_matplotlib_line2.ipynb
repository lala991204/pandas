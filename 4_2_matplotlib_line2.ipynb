{
  "nbformat": 4,
  "nbformat_minor": 0,
  "metadata": {
    "colab": {
      "name": "4.2_matplotlib_line2.ipynb",
      "provenance": [],
      "mount_file_id": "1MkJ5iZfmTbBPpN7KtC8Wdloj7hX58wUR",
      "authorship_tag": "ABX9TyMuuHXX1zwrcFUK+g2T91NK",
      "include_colab_link": true
    },
    "kernelspec": {
      "name": "python3",
      "display_name": "Python 3"
    },
    "language_info": {
      "name": "python"
    }
  },
  "cells": [
    {
      "cell_type": "markdown",
      "metadata": {
        "id": "view-in-github",
        "colab_type": "text"
      },
      "source": [
        "<a href=\"https://colab.research.google.com/github/lala991204/pandas/blob/master/4_2_matplotlib_line2.ipynb\" target=\"_parent\"><img src=\"https://colab.research.google.com/assets/colab-badge.svg\" alt=\"Open In Colab\"/></a>"
      ]
    },
    {
      "cell_type": "code",
      "metadata": {
        "id": "pYBLpgfI_oO8"
      },
      "source": [
        "# 라이브러리 불러오기\n",
        "import pandas as pd\n",
        "import matplotlib.pyplot as plt\n",
        "\n",
        "# Excel 데이터를 데이터프레임으로 변환\n",
        "df = pd.read_excel(\"/content/drive/MyDrive/Colab Notebooks/pandas/시도별 전출입 인구수.xlsx\", engine='openpyxl', header=0)"
      ],
      "execution_count": 2,
      "outputs": []
    },
    {
      "cell_type": "code",
      "metadata": {
        "colab": {
          "base_uri": "https://localhost:8080/"
        },
        "id": "EVuywGuBCzZC",
        "outputId": "806b301b-0c1e-4169-ff8d-2d71ee39b2dd"
      },
      "source": [
        "# 누락값(NaN)을 앞 데이터로 채움(엑셀 양식 병합 부분)\n",
        "df = df.fillna(method='ffill')\n",
        "\n",
        "# 서울에서 다른 지역으로 이동한 데이터만 추출하여 정리\n",
        "mask = (df['전출지별'] == '서울특별시') & (df['전입지별'] != '서울특별시')\n",
        "df_seoul = df[mask]\n",
        "df_seoul = df_seoul.drop(['전출지별'], axis=1)\n",
        "df_seoul.rename({'전입지별':'전입지'}, axis=1, inplace=True)\n",
        "df_seoul.set_index('전입지', inplace=True)\n",
        "print(df_seoul.head(8))"
      ],
      "execution_count": 3,
      "outputs": [
        {
          "output_type": "stream",
          "name": "stdout",
          "text": [
            "            1970     1971     1972     1973  ...     2014     2015     2016     2017\n",
            "전입지                                          ...                                    \n",
            "전국       1448985  1419016  1210559  1647268  ...  1661425  1726687  1655859  1571423\n",
            "부산광역시      11568    11130    11768    16307  ...    17320    17009    15062    14484\n",
            "대구광역시          -        -        -        -  ...    10062    10191     9623     8891\n",
            "인천광역시          -        -        -        -  ...    43212    44915    43745    40485\n",
            "광주광역시          -        -        -        -  ...     9759     9216     8354     7932\n",
            "대전광역시          -        -        -        -  ...    13403    13453    12619    11815\n",
            "울산광역시          -        -        -        -  ...     6047     5950     5102     4260\n",
            "세종특별자치시        -        -        -        -  ...     6481     7550     5943     5813\n",
            "\n",
            "[8 rows x 48 columns]\n"
          ]
        }
      ]
    },
    {
      "cell_type": "code",
      "metadata": {
        "colab": {
          "base_uri": "https://localhost:8080/",
          "height": 1000
        },
        "id": "eVSiwkJpDDKM",
        "outputId": "85cff5b3-42b4-4632-bdf4-9a52b86a04f6"
      },
      "source": [
        "# 서울에서 경기도로 이동한 인구 데이터 값만 선택\n",
        "sr_one = df_seoul.loc['경기도']\n",
        "\n",
        "# x, y축 데이터를 plot 함수에 입력\n",
        "plt.plot(sr_one.index, sr_one.values)\n",
        "\n",
        "# 차트 제목 추가\n",
        "plt.title('서울 -> 경기 인구 이동')\n",
        "\n",
        "# 축 이름 추가\n",
        "plt.xlabel('기간')\n",
        "plt.ylabel('이동 인구수')\n",
        "\n",
        "plt.show()           # 변경사항 저장하고 그래프 출력"
      ],
      "execution_count": 5,
      "outputs": [
        {
          "output_type": "stream",
          "name": "stderr",
          "text": [
            "/usr/local/lib/python3.7/dist-packages/matplotlib/backends/backend_agg.py:214: RuntimeWarning: Glyph 49436 missing from current font.\n",
            "  font.set_text(s, 0.0, flags=flags)\n",
            "/usr/local/lib/python3.7/dist-packages/matplotlib/backends/backend_agg.py:214: RuntimeWarning: Glyph 50872 missing from current font.\n",
            "  font.set_text(s, 0.0, flags=flags)\n",
            "/usr/local/lib/python3.7/dist-packages/matplotlib/backends/backend_agg.py:214: RuntimeWarning: Glyph 44221 missing from current font.\n",
            "  font.set_text(s, 0.0, flags=flags)\n",
            "/usr/local/lib/python3.7/dist-packages/matplotlib/backends/backend_agg.py:214: RuntimeWarning: Glyph 44592 missing from current font.\n",
            "  font.set_text(s, 0.0, flags=flags)\n",
            "/usr/local/lib/python3.7/dist-packages/matplotlib/backends/backend_agg.py:214: RuntimeWarning: Glyph 51064 missing from current font.\n",
            "  font.set_text(s, 0.0, flags=flags)\n",
            "/usr/local/lib/python3.7/dist-packages/matplotlib/backends/backend_agg.py:214: RuntimeWarning: Glyph 44396 missing from current font.\n",
            "  font.set_text(s, 0.0, flags=flags)\n",
            "/usr/local/lib/python3.7/dist-packages/matplotlib/backends/backend_agg.py:214: RuntimeWarning: Glyph 51060 missing from current font.\n",
            "  font.set_text(s, 0.0, flags=flags)\n",
            "/usr/local/lib/python3.7/dist-packages/matplotlib/backends/backend_agg.py:214: RuntimeWarning: Glyph 46041 missing from current font.\n",
            "  font.set_text(s, 0.0, flags=flags)\n",
            "/usr/local/lib/python3.7/dist-packages/matplotlib/backends/backend_agg.py:214: RuntimeWarning: Glyph 44036 missing from current font.\n",
            "  font.set_text(s, 0.0, flags=flags)\n",
            "/usr/local/lib/python3.7/dist-packages/matplotlib/backends/backend_agg.py:214: RuntimeWarning: Glyph 49688 missing from current font.\n",
            "  font.set_text(s, 0.0, flags=flags)\n",
            "/usr/local/lib/python3.7/dist-packages/matplotlib/backends/backend_agg.py:183: RuntimeWarning: Glyph 44592 missing from current font.\n",
            "  font.set_text(s, 0, flags=flags)\n",
            "/usr/local/lib/python3.7/dist-packages/matplotlib/backends/backend_agg.py:183: RuntimeWarning: Glyph 44036 missing from current font.\n",
            "  font.set_text(s, 0, flags=flags)\n",
            "/usr/local/lib/python3.7/dist-packages/matplotlib/backends/backend_agg.py:183: RuntimeWarning: Glyph 51060 missing from current font.\n",
            "  font.set_text(s, 0, flags=flags)\n",
            "/usr/local/lib/python3.7/dist-packages/matplotlib/backends/backend_agg.py:183: RuntimeWarning: Glyph 46041 missing from current font.\n",
            "  font.set_text(s, 0, flags=flags)\n",
            "/usr/local/lib/python3.7/dist-packages/matplotlib/backends/backend_agg.py:183: RuntimeWarning: Glyph 51064 missing from current font.\n",
            "  font.set_text(s, 0, flags=flags)\n",
            "/usr/local/lib/python3.7/dist-packages/matplotlib/backends/backend_agg.py:183: RuntimeWarning: Glyph 44396 missing from current font.\n",
            "  font.set_text(s, 0, flags=flags)\n",
            "/usr/local/lib/python3.7/dist-packages/matplotlib/backends/backend_agg.py:183: RuntimeWarning: Glyph 49688 missing from current font.\n",
            "  font.set_text(s, 0, flags=flags)\n",
            "/usr/local/lib/python3.7/dist-packages/matplotlib/backends/backend_agg.py:183: RuntimeWarning: Glyph 49436 missing from current font.\n",
            "  font.set_text(s, 0, flags=flags)\n",
            "/usr/local/lib/python3.7/dist-packages/matplotlib/backends/backend_agg.py:183: RuntimeWarning: Glyph 50872 missing from current font.\n",
            "  font.set_text(s, 0, flags=flags)\n",
            "/usr/local/lib/python3.7/dist-packages/matplotlib/backends/backend_agg.py:183: RuntimeWarning: Glyph 44221 missing from current font.\n",
            "  font.set_text(s, 0, flags=flags)\n"
          ]
        },
        {
          "output_type": "display_data",
          "data": {
            "image/png": "[encoded data removed]",
            "text/plain": [
              "<Figure size 432x288 with 1 Axes>"
            ]
          },
          "metadata": {
            "needs_background": "light"
          }
        }
      ]
    },
    {
      "cell_type": "code",
      "metadata": {
        "id": "k2gVnOptDneR"
      },
      "source": [
        ""
      ],
      "execution_count": null,
      "outputs": []
    }
  ]
}