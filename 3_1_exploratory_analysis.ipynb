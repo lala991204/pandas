{
  "nbformat": 4,
  "nbformat_minor": 0,
  "metadata": {
    "colab": {
      "name": "3.1_exploratory_analysis.ipynb",
      "provenance": [],
      "mount_file_id": "1A6jPX8UZr7QlaoM8zEks8qo-ZbwOjbQe",
      "authorship_tag": "ABX9TyPNEFlPWhs8PaLzZY6fdQ4S",
      "include_colab_link": true
    },
    "kernelspec": {
      "name": "python3",
      "display_name": "Python 3"
    },
    "language_info": {
      "name": "python"
    }
  },
  "cells": [
    {
      "cell_type": "markdown",
      "metadata": {
        "id": "view-in-github",
        "colab_type": "text"
      },
      "source": [
        "<a href=\"https://colab.research.google.com/github/lala991204/pandas/blob/master/3_1_exploratory_analysis.ipynb\" target=\"_parent\"><img src=\"https://colab.research.google.com/assets/colab-badge.svg\" alt=\"Open In Colab\"/></a>"
      ]
    },
    {
      "cell_type": "code",
      "metadata": {
        "colab": {
          "base_uri": "https://localhost:8080/"
        },
        "id": "64ao-ED-GqMI",
        "outputId": "4da72c20-09b6-44ee-812d-91ce43e78c70"
      },
      "source": [
        "import pandas as pd\n",
        "\n",
        "# read_csv() 함수로 df 생성\n",
        "df = pd.read_csv('/content/drive/MyDrive/Colab Notebooks/pandas/auto-mpg.csv', header=None)\n",
        "\n",
        "# 열 이름 지정\n",
        "df.columns = ['mpg', 'cylinder', 'displacement', 'horsepower', 'weight',\n",
        "              'acceleration', 'model year', 'origin', 'name']\n",
        "\n",
        "# 데이터프레임 df의 내용을 일부 확인\n",
        "print(df.head())     # 처음 5개 행\n",
        "print('\\n')\n",
        "print(df.tail())     # 마지막 5개 행"
      ],
      "execution_count": 1,
      "outputs": [
        {
          "output_type": "stream",
          "name": "stdout",
          "text": [
            "    mpg  cylinder  displacement  ... model year  origin                       name\n",
            "0  18.0         8         307.0  ...         70       1  chevrolet chevelle malibu\n",
            "1  15.0         8         350.0  ...         70       1          buick skylark 320\n",
            "2  18.0         8         318.0  ...         70       1         plymouth satellite\n",
            "3  16.0         8         304.0  ...         70       1              amc rebel sst\n",
            "4  17.0         8         302.0  ...         70       1                ford torino\n",
            "\n",
            "[5 rows x 9 columns]\n",
            "\n",
            "\n",
            "      mpg  cylinder  displacement  ... model year  origin             name\n",
            "393  27.0         4         140.0  ...         82       1  ford mustang gl\n",
            "394  44.0         4          97.0  ...         82       2        vw pickup\n",
            "395  32.0         4         135.0  ...         82       1    dodge rampage\n",
            "396  28.0         4         120.0  ...         82       1      ford ranger\n",
            "397  31.0         4         119.0  ...         82       1       chevy s-10\n",
            "\n",
            "[5 rows x 9 columns]\n"
          ]
        }
      ]
    },
    {
      "cell_type": "code",
      "metadata": {
        "colab": {
          "base_uri": "https://localhost:8080/"
        },
        "id": "6LQJAb0RICuW",
        "outputId": "495022d3-df6e-4430-833c-6c4f06acf420"
      },
      "source": [
        "# df의 모양과 크기 확인: (행의 개수, 열의 개수)를 tuple로 반환\n",
        "print(df.shape)"
      ],
      "execution_count": 3,
      "outputs": [
        {
          "output_type": "stream",
          "name": "stdout",
          "text": [
            "(398, 9)\n"
          ]
        }
      ]
    },
    {
      "cell_type": "code",
      "metadata": {
        "colab": {
          "base_uri": "https://localhost:8080/"
        },
        "id": "glQVDhaQIYWL",
        "outputId": "513a191d-5af9-43e8-abe4-89c057a61b34"
      },
      "source": [
        "# 데이터프레임 df의 내용 확인\n",
        "print(df.info())"
      ],
      "execution_count": 4,
      "outputs": [
        {
          "output_type": "stream",
          "name": "stdout",
          "text": [
            "<class 'pandas.core.frame.DataFrame'>\n",
            "RangeIndex: 398 entries, 0 to 397\n",
            "Data columns (total 9 columns):\n",
            " #   Column        Non-Null Count  Dtype  \n",
            "---  ------        --------------  -----  \n",
            " 0   mpg           398 non-null    float64\n",
            " 1   cylinder      398 non-null    int64  \n",
            " 2   displacement  398 non-null    float64\n",
            " 3   horsepower    398 non-null    object \n",
            " 4   weight        398 non-null    float64\n",
            " 5   acceleration  398 non-null    float64\n",
            " 6   model year    398 non-null    int64  \n",
            " 7   origin        398 non-null    int64  \n",
            " 8   name          398 non-null    object \n",
            "dtypes: float64(4), int64(3), object(2)\n",
            "memory usage: 28.1+ KB\n",
            "None\n"
          ]
        }
      ]
    },
    {
      "cell_type": "code",
      "metadata": {
        "colab": {
          "base_uri": "https://localhost:8080/"
        },
        "id": "vrP4lXijIilf",
        "outputId": "d86149dc-5b0f-4972-d1da-ca974edabb10"
      },
      "source": [
        "# 데이터프레임 df의 자료형 확인\n",
        "print(df.dtypes)\n",
        "print('\\n')\n",
        "\n",
        "# 시리즈(mpg 열)의 자료형 확인\n",
        "print(df.mpg.dtypes)"
      ],
      "execution_count": 5,
      "outputs": [
        {
          "output_type": "stream",
          "name": "stdout",
          "text": [
            "mpg             float64\n",
            "cylinder          int64\n",
            "displacement    float64\n",
            "horsepower       object\n",
            "weight          float64\n",
            "acceleration    float64\n",
            "model year        int64\n",
            "origin            int64\n",
            "name             object\n",
            "dtype: object\n",
            "\n",
            "\n",
            "float64\n"
          ]
        }
      ]
    },
    {
      "cell_type": "code",
      "metadata": {
        "colab": {
          "base_uri": "https://localhost:8080/"
        },
        "id": "6vOFb_dRI68E",
        "outputId": "5d5c5b3e-5db7-43f3-94a1-6f0d90dbb6b1"
      },
      "source": [
        "# 데이터프레임 df의 기술 통계 정보 확인\n",
        "print(df.describe())\n",
        "print('\\n')\n",
        "print(df.describe(include='all'))"
      ],
      "execution_count": 6,
      "outputs": [
        {
          "output_type": "stream",
          "name": "stdout",
          "text": [
            "              mpg    cylinder  ...  model year      origin\n",
            "count  398.000000  398.000000  ...  398.000000  398.000000\n",
            "mean    23.514573    5.454774  ...   76.010050    1.572864\n",
            "std      7.815984    1.701004  ...    3.697627    0.802055\n",
            "min      9.000000    3.000000  ...   70.000000    1.000000\n",
            "25%     17.500000    4.000000  ...   73.000000    1.000000\n",
            "50%     23.000000    4.000000  ...   76.000000    1.000000\n",
            "75%     29.000000    8.000000  ...   79.000000    2.000000\n",
            "max     46.600000    8.000000  ...   82.000000    3.000000\n",
            "\n",
            "[8 rows x 7 columns]\n",
            "\n",
            "\n",
            "               mpg    cylinder  ...      origin        name\n",
            "count   398.000000  398.000000  ...  398.000000         398\n",
            "unique         NaN         NaN  ...         NaN         305\n",
            "top            NaN         NaN  ...         NaN  ford pinto\n",
            "freq           NaN         NaN  ...         NaN           6\n",
            "mean     23.514573    5.454774  ...    1.572864         NaN\n",
            "std       7.815984    1.701004  ...    0.802055         NaN\n",
            "min       9.000000    3.000000  ...    1.000000         NaN\n",
            "25%      17.500000    4.000000  ...    1.000000         NaN\n",
            "50%      23.000000    4.000000  ...    1.000000         NaN\n",
            "75%      29.000000    8.000000  ...    2.000000         NaN\n",
            "max      46.600000    8.000000  ...    3.000000         NaN\n",
            "\n",
            "[11 rows x 9 columns]\n"
          ]
        }
      ]
    },
    {
      "cell_type": "code",
      "metadata": {
        "id": "OFfwZ-htJGsZ"
      },
      "source": [
        ""
      ],
      "execution_count": null,
      "outputs": []
    }
  ]
}