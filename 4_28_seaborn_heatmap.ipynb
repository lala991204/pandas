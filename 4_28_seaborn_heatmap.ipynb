{
  "nbformat": 4,
  "nbformat_minor": 0,
  "metadata": {
    "colab": {
      "name": "4.28_seaborn_heatmap.ipynb",
      "provenance": [],
      "authorship_tag": "ABX9TyPNjBmiz57lURH9mrc+I+vg",
      "include_colab_link": true
    },
    "kernelspec": {
      "name": "python3",
      "display_name": "Python 3"
    },
    "language_info": {
      "name": "python"
    }
  },
  "cells": [
    {
      "cell_type": "markdown",
      "metadata": {
        "id": "view-in-github",
        "colab_type": "text"
      },
      "source": [
        "<a href=\"https://colab.research.google.com/github/lala991204/pandas/blob/master/4_28_seaborn_heatmap.ipynb\" target=\"_parent\"><img src=\"https://colab.research.google.com/assets/colab-badge.svg\" alt=\"Open In Colab\"/></a>"
      ]
    },
    {
      "cell_type": "code",
      "metadata": {
        "colab": {
          "base_uri": "https://localhost:8080/",
          "height": 279
        },
        "id": "bwd5JUWXA3Mj",
        "outputId": "2cd80fd4-99d1-409e-aead-09ca5444db95"
      },
      "source": [
        "# 라이브러리 불러오기\n",
        "import matplotlib.pyplot as plt\n",
        "import seaborn as sns\n",
        "\n",
        "# Seaborn 제공 데이터셋 가져오기\n",
        "titanic = sns.load_dataset('titanic')\n",
        "\n",
        "# 스타일 테마 설정(5가지: darkgrid, whitegrid, dark, white, ticks)\n",
        "sns.set_style('darkgrid')\n",
        "\n",
        "# 피벗테이블로 범주형 변수를 각각 행, 열로 재구분하여 정리\n",
        "table = titanic.pivot_table(index=['sex'], columns=['class'], aggfunc='size')\n",
        "\n",
        "# 히트맵 그리기\n",
        "sns.heatmap(table,                         # 데이터프레임\n",
        "            annot=True, fmt='d',           # 데이터 값 표시 여부, 정수형 포맷\n",
        "            cmap='YlGnBu',                 # 컬러 맵\n",
        "            linewidth=.5,                  # 구분 선\n",
        "            cbar=False)                     # 컬러 바 표시 여부\n",
        "\n",
        "plt.show()"
      ],
      "execution_count": 4,
      "outputs": [
        {
          "output_type": "display_data",
          "data": {
            "image/png": "[encoded data removed]",
            "text/plain": [
              "<Figure size 432x288 with 1 Axes>"
            ]
          },
          "metadata": {}
        }
      ]
    },
    {
      "cell_type": "code",
      "metadata": {
        "id": "kWFSx0qoB7h2"
      },
      "source": [
        ""
      ],
      "execution_count": null,
      "outputs": []
    }
  ]
}