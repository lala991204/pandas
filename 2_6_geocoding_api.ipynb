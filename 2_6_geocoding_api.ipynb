{
  "nbformat": 4,
  "nbformat_minor": 0,
  "metadata": {
    "colab": {
      "name": "2.6_geocoding_api.ipynb",
      "provenance": [],
      "collapsed_sections": [],
      "mount_file_id": "1rUaQIKZcS7cRMkJt_wi4i9Yi2Cl9IBIT",
      "authorship_tag": "ABX9TyMz7ulxhcaGpMr2ALiPilIi",
      "include_colab_link": true
    },
    "kernelspec": {
      "name": "python3",
      "display_name": "Python 3"
    },
    "language_info": {
      "name": "python"
    }
  },
  "cells": [
    {
      "cell_type": "markdown",
      "metadata": {
        "id": "view-in-github",
        "colab_type": "text"
      },
      "source": [
        "<a href=\"https://colab.research.google.com/github/lala991204/pandas/blob/master/2_6_geocoding_api.ipynb\" target=\"_parent\"><img src=\"https://colab.research.google.com/assets/colab-badge.svg\" alt=\"Open In Colab\"/></a>"
      ]
    },
    {
      "cell_type": "code",
      "metadata": {
        "colab": {
          "base_uri": "https://localhost:8080/"
        },
        "id": "BfL-yD8yNL6i",
        "outputId": "a6034b9d-f885-41a4-8a83-622901fb876b"
      },
      "source": [
        "!pip install googlemaps"
      ],
      "execution_count": 3,
      "outputs": [
        {
          "output_type": "stream",
          "name": "stdout",
          "text": [
            "Collecting googlemaps\n",
            "  Downloading googlemaps-4.5.3.tar.gz (32 kB)\n",
            "Requirement already satisfied: requests<3.0,>=2.20.0 in /usr/local/lib/python3.7/dist-packages (from googlemaps) (2.23.0)\n",
            "Requirement already satisfied: chardet<4,>=3.0.2 in /usr/local/lib/python3.7/dist-packages (from requests<3.0,>=2.20.0->googlemaps) (3.0.4)\n",
            "Requirement already satisfied: certifi>=2017.4.17 in /usr/local/lib/python3.7/dist-packages (from requests<3.0,>=2.20.0->googlemaps) (2021.5.30)\n",
            "Requirement already satisfied: urllib3!=1.25.0,!=1.25.1,<1.26,>=1.21.1 in /usr/local/lib/python3.7/dist-packages (from requests<3.0,>=2.20.0->googlemaps) (1.24.3)\n",
            "Requirement already satisfied: idna<3,>=2.5 in /usr/local/lib/python3.7/dist-packages (from requests<3.0,>=2.20.0->googlemaps) (2.10)\n",
            "Building wheels for collected packages: googlemaps\n",
            "  Building wheel for googlemaps (setup.py) ... \u001b[?25l\u001b[?25hdone\n",
            "  Created wheel for googlemaps: filename=googlemaps-4.5.3-py3-none-any.whl size=38479 sha256=570315fe54f66ee2331854104979784d267d31d86e0fc5ddc7c732411640e8f7\n",
            "  Stored in directory: /root/.cache/pip/wheels/fa/1a/1c/cc0b8a1652a3f06aea586b0e4714a81bafed830513969baf92\n",
            "Successfully built googlemaps\n",
            "Installing collected packages: googlemaps\n",
            "Successfully installed googlemaps-4.5.3\n"
          ]
        }
      ]
    },
    {
      "cell_type": "code",
      "metadata": {
        "colab": {
          "base_uri": "https://localhost:8080/"
        },
        "id": "rB60t7gnOiM6",
        "outputId": "703b01dd-f40c-4e1e-d5bd-ebaeac47f2be"
      },
      "source": [
        "!conda install -c conda - forge googlemaps"
      ],
      "execution_count": 9,
      "outputs": [
        {
          "output_type": "stream",
          "name": "stdout",
          "text": [
            "/bin/bash: conda: command not found\n"
          ]
        }
      ]
    },
    {
      "cell_type": "code",
      "metadata": {
        "colab": {
          "base_uri": "https://localhost:8080/"
        },
        "id": "rKJvB8T2qubH",
        "outputId": "72d11c5e-0be4-42b3-b961-a8da52d30142"
      },
      "source": [
        "## google 지오코딩 API를 통해 위도, 경도 데이터 가져오기\n",
        "\n",
        "# 라이브러리 가져오기\n",
        "import googlemaps\n",
        "import pandas as pd\n",
        "\n",
        "my_key = \"-----발급받은 API 키 입력----\"  \n",
        "\n",
        "# 구글맵스 객체 생성하기\n",
        "maps = googlemaps.Client(key=my_key)    # my key값 입력\n",
        "\n",
        "lat = []   # 위도\n",
        "lng = []   # 경도\n",
        "\n",
        "# 장소(또는 주소) 리스트\n",
        "places = [\"서울시청\", \"국립국악원\", \"해운대해수욕장\"]\n",
        "\n",
        "i=0\n",
        "for place in places:\n",
        "    i = i + 1\n",
        "    try:\n",
        "        print(i, place)\n",
        "        # 지오코딩 API 결과값 호출하여 geo_location 변수에 저장\n",
        "        geo_location = maps.geocode(place)[0].get('geometry')\n",
        "        lat.append(geo_location['location']['lat'])\n",
        "        lng.append(geo_location['location']['lng'])\n",
        "\n",
        "    except:\n",
        "        lat.append('')\n",
        "        lng.append('')\n",
        "        print(i)\n",
        "\n",
        "# 데이터프레임으로 변환하기\n",
        "df = pd.DataFrame({'위도':lat, '경도':lng}, index=places)\n",
        "print('\\n')\n",
        "print(df)"
      ],
      "execution_count": 14,
      "outputs": [
        {
          "output_type": "stream",
          "name": "stdout",
          "text": [
            "1 서울시청\n",
            "2 국립국악원\n",
            "3 해운대해수욕장\n",
            "\n",
            "\n",
            "                위도          경도\n",
            "서울시청     37.566295  126.977945\n",
            "국립국악원    37.477759  127.008304\n",
            "해운대해수욕장  35.158698  129.160384\n"
          ]
        }
      ]
    },
    {
      "cell_type": "code",
      "metadata": {
        "id": "HH85tACKvBaI"
      },
      "source": [
        ""
      ],
      "execution_count": 13,
      "outputs": []
    }
  ]
}