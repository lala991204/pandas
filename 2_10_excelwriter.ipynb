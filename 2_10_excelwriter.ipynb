{
  "nbformat": 4,
  "nbformat_minor": 0,
  "metadata": {
    "colab": {
      "name": "2.10_excelwriter.ipynb",
      "provenance": [],
      "mount_file_id": "1DYMRy-34rUJXsEDDgczYJkoLQPPiVCNV",
      "authorship_tag": "ABX9TyPgl2lwkzfmrvSncO/U7j0m",
      "include_colab_link": true
    },
    "kernelspec": {
      "name": "python3",
      "display_name": "Python 3"
    },
    "language_info": {
      "name": "python"
    }
  },
  "cells": [
    {
      "cell_type": "markdown",
      "metadata": {
        "id": "view-in-github",
        "colab_type": "text"
      },
      "source": [
        "<a href=\"https://colab.research.google.com/github/lala991204/pandas/blob/master/2_10_excelwriter.ipynb\" target=\"_parent\"><img src=\"https://colab.research.google.com/assets/colab-badge.svg\" alt=\"Open In Colab\"/></a>"
      ]
    },
    {
      "cell_type": "code",
      "metadata": {
        "colab": {
          "base_uri": "https://localhost:8080/"
        },
        "id": "ZXCRi9DLorrg",
        "outputId": "e04ab116-1fda-4520-ecc7-08f9440c72e8"
      },
      "source": [
        "import pandas as pd\n",
        "\n",
        "# 판다스 DataFrame() 함수로 데이터프레임 변환. 변수 df1, df2에 저장\n",
        "data1 = {'name' : ['Jerry', 'Riah', 'Paul'],\n",
        "        'algol' : [\"A\", \"A+\", \"B\"],\n",
        "        'basic' : [\"C\", \"B\", \"B+\"],\n",
        "        'c++' : [\"B+\", \"C\", \"C+\"],\n",
        "        }\n",
        "\n",
        "data2 = {'c0' : [1,2,3],\n",
        "         'c1' : [4,5,6],\n",
        "         'c2' : [7,8,9],\n",
        "         'c3' : [10,11,12],\n",
        "         'c4' : [13,14,15]}\n",
        "\n",
        "df1 = pd.DataFrame(data1)\n",
        "df1.set_index('name', inplace=True)     # name 열을 인덱스로 지정\n",
        "print(df1)\n",
        "print('\\n')\n",
        "\n",
        "df2 = pd.DataFrame(data2)\n",
        "df2.set_index('c0', inplace=True)       # c0 열을 인덱스로 지정\n",
        "print(df2)\n",
        "\n",
        "# df1을 'sheet1'으로, df2를 'sheet2'로 저장(Excel 파일명은 \"df_excelwriter.xlsx\")\n",
        "writer = pd.ExcelWriter(\"/content/drive/MyDrive/Colab Notebooks/pandas/df_excelwriter.xlsx\")\n",
        "df1.to_excel(writer, sheet_name=\"sheet1\")\n",
        "df2.to_excel(writer, sheet_name=\"sheet2\")\n",
        "writer.save()"
      ],
      "execution_count": 3,
      "outputs": [
        {
          "output_type": "stream",
          "name": "stdout",
          "text": [
            "      algol basic c++\n",
            "name                 \n",
            "Jerry     A     C  B+\n",
            "Riah     A+     B   C\n",
            "Paul      B    B+  C+\n",
            "\n",
            "\n",
            "    c1  c2  c3  c4\n",
            "c0                \n",
            "1    4   7  10  13\n",
            "2    5   8  11  14\n",
            "3    6   9  12  15\n"
          ]
        }
      ]
    }
  ]
}