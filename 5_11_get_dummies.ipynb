{
  "nbformat": 4,
  "nbformat_minor": 0,
  "metadata": {
    "colab": {
      "name": "5.11_get_dummies.ipynb",
      "provenance": [],
      "mount_file_id": "1BLK-bAEvlHw4QEEUMqC9AjiPr27hynyN",
      "authorship_tag": "ABX9TyNh2d1do4iVl8gld0SFGoPH",
      "include_colab_link": true
    },
    "kernelspec": {
      "name": "python3",
      "display_name": "Python 3"
    },
    "language_info": {
      "name": "python"
    }
  },
  "cells": [
    {
      "cell_type": "markdown",
      "metadata": {
        "id": "view-in-github",
        "colab_type": "text"
      },
      "source": [
        "<a href=\"https://colab.research.google.com/github/lala991204/pandas/blob/master/5_11_get_dummies.ipynb\" target=\"_parent\"><img src=\"https://colab.research.google.com/assets/colab-badge.svg\" alt=\"Open In Colab\"/></a>"
      ]
    },
    {
      "cell_type": "code",
      "metadata": {
        "colab": {
          "base_uri": "https://localhost:8080/"
        },
        "id": "W2A8MG10Dxnb",
        "outputId": "a9799485-4a80-4f2e-fae3-86cb7e4576de"
      },
      "source": [
        "# 라이브러리 불러오기\n",
        "import pandas as pd\n",
        "import numpy as np\n",
        "\n",
        "# read_csv() 함수로 df 생성\n",
        "df= pd.read_csv('/content/drive/MyDrive/Colab Notebooks/pandas/auto-mpg.csv')\n",
        "\n",
        "# 열 이름을 지정\n",
        "df.columns = ['mpg', 'cylinders', 'displacement', 'horsepower', 'weight',\n",
        "              'acceleration', 'model year', 'origin', 'name']\n",
        "\n",
        "# horsepower 열의 누락 데이터('?') 삭제하고 실수형으로 변환\n",
        "df['horsepower'].replace('?', np.nan, inplace=True)           # '?' 을 np.nan 으로 변경\n",
        "df.dropna(subset=['horsepower'], axis=0, inplace=True)       # 누락데이터 행을 삭제\n",
        "df['horsepower'] = df['horsepower'].astype('float')          # 문자열을 실수형으로 변환\n",
        "\n",
        "# np.histogram 으로 3개의 bin으로 나누는 경계 값의 리스트 구하기\n",
        "count, bin_dividers = np.histogram(df['horsepower'], bins=3)\n",
        "\n",
        "# 3개의 bin에 이름 지정\n",
        "bin_names = ['저출력', '보통출력', '고출력']\n",
        "\n",
        "# pd.cut으로 각 데이터를 3개의 bin에 할당\n",
        "df['hp_bin'] = pd.cut(x=df['horsepower'],            # 데이터 배열\n",
        "                      bins=bin_dividers,             # 경계 값 리스트\n",
        "                      labels=bin_names,              # bin 이름\n",
        "                      include_lowest=True)            # 첫 경계값 포함\n",
        "\n",
        "# hp_bin 열의 범주형 데이터를 더미 변수로 변환\n",
        "horsepower_dummies = pd.get_dummies(df['hp_bin'])\n",
        "print(horsepower_dummies.head(15))"
      ],
      "execution_count": 2,
      "outputs": [
        {
          "output_type": "stream",
          "name": "stdout",
          "text": [
            "    저출력  보통출력  고출력\n",
            "0     0     1    0\n",
            "1     0     1    0\n",
            "2     0     1    0\n",
            "3     0     1    0\n",
            "4     0     0    1\n",
            "5     0     0    1\n",
            "6     0     0    1\n",
            "7     0     0    1\n",
            "8     0     0    1\n",
            "9     0     0    1\n",
            "10    0     1    0\n",
            "11    0     1    0\n",
            "12    0     0    1\n",
            "13    1     0    0\n",
            "14    1     0    0\n"
          ]
        }
      ]
    },
    {
      "cell_type": "code",
      "metadata": {
        "id": "ipDdeLllF9m0"
      },
      "source": [
        ""
      ],
      "execution_count": null,
      "outputs": []
    }
  ]
}