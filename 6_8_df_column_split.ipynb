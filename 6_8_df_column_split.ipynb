{
  "nbformat": 4,
  "nbformat_minor": 0,
  "metadata": {
    "colab": {
      "name": "6.8_df_column_split.ipynb",
      "provenance": [],
      "collapsed_sections": [],
      "authorship_tag": "ABX9TyMadITWP8monYzA/IJ19mWG",
      "include_colab_link": true
    },
    "kernelspec": {
      "name": "python3",
      "display_name": "Python 3"
    },
    "language_info": {
      "name": "python"
    }
  },
  "cells": [
    {
      "cell_type": "markdown",
      "metadata": {
        "id": "view-in-github",
        "colab_type": "text"
      },
      "source": [
        "<a href=\"https://colab.research.google.com/github/lala991204/pandas/blob/master/6_8_df_column_split.ipynb\" target=\"_parent\"><img src=\"https://colab.research.google.com/assets/colab-badge.svg\" alt=\"Open In Colab\"/></a>"
      ]
    },
    {
      "cell_type": "code",
      "metadata": {
        "colab": {
          "base_uri": "https://localhost:8080/"
        },
        "id": "4G_4J5rK-XOy",
        "outputId": "03e1f25a-4f45-483b-9f55-210bc7a391c0"
      },
      "source": [
        "# 라이브러리 불러오기\n",
        "import pandas as pd\n",
        "\n",
        "# 데이터셋 가져오기\n",
        "df = pd.read_excel('/content/drive/MyDrive/Colab Notebooks/pandas/주가데이터.xlsx', engine='openpyxl')\n",
        "print(df.head(), '\\n')\n",
        "print(df.dtypes, '\\n')\n",
        "\n",
        "# 연, 월, 일 데이터 분리하기\n",
        "df['연월일'] = df['연월일'].astype('str')           # 문자열 메소드 사용을 자료형 변경\n",
        "dates = df['연월일'].str.split('-')                 # 문자열을 split() 메서드로 분리       # list\n",
        "print(dates.head(), '\\n')\n",
        "\n",
        "# 분리된 정보를 각각 새로운 열에 담아서 df에 추가하기\n",
        "df['연'] = dates.str.get(0)                         # dates 변수의 원소 리스트의 0번째 인덱스 값\n",
        "df['월'] = dates.str.get(1)                         # dates 변수의 원소 리스트의 1번째 인덱스 값\n",
        "df['일'] = dates.str.get(2)                         # dates 변수의 원소 리스트의 2번째 인덱스 값\n",
        "print(df.head())"
      ],
      "execution_count": 5,
      "outputs": [
        {
          "output_type": "stream",
          "name": "stdout",
          "text": [
            "         연월일   당일종가  전일종가     시가     고가     저가     거래량\n",
            "0 2018-07-02  10100   600  10850  10900  10000  137977\n",
            "1 2018-06-29  10700   300  10550  10900   9990  170253\n",
            "2 2018-06-28  10400   500  10900  10950  10150  155769\n",
            "3 2018-06-27  10900   100  10800  11050  10500  133548\n",
            "4 2018-06-26  10800   350  10900  11000  10700   63039 \n",
            "\n",
            "연월일     datetime64[ns]\n",
            "당일종가             int64\n",
            "전일종가             int64\n",
            "시가               int64\n",
            "고가               int64\n",
            "저가               int64\n",
            "거래량              int64\n",
            "dtype: object \n",
            "\n",
            "0    [2018, 07, 02]\n",
            "1    [2018, 06, 29]\n",
            "2    [2018, 06, 28]\n",
            "3    [2018, 06, 27]\n",
            "4    [2018, 06, 26]\n",
            "Name: 연월일, dtype: object \n",
            "\n",
            "          연월일   당일종가  전일종가     시가     고가     저가     거래량     연   월   일\n",
            "0  2018-07-02  10100   600  10850  10900  10000  137977  2018  07  02\n",
            "1  2018-06-29  10700   300  10550  10900   9990  170253  2018  06  29\n",
            "2  2018-06-28  10400   500  10900  10950  10150  155769  2018  06  28\n",
            "3  2018-06-27  10900   100  10800  11050  10500  133548  2018  06  27\n",
            "4  2018-06-26  10800   350  10900  11000  10700   63039  2018  06  26\n"
          ]
        }
      ]
    }
  ]
}