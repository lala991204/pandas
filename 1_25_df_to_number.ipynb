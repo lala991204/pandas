{
  "nbformat": 4,
  "nbformat_minor": 0,
  "metadata": {
    "colab": {
      "name": "1.25_df_to_number.ipynb",
      "provenance": [],
      "authorship_tag": "ABX9TyOXdIJlltrpmNu6KZb4xsNN",
      "include_colab_link": true
    },
    "kernelspec": {
      "name": "python3",
      "display_name": "Python 3"
    },
    "language_info": {
      "name": "python"
    }
  },
  "cells": [
    {
      "cell_type": "markdown",
      "metadata": {
        "id": "view-in-github",
        "colab_type": "text"
      },
      "source": [
        "<a href=\"https://colab.research.google.com/github/lala991204/pandas/blob/master/1_25_df_to_number.ipynb\" target=\"_parent\"><img src=\"https://colab.research.google.com/assets/colab-badge.svg\" alt=\"Open In Colab\"/></a>"
      ]
    },
    {
      "cell_type": "code",
      "metadata": {
        "colab": {
          "base_uri": "https://localhost:8080/"
        },
        "id": "95lm0zYnAovE",
        "outputId": "3abcc158-be9e-4616-dca0-028a03c3b22e"
      },
      "source": [
        "# 라이브러리 불러오기\n",
        "import pandas as pd\n",
        "import seaborn as sns\n",
        "\n",
        "# titanic 데이터셋에서 age, fare 2개 열을 선택하여 데이터프레임 만들기\n",
        "titanic = sns.load_dataset('titanic')\n",
        "df = titanic.loc[:, ['age', 'fare']]\n",
        "print(df.head())           # 첫 5행만 표시\n",
        "print('\\n')\n",
        "print(type(df))\n",
        "print('\\n')\n",
        "\n",
        "# 데이터프레임에 숫자 10 더하기\n",
        "addition = df + 10\n",
        "print(addition.head())     # 첫 5행만 표시\n",
        "print('\\n')\n",
        "print(type(addition))"
      ],
      "execution_count": 1,
      "outputs": [
        {
          "output_type": "stream",
          "name": "stdout",
          "text": [
            "    age     fare\n",
            "0  22.0   7.2500\n",
            "1  38.0  71.2833\n",
            "2  26.0   7.9250\n",
            "3  35.0  53.1000\n",
            "4  35.0   8.0500\n",
            "\n",
            "\n",
            "<class 'pandas.core.frame.DataFrame'>\n",
            "\n",
            "\n",
            "    age     fare\n",
            "0  32.0  17.2500\n",
            "1  48.0  81.2833\n",
            "2  36.0  17.9250\n",
            "3  45.0  63.1000\n",
            "4  45.0  18.0500\n",
            "\n",
            "\n",
            "<class 'pandas.core.frame.DataFrame'>\n"
          ]
        }
      ]
    },
    {
      "cell_type": "code",
      "metadata": {
        "id": "0gQmgNjGBXng"
      },
      "source": [
        ""
      ],
      "execution_count": null,
      "outputs": []
    }
  ]
}