{
  "nbformat": 4,
  "nbformat_minor": 0,
  "metadata": {
    "colab": {
      "name": "3.6_df_plot_hist.ipynb",
      "provenance": [],
      "collapsed_sections": [],
      "mount_file_id": "1zqUo1KXUs--98MFScEJdlOMwtbtIddkQ",
      "authorship_tag": "ABX9TyNv1M93iKPVY0ZUdr4Xt+EE",
      "include_colab_link": true
    },
    "kernelspec": {
      "name": "python3",
      "display_name": "Python 3"
    },
    "language_info": {
      "name": "python"
    }
  },
  "cells": [
    {
      "cell_type": "markdown",
      "metadata": {
        "id": "view-in-github",
        "colab_type": "text"
      },
      "source": [
        "<a href=\"https://colab.research.google.com/github/lala991204/pandas/blob/master/3_6_df_plot_hist.ipynb\" target=\"_parent\"><img src=\"https://colab.research.google.com/assets/colab-badge.svg\" alt=\"Open In Colab\"/></a>"
      ]
    },
    {
      "cell_type": "code",
      "metadata": {
        "colab": {
          "base_uri": "https://localhost:8080/",
          "height": 283
        },
        "id": "Oc8y2KSNvCmP",
        "outputId": "cb3bdc84-7604-4efb-88df-7298e738b800"
      },
      "source": [
        "import pandas as pd\n",
        "\n",
        "df = pd.read_excel('/content/drive/MyDrive/Colab Notebooks/pandas/남북한발전전력량.xlsx', engine ='openpyxl')\n",
        "\n",
        "df_ns = df.iloc[[0, 5], 3:]                # 남한, 북한 발전량 합계 데이터만 추출\n",
        "df_ns.index = ['South', 'North']           # 행 인덱스 변경\n",
        "df_ns.columns = df_ns.columns.map(int)     # 열 이름의 자료형을 정수형으로 변경\n",
        "\n",
        "# 행, 열 전치하여 히스토그램 그리기\n",
        "tdf_ns = df_ns.T\n",
        "tdf_ns.plot(kind='hist')"
      ],
      "execution_count": 1,
      "outputs": [
        {
          "output_type": "execute_result",
          "data": {
            "text/plain": [
              "<matplotlib.axes._subplots.AxesSubplot at 0x7fad5b577f10>"
            ]
          },
          "metadata": {},
          "execution_count": 1
        },
        {
          "output_type": "display_data",
          "data": {
            "image/png": "[encoded data removed]",
            "text/plain": [
              "<Figure size 432x288 with 1 Axes>"
            ]
          },
          "metadata": {
            "needs_background": "light"
          }
        }
      ]
    },
    {
      "cell_type": "code",
      "metadata": {
        "id": "TE8rEgl-v2vw"
      },
      "source": [
        ""
      ],
      "execution_count": null,
      "outputs": []
    }
  ]
}