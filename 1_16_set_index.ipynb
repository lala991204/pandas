{
  "nbformat": 4,
  "nbformat_minor": 0,
  "metadata": {
    "colab": {
      "name": "1.16_set_index.ipynb",
      "provenance": [],
      "authorship_tag": "ABX9TyOSJY/0D9hm2yAjeBib2eez",
      "include_colab_link": true
    },
    "kernelspec": {
      "name": "python3",
      "display_name": "Python 3"
    },
    "language_info": {
      "name": "python"
    }
  },
  "cells": [
    {
      "cell_type": "markdown",
      "metadata": {
        "id": "view-in-github",
        "colab_type": "text"
      },
      "source": [
        "<a href=\"https://colab.research.google.com/github/lala991204/pandas/blob/master/1_16_set_index.ipynb\" target=\"_parent\"><img src=\"https://colab.research.google.com/assets/colab-badge.svg\" alt=\"Open In Colab\"/></a>"
      ]
    },
    {
      "cell_type": "code",
      "metadata": {
        "colab": {
          "base_uri": "https://localhost:8080/"
        },
        "id": "ZRhY_aG8cPvi",
        "outputId": "3f6f6d2c-a968-4ca8-d759-ce2653b720b2"
      },
      "source": [
        "import pandas as pd\n",
        "\n",
        "# DataFrame() 함수로 데이터프레임 변환. 변수 df에 저장\n",
        "exam_data = {'이름' : ['서준', '우현', '인아'],\n",
        "             '수학' : [90, 80, 70],\n",
        "             '영어' : [98, 89, 95],\n",
        "             '음악' : [85, 95, 100],\n",
        "             '체육' : [100, 90, 90]}\n",
        "df = pd.DataFrame(exam_data)\n",
        "print(df)\n",
        "print('\\n')\n",
        "\n",
        "# 특정 열(column)을 데이터프레임의 행 인덱스(index)로 설정\n",
        "ndf = df.set_index(['이름'])\n",
        "print(ndf)\n",
        "print('\\n')\n",
        "ndf2 = ndf.set_index('음악')\n",
        "print(ndf2)\n",
        "print('\\n')\n",
        "ndf3 = ndf.set_index(['수학', '음악'])\n",
        "print(ndf3)"
      ],
      "execution_count": 1,
      "outputs": [
        {
          "output_type": "stream",
          "name": "stdout",
          "text": [
            "   이름  수학  영어   음악   체육\n",
            "0  서준  90  98   85  100\n",
            "1  우현  80  89   95   90\n",
            "2  인아  70  95  100   90\n",
            "\n",
            "\n",
            "    수학  영어   음악   체육\n",
            "이름                  \n",
            "서준  90  98   85  100\n",
            "우현  80  89   95   90\n",
            "인아  70  95  100   90\n",
            "\n",
            "\n",
            "     수학  영어   체육\n",
            "음악              \n",
            "85   90  98  100\n",
            "95   80  89   90\n",
            "100  70  95   90\n",
            "\n",
            "\n",
            "        영어   체육\n",
            "수학 음악          \n",
            "90 85   98  100\n",
            "80 95   89   90\n",
            "70 100  95   90\n"
          ]
        }
      ]
    },
    {
      "cell_type": "code",
      "metadata": {
        "id": "yz8nMO4XdQq3"
      },
      "source": [
        ""
      ],
      "execution_count": null,
      "outputs": []
    }
  ]
}