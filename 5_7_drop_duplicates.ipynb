{
  "nbformat": 4,
  "nbformat_minor": 0,
  "metadata": {
    "colab": {
      "name": "5.7_drop_duplicates.ipynb",
      "provenance": [],
      "authorship_tag": "ABX9TyMsb/S06LeqmR3IL+kz/5f2",
      "include_colab_link": true
    },
    "kernelspec": {
      "name": "python3",
      "display_name": "Python 3"
    },
    "language_info": {
      "name": "python"
    }
  },
  "cells": [
    {
      "cell_type": "markdown",
      "metadata": {
        "id": "view-in-github",
        "colab_type": "text"
      },
      "source": [
        "<a href=\"https://colab.research.google.com/github/lala991204/pandas/blob/master/5_7_drop_duplicates.ipynb\" target=\"_parent\"><img src=\"https://colab.research.google.com/assets/colab-badge.svg\" alt=\"Open In Colab\"/></a>"
      ]
    },
    {
      "cell_type": "code",
      "metadata": {
        "colab": {
          "base_uri": "https://localhost:8080/"
        },
        "id": "ByzOHNTOZJ2L",
        "outputId": "b7026df4-583d-4d27-c813-da38146baafb"
      },
      "source": [
        "# 라이브러리 불러오기\n",
        "import pandas as pd\n",
        "\n",
        "# 중복 데이터를 갖는 데이터프레임 만들기\n",
        "df = pd.DataFrame({'c1':['a', 'a', 'b', 'a', 'b'],\n",
        "                   'c2':[1, 1, 1, 2, 2],\n",
        "                   'c3':[1, 1, 2, 2, 2]})\n",
        "print(df)\n",
        "print('\\n')\n",
        "\n",
        "# 데이터프레임에서 중복 행을 제거\n",
        "df2 = df.drop_duplicates()\n",
        "print(df2)\n",
        "print('\\n')\n",
        "\n",
        "# c2, c3열을 기준으로 중복 행을 제거\n",
        "df3 = df.drop_duplicates(subset=['c2', 'c3'])\n",
        "print(df3)"
      ],
      "execution_count": 1,
      "outputs": [
        {
          "output_type": "stream",
          "name": "stdout",
          "text": [
            "  c1  c2  c3\n",
            "0  a   1   1\n",
            "1  a   1   1\n",
            "2  b   1   2\n",
            "3  a   2   2\n",
            "4  b   2   2\n",
            "\n",
            "\n",
            "  c1  c2  c3\n",
            "0  a   1   1\n",
            "2  b   1   2\n",
            "3  a   2   2\n",
            "4  b   2   2\n",
            "\n",
            "\n",
            "  c1  c2  c3\n",
            "0  a   1   1\n",
            "2  b   1   2\n",
            "3  a   2   2\n"
          ]
        }
      ]
    },
    {
      "cell_type": "code",
      "metadata": {
        "id": "s9-NqsQ1ZpEv"
      },
      "source": [
        ""
      ],
      "execution_count": null,
      "outputs": []
    }
  ]
}