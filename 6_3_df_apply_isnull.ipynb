{
  "nbformat": 4,
  "nbformat_minor": 0,
  "metadata": {
    "colab": {
      "name": "6.3_df_apply_isnull.ipynb",
      "provenance": [],
      "authorship_tag": "ABX9TyOkmq8En7Xcjfkfd9twJdXm",
      "include_colab_link": true
    },
    "kernelspec": {
      "name": "python3",
      "display_name": "Python 3"
    },
    "language_info": {
      "name": "python"
    }
  },
  "cells": [
    {
      "cell_type": "markdown",
      "metadata": {
        "id": "view-in-github",
        "colab_type": "text"
      },
      "source": [
        "<a href=\"https://colab.research.google.com/github/lala991204/pandas/blob/master/6_3_df_apply_isnull.ipynb\" target=\"_parent\"><img src=\"https://colab.research.google.com/assets/colab-badge.svg\" alt=\"Open In Colab\"/></a>"
      ]
    },
    {
      "cell_type": "code",
      "metadata": {
        "colab": {
          "base_uri": "https://localhost:8080/"
        },
        "id": "EwfPQk-3sc51",
        "outputId": "feaa1a37-56bf-484f-fc74-8a684b5c6fb5"
      },
      "source": [
        "# 라이브러리 불러오기\n",
        "import seaborn as sns\n",
        "\n",
        "# titanic 데이터셋에서 age, fare 2개의 열을 선택하여 데이터프레임 만들기\n",
        "titanic = sns.load_dataset('titanic')\n",
        "df = titanic.loc[:, ['age','fare']]\n",
        "print(df.head())\n",
        "print('\\n')\n",
        "\n",
        "# 사용자 함수 정의\n",
        "def missing_value(series):      # 시리즈를 인자로 전달\n",
        "    return series.isnull()       # 불린 시리즈를 반환\n",
        "\n",
        "# 데이터프레임에 apply 메소드를 적용\n",
        "result = df.apply(missing_value, axis=0)\n",
        "print(result.head())\n",
        "print('\\n')\n",
        "print(type(result))"
      ],
      "execution_count": 2,
      "outputs": [
        {
          "output_type": "stream",
          "name": "stdout",
          "text": [
            "    age     fare\n",
            "0  22.0   7.2500\n",
            "1  38.0  71.2833\n",
            "2  26.0   7.9250\n",
            "3  35.0  53.1000\n",
            "4  35.0   8.0500\n",
            "\n",
            "\n",
            "     age   fare\n",
            "0  False  False\n",
            "1  False  False\n",
            "2  False  False\n",
            "3  False  False\n",
            "4  False  False\n",
            "\n",
            "\n",
            "<class 'pandas.core.frame.DataFrame'>\n"
          ]
        }
      ]
    }
  ]
}