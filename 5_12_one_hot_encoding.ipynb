{
  "nbformat": 4,
  "nbformat_minor": 0,
  "metadata": {
    "colab": {
      "name": "5.12_one_hot_encoding.ipynb",
      "provenance": [],
      "collapsed_sections": [],
      "mount_file_id": "1zC2soeXz5wFRT5tluX3lXJFPW4Y2f2u1",
      "authorship_tag": "ABX9TyOC4ic+uBeEg4n8dNByAqyy",
      "include_colab_link": true
    },
    "kernelspec": {
      "name": "python3",
      "display_name": "Python 3"
    },
    "language_info": {
      "name": "python"
    }
  },
  "cells": [
    {
      "cell_type": "markdown",
      "metadata": {
        "id": "view-in-github",
        "colab_type": "text"
      },
      "source": [
        "<a href=\"https://colab.research.google.com/github/lala991204/pandas/blob/master/5_12_one_hot_encoding.ipynb\" target=\"_parent\"><img src=\"https://colab.research.google.com/assets/colab-badge.svg\" alt=\"Open In Colab\"/></a>"
      ]
    },
    {
      "cell_type": "code",
      "metadata": {
        "colab": {
          "base_uri": "https://localhost:8080/"
        },
        "id": "NpHY3MBFGbWu",
        "outputId": "0615c3ae-a900-45e9-b9e0-319a0f53a8b6"
      },
      "source": [
        "# 라이브러리 불러오기\n",
        "import pandas as pd\n",
        "import numpy as np\n",
        "\n",
        "# read_csv() 함수로 df 생성\n",
        "df= pd.read_csv('/content/drive/MyDrive/Colab Notebooks/pandas/auto-mpg.csv')\n",
        "\n",
        "# 열 이름을 지정\n",
        "df.columns = ['mpg', 'cylinders', 'displacement', 'horsepower', 'weight',\n",
        "              'acceleration', 'model year', 'origin', 'name']\n",
        "\n",
        "# horsepower 열의 누락 데이터('?') 삭제하고 실수형으로 변환\n",
        "df['horsepower'].replace('?', np.nan, inplace=True)           # '?' 을 np.nan 으로 변경\n",
        "df.dropna(subset=['horsepower'], axis=0, inplace=True)       # 누락데이터 행을 삭제\n",
        "df['horsepower'] = df['horsepower'].astype('float')          # 문자열을 실수형으로 변환\n",
        "\n",
        "# np.histogram 으로 3개의 bin으로 나누는 경계 값의 리스트 구하기\n",
        "count, bin_dividers = np.histogram(df['horsepower'], bins=3)\n",
        "\n",
        "# 3개의 bin에 이름 지정\n",
        "bin_names = ['저출력', '보통출력', '고출력']\n",
        "\n",
        "# pd.cut으로 각 데이터를 3개의 bin에 할당\n",
        "df['hp_bin'] = pd.cut(x=df['horsepower'],            # 데이터 배열\n",
        "                      bins=bin_dividers,             # 경계 값 리스트\n",
        "                      labels=bin_names,              # bin 이름\n",
        "                      include_lowest=True)            # 첫 경계값 포함\n",
        "\n",
        "# sklern 라이브러리 불러오기\n",
        "from sklearn import preprocessing\n",
        "\n",
        "# 전처리를 위한 encoder 객체 만들기\n",
        "label_encoder = preprocessing.LabelEncoder()              # label encoder 생성\n",
        "onehot_encoder = preprocessing.OneHotEncoder()            # one hot encoder 생성\n",
        "\n",
        "# label encoder로 문자열 범주를 숫자형 범주로 변환\n",
        "onehot_labeled = label_encoder.fit_transform(df['hp_bin'].head(15))\n",
        "print(onehot_labeled)\n",
        "print(type(onehot_labeled))\n",
        "\n",
        "# 2차원 행렬로 형태 변경\n",
        "onehot_reshaped = onehot_labeled.reshape(len(onehot_labeled), 1)\n",
        "print(onehot_reshaped)\n",
        "print(type(onehot_reshaped))\n",
        "\n",
        "# 희소행렬로 변환\n",
        "onehot_fitted = onehot_encoder.fit_transform(onehot_reshaped)\n",
        "print(onehot_fitted)\n",
        "print(type(onehot_fitted))"
      ],
      "execution_count": 1,
      "outputs": [
        {
          "output_type": "stream",
          "name": "stdout",
          "text": [
            "[1 1 1 1 0 0 0 0 0 0 1 1 0 2 2]\n",
            "<class 'numpy.ndarray'>\n",
            "[[1]\n",
            " [1]\n",
            " [1]\n",
            " [1]\n",
            " [0]\n",
            " [0]\n",
            " [0]\n",
            " [0]\n",
            " [0]\n",
            " [0]\n",
            " [1]\n",
            " [1]\n",
            " [0]\n",
            " [2]\n",
            " [2]]\n",
            "<class 'numpy.ndarray'>\n",
            "  (0, 1)\t1.0\n",
            "  (1, 1)\t1.0\n",
            "  (2, 1)\t1.0\n",
            "  (3, 1)\t1.0\n",
            "  (4, 0)\t1.0\n",
            "  (5, 0)\t1.0\n",
            "  (6, 0)\t1.0\n",
            "  (7, 0)\t1.0\n",
            "  (8, 0)\t1.0\n",
            "  (9, 0)\t1.0\n",
            "  (10, 1)\t1.0\n",
            "  (11, 1)\t1.0\n",
            "  (12, 0)\t1.0\n",
            "  (13, 2)\t1.0\n",
            "  (14, 2)\t1.0\n",
            "<class 'scipy.sparse.csr.csr_matrix'>\n"
          ]
        }
      ]
    },
    {
      "cell_type": "code",
      "metadata": {
        "id": "K75UaPr1K0o8"
      },
      "source": [
        ""
      ],
      "execution_count": null,
      "outputs": []
    }
  ]
}