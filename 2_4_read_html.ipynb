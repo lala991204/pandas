{
  "nbformat": 4,
  "nbformat_minor": 0,
  "metadata": {
    "colab": {
      "name": "2.4_read_html.ipynb",
      "provenance": [],
      "mount_file_id": "1rsRzXWRkWdNxzDx6FxaUXF1wlcu9nzTf",
      "authorship_tag": "ABX9TyOFPbPTnCfaq/iFC4/5KN+5",
      "include_colab_link": true
    },
    "kernelspec": {
      "name": "python3",
      "display_name": "Python 3"
    },
    "language_info": {
      "name": "python"
    }
  },
  "cells": [
    {
      "cell_type": "markdown",
      "metadata": {
        "id": "view-in-github",
        "colab_type": "text"
      },
      "source": [
        "<a href=\"https://colab.research.google.com/github/lala991204/pandas/blob/master/2_4_read_html.ipynb\" target=\"_parent\"><img src=\"https://colab.research.google.com/assets/colab-badge.svg\" alt=\"Open In Colab\"/></a>"
      ]
    },
    {
      "cell_type": "code",
      "metadata": {
        "colab": {
          "base_uri": "https://localhost:8080/"
        },
        "id": "tM6nUgJFhvXu",
        "outputId": "b635a989-d354-4aa0-cdca-f7a63efe6675"
      },
      "source": [
        "import pandas as pd\n",
        "\n",
        "# HTML 파일 경로 or 웹 페이지 주소를 url 변수에 저장\n",
        "url = '/content/drive/MyDrive/Colab Notebooks/pandas/sample.html'\n",
        "\n",
        "# HTML 웹페이지의 표(table)를 가져와서 데이터프레임으로 변환\n",
        "tables = pd.read_html(url)\n",
        "\n",
        "# 표(table)의 개수 확인\n",
        "print(len(tables))\n",
        "print('\\n')\n",
        "\n",
        "# tables 리스트의 원소를 iteration하면서 각각 화면 출력\n",
        "for i in range(len(tables)):\n",
        "    print(\"tables[%s]\" % i)\n",
        "    print(tables[i])\n",
        "    print('\\n')\n",
        "\n",
        "# 파이썬 패키지 정보가 들어 있는 두 번째 데이터프레임을 선택하여 df 변수에 저장\n",
        "df = tables[1]\n",
        "\n",
        "# 'name' 열을 인덱스로 저장\n",
        "df.set_index(['name'], inplace=True)\n",
        "print(df)"
      ],
      "execution_count": 2,
      "outputs": [
        {
          "output_type": "stream",
          "name": "stdout",
          "text": [
            "2\n",
            "\n",
            "\n",
            "tables[0]\n",
            "   Unnamed: 0  c0  c1  c2  c3\n",
            "0           0   0   1   4   7\n",
            "1           1   1   2   5   8\n",
            "2           2   2   3   6   9\n",
            "\n",
            "\n",
            "tables[1]\n",
            "         name  year        developer  opensource\n",
            "0       NumPy  2006  Travis Oliphant        True\n",
            "1  matplotlib  2003   John D. Hunter        True\n",
            "2      pandas  2008    Wes Mckinneye        True\n",
            "\n",
            "\n",
            "            year        developer  opensource\n",
            "name                                         \n",
            "NumPy       2006  Travis Oliphant        True\n",
            "matplotlib  2003   John D. Hunter        True\n",
            "pandas      2008    Wes Mckinneye        True\n"
          ]
        }
      ]
    },
    {
      "cell_type": "code",
      "metadata": {
        "id": "1BnyhRfkj0nZ"
      },
      "source": [
        ""
      ],
      "execution_count": null,
      "outputs": []
    }
  ]
}