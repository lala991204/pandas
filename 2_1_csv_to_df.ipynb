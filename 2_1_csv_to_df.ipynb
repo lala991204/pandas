{
  "nbformat": 4,
  "nbformat_minor": 0,
  "metadata": {
    "colab": {
      "name": "2.1_csv_to_df.ipynb",
      "provenance": [],
      "collapsed_sections": [],
      "mount_file_id": "1XzLwwmBFow-Iisic9gzDlvHm4sLyizPx",
      "authorship_tag": "ABX9TyO5uFovo8/uLFYbDS1rzfcN",
      "include_colab_link": true
    },
    "kernelspec": {
      "name": "python3",
      "display_name": "Python 3"
    },
    "language_info": {
      "name": "python"
    }
  },
  "cells": [
    {
      "cell_type": "markdown",
      "metadata": {
        "id": "view-in-github",
        "colab_type": "text"
      },
      "source": [
        "<a href=\"https://colab.research.google.com/github/lala991204/pandas/blob/master/2_1_csv_to_df.ipynb\" target=\"_parent\"><img src=\"https://colab.research.google.com/assets/colab-badge.svg\" alt=\"Open In Colab\"/></a>"
      ]
    },
    {
      "cell_type": "code",
      "metadata": {
        "colab": {
          "base_uri": "https://localhost:8080/"
        },
        "id": "QBLXzUwVUMSC",
        "outputId": "aac7cf51-3d4d-4e12-e955-f45ea3d87827"
      },
      "source": [
        "# 라이브러리 불러오기\n",
        "import pandas as pd\n",
        "\n",
        "# 파일 경로(파이썬 파일과 같은 폴더)를 찾고, 변수 file_path에 저장\n",
        "file_path = '/content/drive/MyDrive/Colab Notebooks/pandas/read_csv_sample.csv'\n",
        "\n",
        "# read_csv() 함수로 데이터프레임 변환. 변수 df1에 저장\n",
        "df1 = pd.read_csv(file_path)\n",
        "print(df1)\n",
        "print('\\n')\n",
        "\n",
        "# read_csv() 함수로 데이터프레임 변환. 변수 df2에 저장. header=None 옵션\n",
        "df2 = pd.read_csv(file_path, header=None)\n",
        "print(df2)\n",
        "print('\\n')\n",
        "\n",
        "# read_csv() 함수로 데이터프레임 변환. 변수 df3에 저장. index_col=None 옵션\n",
        "df3 = pd.read_csv(file_path, index_col=None)\n",
        "print(df3)\n",
        "print('\\n')\n",
        "\n",
        "# read_csv() 함수로 데이터프레임 변환. 변수 df4에 저장. index_col='c0' 옵션\n",
        "df4 = pd.read_csv(file_path, index_col='c0')\n",
        "print(df4)"
      ],
      "execution_count": 3,
      "outputs": [
        {
          "output_type": "stream",
          "name": "stdout",
          "text": [
            "   c0  c1  c2  c3\n",
            "0   0   1   4   7\n",
            "1   1   2   5   8\n",
            "2   2   3   6   9\n",
            "\n",
            "\n",
            "    0   1   2   3\n",
            "0  c0  c1  c2  c3\n",
            "1   0   1   4   7\n",
            "2   1   2   5   8\n",
            "3   2   3   6   9\n",
            "\n",
            "\n",
            "   c0  c1  c2  c3\n",
            "0   0   1   4   7\n",
            "1   1   2   5   8\n",
            "2   2   3   6   9\n",
            "\n",
            "\n",
            "    c1  c2  c3\n",
            "c0            \n",
            "0    1   4   7\n",
            "1    2   5   8\n",
            "2    3   6   9\n"
          ]
        }
      ]
    },
    {
      "cell_type": "code",
      "metadata": {
        "id": "9Rxq6YEHcPTS"
      },
      "source": [
        ""
      ],
      "execution_count": null,
      "outputs": []
    }
  ]
}