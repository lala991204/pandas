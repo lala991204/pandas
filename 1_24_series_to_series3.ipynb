{
  "nbformat": 4,
  "nbformat_minor": 0,
  "metadata": {
    "colab": {
      "name": "1.24_series_to_series3.ipynb",
      "provenance": [],
      "authorship_tag": "ABX9TyMndnYjHmn+5RWGQl+xruRw",
      "include_colab_link": true
    },
    "kernelspec": {
      "name": "python3",
      "display_name": "Python 3"
    },
    "language_info": {
      "name": "python"
    }
  },
  "cells": [
    {
      "cell_type": "markdown",
      "metadata": {
        "id": "view-in-github",
        "colab_type": "text"
      },
      "source": [
        "<a href=\"https://colab.research.google.com/github/lala991204/pandas/blob/master/1_24_series_to_series3.ipynb\" target=\"_parent\"><img src=\"https://colab.research.google.com/assets/colab-badge.svg\" alt=\"Open In Colab\"/></a>"
      ]
    },
    {
      "cell_type": "code",
      "metadata": {
        "colab": {
          "base_uri": "https://localhost:8080/"
        },
        "id": "kHQjYwRi-6c1",
        "outputId": "2e732b21-dedb-4691-b7aa-069d12d5d3c9"
      },
      "source": [
        "# 라이브러리 불러오기\n",
        "import pandas as pd\n",
        "import numpy as np\n",
        "\n",
        "# 딕셔너리 데이터로 판다스 시리즈 만들기\n",
        "student1 = pd.Series({'국어':np.nan, '영어':80, '수학':90})\n",
        "student2 = pd.Series({'수학':80, '국어':90})\n",
        "\n",
        "print(student1)\n",
        "print('\\n')\n",
        "print(student2)\n",
        "print('\\n')\n",
        "\n",
        "# 두 학생의 과목별 점수로 사칙연산 수행(연산 메소드 사용)\n",
        "sr_add = student1.add(student2, fill_value=0)      # 덧셈\n",
        "sr_sub = student1.sub(student2, fill_value=0)      # 뺄셈\n",
        "sr_mul = student1.mul(student2, fill_value=0)      # 곱셈\n",
        "sr_div = student1.div(student2, fill_value=0)      # 나눗셈\n",
        "\n",
        "# 사칙연산 결과를 데이터프레임으로 합치기(시리즈 -> 데이터프레임)\n",
        "result = pd.DataFrame([sr_add, sr_sub, sr_mul, sr_div],\n",
        "                      index=['덧셈', '뺄셈', '곱셈', '나눗셈'])\n",
        "print(result)"
      ],
      "execution_count": 3,
      "outputs": [
        {
          "output_type": "stream",
          "name": "stdout",
          "text": [
            "국어     NaN\n",
            "영어    80.0\n",
            "수학    90.0\n",
            "dtype: float64\n",
            "\n",
            "\n",
            "수학    80\n",
            "국어    90\n",
            "dtype: int64\n",
            "\n",
            "\n",
            "       국어        수학    영어\n",
            "덧셈   90.0   170.000  80.0\n",
            "뺄셈  -90.0    10.000  80.0\n",
            "곱셈    0.0  7200.000   0.0\n",
            "나눗셈   0.0     1.125   inf\n"
          ]
        }
      ]
    },
    {
      "cell_type": "code",
      "metadata": {
        "id": "n1wHwrwSAPDM"
      },
      "source": [
        ""
      ],
      "execution_count": null,
      "outputs": []
    }
  ]
}