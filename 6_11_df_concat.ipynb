{
  "nbformat": 4,
  "nbformat_minor": 0,
  "metadata": {
    "colab": {
      "name": "6.11_df_concat.ipynb",
      "provenance": [],
      "toc_visible": true,
      "authorship_tag": "ABX9TyMVB+Wqjbcb9G8Cyv66S/2C",
      "include_colab_link": true
    },
    "kernelspec": {
      "name": "python3",
      "display_name": "Python 3"
    },
    "language_info": {
      "name": "python"
    }
  },
  "cells": [
    {
      "cell_type": "markdown",
      "metadata": {
        "id": "view-in-github",
        "colab_type": "text"
      },
      "source": [
        "<a href=\"https://colab.research.google.com/github/lala991204/pandas/blob/master/6_11_df_concat.ipynb\" target=\"_parent\"><img src=\"https://colab.research.google.com/assets/colab-badge.svg\" alt=\"Open In Colab\"/></a>"
      ]
    },
    {
      "cell_type": "code",
      "metadata": {
        "colab": {
          "base_uri": "https://localhost:8080/"
        },
        "id": "GaO_9LY3gGcm",
        "outputId": "77be308c-3d72-4344-ac3e-f05a2d966daa"
      },
      "source": [
        "# 라이브러리 불러오기\n",
        "import pandas as pd\n",
        "\n",
        "# 데이터프레임 만들기\n",
        "df1 = pd.DataFrame({'a':['a0', 'a1', 'a2', 'a3'],\n",
        "                    'b':['b0', 'b1', 'b2', 'b3'],\n",
        "                    'c':['c0', 'c1', 'c2', 'c3']},\n",
        "                    index=[0, 1, 2, 3])\n",
        "\n",
        "df2 = pd.DataFrame({'a':['a2', 'a3', 'a4', 'a5'],\n",
        "                    'b':['b2', 'b3', 'b4', 'b5'],\n",
        "                    'c':['c2', 'c3', 'c4', 'c5'],\n",
        "                    'd':['d2', 'd3', 'd4', 'd5']},\n",
        "                    index=[2, 3, 4, 5])\n",
        "\n",
        "print(df1, '\\n')\n",
        "print(df2, '\\n')\n",
        "\n",
        "# 2개의 데이터프레임을 위 아래 행 방향으로 이어 붙이듯 연결하기\n",
        "result1 = pd.concat([df1, df2])\n",
        "print(result1, '\\n')\n",
        "\n",
        "# ignore_index=True 옵션 설정하기\n",
        "result2 = pd.concat([df1, df2], ignore_index=True)      # 이어 붙인 후, 인덱스명을 새로 지정\n",
        "print(result2, '\\n')\n",
        "\n",
        "# 2개의 데이터프레임을 좌우 열 방향으로 이어 붙이듯 연결하기\n",
        "result3 = pd.concat([df1, df2], axis=1)\n",
        "print(result3, '\\n')\n",
        "\n",
        "# join='inner' 옵션 적용하기(교집합)\n",
        "result3_in = pd.concat([df1, df2], axis=1, join='inner')\n",
        "print(result3_in, '\\n')"
      ],
      "execution_count": 2,
      "outputs": [
        {
          "output_type": "stream",
          "name": "stdout",
          "text": [
            "    a   b   c\n",
            "0  a0  b0  c0\n",
            "1  a1  b1  c1\n",
            "2  a2  b2  c2\n",
            "3  a3  b3  c3 \n",
            "\n",
            "    a   b   c   d\n",
            "2  a2  b2  c2  d2\n",
            "3  a3  b3  c3  d3\n",
            "4  a4  b4  c4  d4\n",
            "5  a5  b5  c5  d5 \n",
            "\n",
            "    a   b   c    d\n",
            "0  a0  b0  c0  NaN\n",
            "1  a1  b1  c1  NaN\n",
            "2  a2  b2  c2  NaN\n",
            "3  a3  b3  c3  NaN\n",
            "2  a2  b2  c2   d2\n",
            "3  a3  b3  c3   d3\n",
            "4  a4  b4  c4   d4\n",
            "5  a5  b5  c5   d5 \n",
            "\n",
            "    a   b   c    d\n",
            "0  a0  b0  c0  NaN\n",
            "1  a1  b1  c1  NaN\n",
            "2  a2  b2  c2  NaN\n",
            "3  a3  b3  c3  NaN\n",
            "4  a2  b2  c2   d2\n",
            "5  a3  b3  c3   d3\n",
            "6  a4  b4  c4   d4\n",
            "7  a5  b5  c5   d5 \n",
            "\n",
            "     a    b    c    a    b    c    d\n",
            "0   a0   b0   c0  NaN  NaN  NaN  NaN\n",
            "1   a1   b1   c1  NaN  NaN  NaN  NaN\n",
            "2   a2   b2   c2   a2   b2   c2   d2\n",
            "3   a3   b3   c3   a3   b3   c3   d3\n",
            "4  NaN  NaN  NaN   a4   b4   c4   d4\n",
            "5  NaN  NaN  NaN   a5   b5   c5   d5 \n",
            "\n",
            "    a   b   c   a   b   c   d\n",
            "2  a2  b2  c2  a2  b2  c2  d2\n",
            "3  a3  b3  c3  a3  b3  c3  d3 \n",
            "\n"
          ]
        }
      ]
    },
    {
      "cell_type": "code",
      "metadata": {
        "colab": {
          "base_uri": "https://localhost:8080/"
        },
        "id": "rO__t-Dchujh",
        "outputId": "65e5365b-d051-45ab-bf3f-93f3aea32ef1"
      },
      "source": [
        "# 시리즈 만들기\n",
        "sr1 = pd.Series(['e0', 'e1', 'e2', 'e3'], name='e')\n",
        "sr2 = pd.Series(['f0', 'f1', 'f2'], name='f', index=[3,4,5])\n",
        "sr3 = pd.Series(['g0', 'g1', 'g2', 'g3'], name='g')\n",
        "\n",
        "# df1과 sr1을 좌우 열 방향으로 연결하기\n",
        "result4 = pd.concat([df1, sr1], axis=1)\n",
        "print(result4, '\\n')\n",
        "\n",
        "# df2와 sr2를 좌우 열 방향으로 연결하기\n",
        "result5 = pd.concat([df2, sr2], axis=1, sort=True)\n",
        "print(result5, '\\n')\n",
        "\n",
        "# sr1과 sr3을 좌우 열 방향으로 연결하기\n",
        "result6 = pd.concat([sr1, sr3], axis=1)\n",
        "print(result6, '\\n')\n",
        "\n",
        "# 위 아래 행 방향 연결\n",
        "result7 = pd.concat([sr1, sr3], axis=0)\n",
        "print(result7, '\\n')"
      ],
      "execution_count": 4,
      "outputs": [
        {
          "output_type": "stream",
          "name": "stdout",
          "text": [
            "    a   b   c   e\n",
            "0  a0  b0  c0  e0\n",
            "1  a1  b1  c1  e1\n",
            "2  a2  b2  c2  e2\n",
            "3  a3  b3  c3  e3 \n",
            "\n",
            "    a   b   c   d    f\n",
            "2  a2  b2  c2  d2  NaN\n",
            "3  a3  b3  c3  d3   f0\n",
            "4  a4  b4  c4  d4   f1\n",
            "5  a5  b5  c5  d5   f2 \n",
            "\n",
            "    e   g\n",
            "0  e0  g0\n",
            "1  e1  g1\n",
            "2  e2  g2\n",
            "3  e3  g3 \n",
            "\n",
            "0    e0\n",
            "1    e1\n",
            "2    e2\n",
            "3    e3\n",
            "0    g0\n",
            "1    g1\n",
            "2    g2\n",
            "3    g3\n",
            "dtype: object \n",
            "\n"
          ]
        }
      ]
    }
  ]
}