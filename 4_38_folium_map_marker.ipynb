{
  "nbformat": 4,
  "nbformat_minor": 0,
  "metadata": {
    "colab": {
      "name": "4.38_folium_map_marker.ipynb",
      "provenance": [],
      "collapsed_sections": [],
      "mount_file_id": "1Rq3J3DZb-4aAjw8NiOBiz0rjTfe1m2kp",
      "authorship_tag": "ABX9TyMkKeD6zWIANGVDhi3wr4e4",
      "include_colab_link": true
    },
    "kernelspec": {
      "name": "python3",
      "display_name": "Python 3"
    },
    "language_info": {
      "name": "python"
    }
  },
  "cells": [
    {
      "cell_type": "markdown",
      "metadata": {
        "id": "view-in-github",
        "colab_type": "text"
      },
      "source": [
        "<a href=\"https://colab.research.google.com/github/lala991204/pandas/blob/master/4_38_folium_map_marker.ipynb\" target=\"_parent\"><img src=\"https://colab.research.google.com/assets/colab-badge.svg\" alt=\"Open In Colab\"/></a>"
      ]
    },
    {
      "cell_type": "code",
      "metadata": {
        "id": "xLLOpkxZSO8v"
      },
      "source": [
        "# 라이브러리 불러오기\n",
        "import pandas as pd\n",
        "import folium\n",
        "\n",
        "# 대학교 리스트를 데이터프레임으로 변환\n",
        "df = pd.read_excel('/content/drive/MyDrive/Colab Notebooks/pandas/서울지역 대학교 위치.xlsx', engine='openpyxl', index_col=0)\n",
        "\n",
        "# 서울 지도 만들기\n",
        "seoul_map = folium.Map(location=[37.55, 126.98], tiles='Stamen Terrain',\n",
        "                       zoom_start=12)\n",
        "\n",
        "\n",
        "# 대학교 위치 정보를 Marker로 표시\n",
        "for name, lat, lng in zip(df.index, df.위도, df.경도):\n",
        "    folium.Marker([lat, lng], popup=name).add_to(seoul_map)\n",
        "\n",
        "# 지도를 HTML 파일로 저장하기\n",
        "seoul_map.save('/content/drive/MyDrive/Colab Notebooks/pandas/seoul_colleges.html')"
      ],
      "execution_count": 17,
      "outputs": []
    },
    {
      "cell_type": "code",
      "metadata": {
        "id": "xaveaz5ub0Ik"
      },
      "source": [
        ""
      ],
      "execution_count": null,
      "outputs": []
    }
  ]
}