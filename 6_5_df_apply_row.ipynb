{
  "nbformat": 4,
  "nbformat_minor": 0,
  "metadata": {
    "colab": {
      "name": "6.5_df_apply_row.ipynb",
      "provenance": [],
      "authorship_tag": "ABX9TyOtOVK4xzsr5VeItsxGT2gP",
      "include_colab_link": true
    },
    "kernelspec": {
      "name": "python3",
      "display_name": "Python 3"
    },
    "language_info": {
      "name": "python"
    }
  },
  "cells": [
    {
      "cell_type": "markdown",
      "metadata": {
        "id": "view-in-github",
        "colab_type": "text"
      },
      "source": [
        "<a href=\"https://colab.research.google.com/github/lala991204/pandas/blob/master/6_5_df_apply_row.ipynb\" target=\"_parent\"><img src=\"https://colab.research.google.com/assets/colab-badge.svg\" alt=\"Open In Colab\"/></a>"
      ]
    },
    {
      "cell_type": "code",
      "metadata": {
        "colab": {
          "base_uri": "https://localhost:8080/"
        },
        "id": "u5yU10zcxV7o",
        "outputId": "d7bf6c11-9450-49f0-cc40-3f747aeed6dc"
      },
      "source": [
        "# 라이브러리 불러오기\n",
        "import seaborn as sns\n",
        "\n",
        "# titanic 데이터셋에서 age, fare 2개 열을 선택하여 데이터프레임 만들기\n",
        "titanic = sns.load_dataset('titanic')\n",
        "df = titanic.loc[:, ['age','fare']]\n",
        "df['ten'] = 10\n",
        "print(df.head())\n",
        "print('\\n')\n",
        "\n",
        "# 사용자 함수 정의\n",
        "def add_two_obj(a, b):         # 두 객체의 합\n",
        "    return a + b\n",
        "\n",
        "# 데이터프레임의 2개 열에 적용\n",
        "# x=df, a=df['age'], b=df['ten']\n",
        "df['add'] = df.apply(lambda x: add_two_obj(x['age'], x['ten']), axis=1)       # 새로운 열 추가\n",
        "print(df.head())"
      ],
      "execution_count": 1,
      "outputs": [
        {
          "output_type": "stream",
          "name": "stdout",
          "text": [
            "    age     fare  ten\n",
            "0  22.0   7.2500   10\n",
            "1  38.0  71.2833   10\n",
            "2  26.0   7.9250   10\n",
            "3  35.0  53.1000   10\n",
            "4  35.0   8.0500   10\n",
            "\n",
            "\n",
            "    age     fare  ten   add\n",
            "0  22.0   7.2500   10  32.0\n",
            "1  38.0  71.2833   10  48.0\n",
            "2  26.0   7.9250   10  36.0\n",
            "3  35.0  53.1000   10  45.0\n",
            "4  35.0   8.0500   10  45.0\n"
          ]
        }
      ]
    },
    {
      "cell_type": "code",
      "metadata": {
        "id": "bfBVuyYyydEY"
      },
      "source": [
        ""
      ],
      "execution_count": null,
      "outputs": []
    }
  ]
}