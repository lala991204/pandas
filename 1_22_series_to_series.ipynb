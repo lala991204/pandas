{
  "nbformat": 4,
  "nbformat_minor": 0,
  "metadata": {
    "colab": {
      "name": "1.22_series_to_series.ipynb",
      "provenance": [],
      "authorship_tag": "ABX9TyO/lhl9FgjTaUv7U59yKSWk",
      "include_colab_link": true
    },
    "kernelspec": {
      "name": "python3",
      "display_name": "Python 3"
    },
    "language_info": {
      "name": "python"
    }
  },
  "cells": [
    {
      "cell_type": "markdown",
      "metadata": {
        "id": "view-in-github",
        "colab_type": "text"
      },
      "source": [
        "<a href=\"https://colab.research.google.com/github/lala991204/pandas/blob/master/1_22_series_to_series.ipynb\" target=\"_parent\"><img src=\"https://colab.research.google.com/assets/colab-badge.svg\" alt=\"Open In Colab\"/></a>"
      ]
    },
    {
      "cell_type": "code",
      "metadata": {
        "colab": {
          "base_uri": "https://localhost:8080/"
        },
        "id": "JeQfckVv7wti",
        "outputId": "306d29a2-cdeb-4cc7-f5fb-e8f6582c8a48"
      },
      "source": [
        "# 라이브러리 불러오기\n",
        "import pandas as pd\n",
        "\n",
        "# 딕셔너리 데이터로 판다스 시리즈 만들기\n",
        "student1 = pd.Series({'국어':100, '영어':80, '수학':90})\n",
        "student2 = pd.Series({'수학':80, '국어':90, '영어':80})\n",
        "\n",
        "print(student1)\n",
        "print('\\n')\n",
        "print(student2)\n",
        "print('\\n')\n",
        "\n",
        "# 두 학생의 과목별 점수로 사칙연산 수행\n",
        "addition = student1 + student2           # 덧셈\n",
        "subtraction = student1 - student2        # 뺄셈\n",
        "multiplication = student1 * student2     # 곱셈\n",
        "division = student1/student2             # 나눗셈\n",
        "print(type(division))\n",
        "print('\\n')\n",
        "\n",
        "# 사칙연산 결과를 데이터프레임으로 합치기(시리즈 -> 데이터프레임)\n",
        "result = pd.DataFrame([addition, subtraction, multiplication, division],\n",
        "                      index=['덧셈', '뺄셈', '곱셈', '나눗셈'])\n",
        "print(result)"
      ],
      "execution_count": 1,
      "outputs": [
        {
          "output_type": "stream",
          "name": "stdout",
          "text": [
            "국어    100\n",
            "영어     80\n",
            "수학     90\n",
            "dtype: int64\n",
            "\n",
            "\n",
            "수학    80\n",
            "국어    90\n",
            "영어    80\n",
            "dtype: int64\n",
            "\n",
            "\n",
            "<class 'pandas.core.series.Series'>\n",
            "\n",
            "\n",
            "              국어        수학      영어\n",
            "덧셈    190.000000   170.000   160.0\n",
            "뺄셈     10.000000    10.000     0.0\n",
            "곱셈   9000.000000  7200.000  6400.0\n",
            "나눗셈     1.111111     1.125     1.0\n"
          ]
        }
      ]
    },
    {
      "cell_type": "code",
      "metadata": {
        "id": "E9UgIS3H9Eab"
      },
      "source": [
        ""
      ],
      "execution_count": null,
      "outputs": []
    }
  ]
}