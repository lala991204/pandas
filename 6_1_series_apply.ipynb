{
  "nbformat": 4,
  "nbformat_minor": 0,
  "metadata": {
    "colab": {
      "name": "6.1_series_apply.ipynb",
      "provenance": [],
      "authorship_tag": "ABX9TyOA3FTw6SK9CVTTIidNYIjx",
      "include_colab_link": true
    },
    "kernelspec": {
      "name": "python3",
      "display_name": "Python 3"
    },
    "language_info": {
      "name": "python"
    }
  },
  "cells": [
    {
      "cell_type": "markdown",
      "metadata": {
        "id": "view-in-github",
        "colab_type": "text"
      },
      "source": [
        "<a href=\"https://colab.research.google.com/github/lala991204/pandas/blob/master/6_1_series_apply.ipynb\" target=\"_parent\"><img src=\"https://colab.research.google.com/assets/colab-badge.svg\" alt=\"Open In Colab\"/></a>"
      ]
    },
    {
      "cell_type": "code",
      "metadata": {
        "colab": {
          "base_uri": "https://localhost:8080/"
        },
        "id": "G4gu3zRUoQvC",
        "outputId": "de2fdadc-7471-4f6b-94f6-1d0f9fb4fd2d"
      },
      "source": [
        "# 라이브러리 불러오기\n",
        "import seaborn as sns\n",
        "\n",
        "# titanic 데이터셋에서 age, fare 2개 열을 선택하여 데이터프레임 만들기\n",
        "titanic = sns.load_dataset('titanic')\n",
        "df = titanic.loc[:, ['age','fare']]\n",
        "df['ten'] = 10\n",
        "print(df.head())"
      ],
      "execution_count": 1,
      "outputs": [
        {
          "output_type": "stream",
          "name": "stdout",
          "text": [
            "    age     fare  ten\n",
            "0  22.0   7.2500   10\n",
            "1  38.0  71.2833   10\n",
            "2  26.0   7.9250   10\n",
            "3  35.0  53.1000   10\n",
            "4  35.0   8.0500   10\n"
          ]
        }
      ]
    },
    {
      "cell_type": "code",
      "metadata": {
        "colab": {
          "base_uri": "https://localhost:8080/"
        },
        "id": "QwxoXogyooVx",
        "outputId": "e456996e-1a92-44e8-f463-07ece0a387fb"
      },
      "source": [
        "# 사용자 함수 정의\n",
        "def add_10(n):               # 10을 더하는 함수\n",
        "   return n + 10\n",
        "\n",
        "def add_two_obj(a, b):       # 두 객체의 합\n",
        "    return a + b\n",
        "\n",
        "print(add_10(10))\n",
        "print(add_two_obj(10, 10))"
      ],
      "execution_count": 2,
      "outputs": [
        {
          "output_type": "stream",
          "name": "stdout",
          "text": [
            "20\n",
            "20\n"
          ]
        }
      ]
    },
    {
      "cell_type": "code",
      "metadata": {
        "colab": {
          "base_uri": "https://localhost:8080/"
        },
        "id": "gu2FNVkSo93H",
        "outputId": "ddc0b3de-4782-452e-8c14-c11a6a0e4dd1"
      },
      "source": [
        "# 시리즈 객체에 적용\n",
        "srl = df['age'].apply(add_10)                # n = df['age']의 모든 원소\n",
        "print(srl.head())\n",
        "print('\\n')\n",
        "\n",
        "# 시리즈 객체와 숫자에 적용: 2개의 인수(시리즈 + 숫자)\n",
        "sr2 = df['age'].apply(add_two_obj, b=10)     # a=df['age']의 모든 원소, b=10\n",
        "print(sr2.head())\n",
        "print('\\n')\n",
        "\n",
        "# lambda 함수 활용: 시리즈 객체에 적용\n",
        "sr3 = df['age'].apply(lambda x: add_10(x))   # x=df['age']\n",
        "print(sr3.head())"
      ],
      "execution_count": 3,
      "outputs": [
        {
          "output_type": "stream",
          "name": "stdout",
          "text": [
            "0    32.0\n",
            "1    48.0\n",
            "2    36.0\n",
            "3    45.0\n",
            "4    45.0\n",
            "Name: age, dtype: float64\n",
            "\n",
            "\n",
            "0    32.0\n",
            "1    48.0\n",
            "2    36.0\n",
            "3    45.0\n",
            "4    45.0\n",
            "Name: age, dtype: float64\n",
            "\n",
            "\n",
            "0    32.0\n",
            "1    48.0\n",
            "2    36.0\n",
            "3    45.0\n",
            "4    45.0\n",
            "Name: age, dtype: float64\n"
          ]
        }
      ]
    }
  ]
}