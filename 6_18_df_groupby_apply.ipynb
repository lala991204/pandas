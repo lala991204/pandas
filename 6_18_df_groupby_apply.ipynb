{
  "nbformat": 4,
  "nbformat_minor": 0,
  "metadata": {
    "colab": {
      "name": "6.18_df_groupby_apply.ipynb",
      "provenance": [],
      "authorship_tag": "ABX9TyP8qx8s5msEu/hM9glfaps5",
      "include_colab_link": true
    },
    "kernelspec": {
      "name": "python3",
      "display_name": "Python 3"
    },
    "language_info": {
      "name": "python"
    }
  },
  "cells": [
    {
      "cell_type": "markdown",
      "metadata": {
        "id": "view-in-github",
        "colab_type": "text"
      },
      "source": [
        "<a href=\"https://colab.research.google.com/github/lala991204/pandas/blob/master/6_18_df_groupby_apply.ipynb\" target=\"_parent\"><img src=\"https://colab.research.google.com/assets/colab-badge.svg\" alt=\"Open In Colab\"/></a>"
      ]
    },
    {
      "cell_type": "code",
      "metadata": {
        "colab": {
          "base_uri": "https://localhost:8080/"
        },
        "id": "N5sc2jsP1o0P",
        "outputId": "acf1e0d6-428f-4cc3-9a3d-60f1f267ccc0"
      },
      "source": [
        "# 라이브러리 불러오기\n",
        "import pandas as pd\n",
        "import seaborn as sns\n",
        "\n",
        "# titanic 데이터셋에서 age, sex 등 5개 열을 선택하여 데이터프레임 만들기\n",
        "titanic = sns.load_dataset('titanic')\n",
        "df = titanic.loc[:, ['age', 'sex', 'class', 'fare', 'survived']]\n",
        "\n",
        "# class 열을 기준으로 분할\n",
        "grouped = df.groupby(['class'])\n",
        "\n",
        "# 집계 : 각 그룹별 요약 통계정보를 집계\n",
        "agg_grouped = grouped.apply(lambda x: x.describe())\n",
        "print(agg_grouped)\n",
        "print('\\n')"
      ],
      "execution_count": 1,
      "outputs": [
        {
          "output_type": "stream",
          "name": "stdout",
          "text": [
            "                     age        fare    survived\n",
            "class                                           \n",
            "First  count  186.000000  216.000000  216.000000\n",
            "       mean    38.233441   84.154687    0.629630\n",
            "       std     14.802856   78.380373    0.484026\n",
            "       min      0.920000    0.000000    0.000000\n",
            "       25%     27.000000   30.923950    0.000000\n",
            "       50%     37.000000   60.287500    1.000000\n",
            "       75%     49.000000   93.500000    1.000000\n",
            "       max     80.000000  512.329200    1.000000\n",
            "Second count  173.000000  184.000000  184.000000\n",
            "       mean    29.877630   20.662183    0.472826\n",
            "       std     14.001077   13.417399    0.500623\n",
            "       min      0.670000    0.000000    0.000000\n",
            "       25%     23.000000   13.000000    0.000000\n",
            "       50%     29.000000   14.250000    0.000000\n",
            "       75%     36.000000   26.000000    1.000000\n",
            "       max     70.000000   73.500000    1.000000\n",
            "Third  count  355.000000  491.000000  491.000000\n",
            "       mean    25.140620   13.675550    0.242363\n",
            "       std     12.495398   11.778142    0.428949\n",
            "       min      0.420000    0.000000    0.000000\n",
            "       25%     18.000000    7.750000    0.000000\n",
            "       50%     24.000000    8.050000    0.000000\n",
            "       75%     32.000000   15.500000    0.000000\n",
            "       max     74.000000   69.550000    1.000000\n",
            "\n",
            "\n"
          ]
        }
      ]
    },
    {
      "cell_type": "code",
      "metadata": {
        "colab": {
          "base_uri": "https://localhost:8080/"
        },
        "id": "G44iR7zX3IdX",
        "outputId": "c73e5ea5-e595-4aba-a584-090fd1a6eb69"
      },
      "source": [
        "# z-score를 계산하는 사용자 함수 정의\n",
        "def z_score(x):\n",
        "    return (x - x.mean()) / x.std()\n",
        "\n",
        "age_zscore = grouped.age.apply(z_score)       # 기본값 axis=0\n",
        "print(age_zscore.head())\n",
        "print('\\n')"
      ],
      "execution_count": 4,
      "outputs": [
        {
          "output_type": "stream",
          "name": "stdout",
          "text": [
            "0   -0.251342\n",
            "1   -0.015770\n",
            "2    0.068776\n",
            "3   -0.218434\n",
            "4    0.789041\n",
            "Name: age, dtype: float64\n",
            "\n",
            "\n"
          ]
        }
      ]
    },
    {
      "cell_type": "code",
      "metadata": {
        "colab": {
          "base_uri": "https://localhost:8080/"
        },
        "id": "2AZrYYnP3LK9",
        "outputId": "1f6494ae-f606-4e93-f373-83cb0ed26ea7"
      },
      "source": [
        "# 필터링 : age열의 데이터 평균이 30보다 작은 \"그룹\"만을 필터링하여 출력\n",
        "age_filter = grouped.apply(lambda x: x.age.mean() < 30)\n",
        "print(age_filter)\n",
        "print('\\n')\n",
        "\n",
        "for x in age_filter.index:\n",
        "    if age_filter[x]==True:\n",
        "         age_filter_df = grouped.get_group(x)\n",
        "         print(age_filter_df.head())\n",
        "         print('\\n')"
      ],
      "execution_count": 5,
      "outputs": [
        {
          "output_type": "stream",
          "name": "stdout",
          "text": [
            "class\n",
            "First     False\n",
            "Second     True\n",
            "Third      True\n",
            "dtype: bool\n",
            "\n",
            "\n",
            "     age     sex   class     fare  survived\n",
            "9   14.0  female  Second  30.0708         1\n",
            "15  55.0  female  Second  16.0000         1\n",
            "17   NaN    male  Second  13.0000         1\n",
            "20  35.0    male  Second  26.0000         0\n",
            "21  34.0    male  Second  13.0000         1\n",
            "\n",
            "\n",
            "    age     sex  class     fare  survived\n",
            "0  22.0    male  Third   7.2500         0\n",
            "2  26.0  female  Third   7.9250         1\n",
            "4  35.0    male  Third   8.0500         0\n",
            "5   NaN    male  Third   8.4583         0\n",
            "7   2.0    male  Third  21.0750         0\n",
            "\n",
            "\n"
          ]
        }
      ]
    },
    {
      "cell_type": "code",
      "metadata": {
        "id": "gdomSL5L3Vm2"
      },
      "source": [
        ""
      ],
      "execution_count": null,
      "outputs": []
    }
  ]
}