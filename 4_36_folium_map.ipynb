{
  "nbformat": 4,
  "nbformat_minor": 0,
  "metadata": {
    "colab": {
      "name": "4.36_folium_map.ipynb",
      "provenance": [],
      "mount_file_id": "1YylIx_4LCN1PceJvriE2vEW4dbCSsfKa",
      "authorship_tag": "ABX9TyMS3EaC6v6YXluntOt73wse",
      "include_colab_link": true
    },
    "kernelspec": {
      "name": "python3",
      "display_name": "Python 3"
    },
    "language_info": {
      "name": "python"
    }
  },
  "cells": [
    {
      "cell_type": "markdown",
      "metadata": {
        "id": "view-in-github",
        "colab_type": "text"
      },
      "source": [
        "<a href=\"https://colab.research.google.com/github/lala991204/pandas/blob/master/4_36_folium_map.ipynb\" target=\"_parent\"><img src=\"https://colab.research.google.com/assets/colab-badge.svg\" alt=\"Open In Colab\"/></a>"
      ]
    },
    {
      "cell_type": "code",
      "metadata": {
        "id": "NyvMuJWzEJJA"
      },
      "source": [
        "# 라이브러리 불러오기\n",
        "import folium\n",
        "\n",
        "# 서울 지도 만들기\n",
        "seoul_map = folium.Map(location=[37.55, 126.98], zoom_start=12)\n",
        "\n",
        "# 지도를 HTML 파일로 저장하기\n",
        "seoul_map.save('/content/drive/MyDrive/Colab Notebooks/pandas/seoul.html')"
      ],
      "execution_count": 2,
      "outputs": []
    }
  ]
}