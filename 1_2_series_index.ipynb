{
  "nbformat": 4,
  "nbformat_minor": 0,
  "metadata": {
    "colab": {
      "name": "1.2_series_index.ipynb",
      "provenance": [],
      "authorship_tag": "ABX9TyO5Y7Ip/mMirrOWQ/0ckwo3",
      "include_colab_link": true
    },
    "kernelspec": {
      "name": "python3",
      "display_name": "Python 3"
    },
    "language_info": {
      "name": "python"
    }
  },
  "cells": [
    {
      "cell_type": "markdown",
      "metadata": {
        "id": "view-in-github",
        "colab_type": "text"
      },
      "source": [
        "<a href=\"https://colab.research.google.com/github/lala991204/pandas/blob/master/1_2_series_index.ipynb\" target=\"_parent\"><img src=\"https://colab.research.google.com/assets/colab-badge.svg\" alt=\"Open In Colab\"/></a>"
      ]
    },
    {
      "cell_type": "code",
      "metadata": {
        "colab": {
          "base_uri": "https://localhost:8080/"
        },
        "id": "xhHbGQz6mokA",
        "outputId": "2a36c4d7-7ac3-4dda-c92e-8d2a8a8d3b80"
      },
      "source": [
        "import pandas as pd\n",
        "\n",
        "# 리스트를 시리즈로 변환하여 변수 sr에 저장\n",
        "list_data  = ['2019-01-02', 3.14, 'ABC', 100, True]\n",
        "sr = pd.Series(list_data)\n",
        "print(sr)"
      ],
      "execution_count": 1,
      "outputs": [
        {
          "output_type": "stream",
          "name": "stdout",
          "text": [
            "0    2019-01-02\n",
            "1          3.14\n",
            "2           ABC\n",
            "3           100\n",
            "4          True\n",
            "dtype: object\n"
          ]
        }
      ]
    },
    {
      "cell_type": "code",
      "metadata": {
        "colab": {
          "base_uri": "https://localhost:8080/"
        },
        "id": "4GqeDiX8m41t",
        "outputId": "b4eb234a-08fd-439a-a436-8341e202e9ff"
      },
      "source": [
        "# 인덱스 배열은 변수 idx에 저장. 데이터 값 배열은 변수 val에 저장\n",
        "idx = sr.index\n",
        "val = sr.values\n",
        "print(idx)\n",
        "print('\\n')\n",
        "print(val)"
      ],
      "execution_count": 2,
      "outputs": [
        {
          "output_type": "stream",
          "name": "stdout",
          "text": [
            "RangeIndex(start=0, stop=5, step=1)\n",
            "\n",
            "\n",
            "['2019-01-02' 3.14 'ABC' 100 True]\n"
          ]
        }
      ]
    },
    {
      "cell_type": "code",
      "metadata": {
        "id": "yrjuafMInOJM"
      },
      "source": [
        ""
      ],
      "execution_count": null,
      "outputs": []
    }
  ]
}