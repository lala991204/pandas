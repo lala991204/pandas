{
  "nbformat": 4,
  "nbformat_minor": 0,
  "metadata": {
    "colab": {
      "name": "4.17_matplotlib_barh1.ipynb",
      "provenance": [],
      "collapsed_sections": [],
      "mount_file_id": "1uQU5ArsatOrDw9jg_tWxtGmif9kaBBV5",
      "authorship_tag": "ABX9TyNaDf41/Fu40J02XVkTNmFr",
      "include_colab_link": true
    },
    "kernelspec": {
      "name": "python3",
      "display_name": "Python 3"
    },
    "language_info": {
      "name": "python"
    }
  },
  "cells": [
    {
      "cell_type": "markdown",
      "metadata": {
        "id": "view-in-github",
        "colab_type": "text"
      },
      "source": [
        "<a href=\"https://colab.research.google.com/github/lala991204/pandas/blob/master/4_17_matplotlib_barh1.ipynb\" target=\"_parent\"><img src=\"https://colab.research.google.com/assets/colab-badge.svg\" alt=\"Open In Colab\"/></a>"
      ]
    },
    {
      "cell_type": "code",
      "metadata": {
        "id": "BPrYXvjtCOQi"
      },
      "source": [
        "# 단계 1: 폰트 설치\n",
        "import matplotlib.font_manager as fm\n",
        "\n",
        "!apt-get -qq -y install fonts-nanum > /dev/null\n",
        "fontpath = '/usr/share/fonts/truetype/nanum/NanumBarunGothic.ttf'\n",
        "font = fm.FontProperties(fname=fontpath, size=9)\n",
        "fm._rebuild()"
      ],
      "execution_count": null,
      "outputs": []
    },
    {
      "cell_type": "code",
      "metadata": {
        "id": "1Xi5etXRCY7K"
      },
      "source": [
        "# 단계 2: 런타임 재시작\n",
        "import os\n",
        "os.kill(os.getpid(), 9)"
      ],
      "execution_count": null,
      "outputs": []
    },
    {
      "cell_type": "code",
      "metadata": {
        "id": "60y8HMJxCZ6X"
      },
      "source": [
        "# 단계 3: 한글 폰트 설정\n",
        "import matplotlib.pyplot as plt\n",
        "import matplotlib as mpl\n",
        "import matplotlib.font_manager as fm\n",
        "\n",
        "# 마이너스 표시 문제\n",
        "mpl.rcParams['axes.unicode_minus'] = False\n",
        "\t\n",
        "# 한글 폰트 설정\n",
        "path = '/usr/share/fonts/truetype/nanum/NanumBarunGothic.ttf'\n",
        "font_name = fm.FontProperties(fname=path, size=18).get_name()\n",
        "plt.rc('font', family=font_name)\n",
        "fm._rebuild()"
      ],
      "execution_count": 1,
      "outputs": []
    },
    {
      "cell_type": "code",
      "metadata": {
        "colab": {
          "base_uri": "https://localhost:8080/",
          "height": 352
        },
        "id": "ZU7ROp_WCi06",
        "outputId": "cdd46434-86be-4933-82f5-6ba8d0dd3ea2"
      },
      "source": [
        "%matplotlib inline\n",
        "# 라이브러리 불러오기\n",
        "import pandas as pd\n",
        "import matplotlib.pyplot as plt\n",
        "\n",
        "# Excel 데이터를 데이터프레임으로 변환\n",
        "df = pd.read_excel(\"/content/drive/MyDrive/Colab Notebooks/pandas/시도별 전출입 인구수.xlsx\", engine='openpyxl', header=0)\n",
        "\n",
        "# 전출지별에서 누락값(NaN)을 앞 데이터로 채움(엑셀 양식 병합 부분)\n",
        "df = df.fillna(method='ffill')\n",
        "\n",
        "# 서울에서 다른 지역으로 이동한 데이터만 추출하여 정리\n",
        "mask = (df['전출지별'] == '서울특별시') & (df['전입지별'] != '서울특별시')\n",
        "df_seoul = df[mask]\n",
        "df_seoul = df_seoul.drop(['전출지별'], axis=1)\n",
        "df_seoul.rename({'전입지별':'전입지'}, axis=1, inplace=True)\n",
        "df_seoul.set_index('전입지', inplace=True)\n",
        "\n",
        "# 서울에서 '충청남도', '경상북도', '강원도', '전라남도'로 이동한 인구 데이터 값만 선택\n",
        "col_years = list(map(str, range(2010, 2018)))\n",
        "df_4 = df_seoul.loc[['충청남도', '경상북도', '강원도', '전라남도'], col_years]\n",
        "\n",
        "# 2010-2017년 이동 인구 수를 합계하여 새로운 열로 추가\n",
        "df_4['합계'] = df_4.sum(axis=1)\n",
        "\n",
        "# 가장 큰 값부터 정렬\n",
        "df_total = df_4[['합계']].sort_values(by='합계', ascending=True)\n",
        "\n",
        "# 스타일 서식 지정\n",
        "plt.style.use('ggplot')\n",
        "\n",
        "# 수평 막대 그래프 그리기\n",
        "df_total.plot(kind='barh', color='cornflowerblue', width=0.5, figsize=(10, 5))\n",
        "\n",
        "plt.title('서울 -> 타시도 인구 이동')\n",
        "plt.ylabel('전입지')\n",
        "plt.xlabel('이동 인구 수')\n",
        "\n",
        "plt.show()"
      ],
      "execution_count": 4,
      "outputs": [
        {
          "output_type": "display_data",
          "data": {
            "image/png": "[encoded data removed]",
            "text/plain": [
              "<Figure size 720x360 with 1 Axes>"
            ]
          },
          "metadata": {}
        }
      ]
    },
    {
      "cell_type": "code",
      "metadata": {
        "id": "dW9mNTGvD2yf"
      },
      "source": [
        ""
      ],
      "execution_count": null,
      "outputs": []
    }
  ]
}