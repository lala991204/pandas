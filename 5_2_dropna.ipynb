{
  "nbformat": 4,
  "nbformat_minor": 0,
  "metadata": {
    "colab": {
      "name": "5.2_dropna.ipynb",
      "provenance": [],
      "authorship_tag": "ABX9TyONT/Mzm8p+1B3/7zNPD4f6",
      "include_colab_link": true
    },
    "kernelspec": {
      "name": "python3",
      "display_name": "Python 3"
    },
    "language_info": {
      "name": "python"
    }
  },
  "cells": [
    {
      "cell_type": "markdown",
      "metadata": {
        "id": "view-in-github",
        "colab_type": "text"
      },
      "source": [
        "<a href=\"https://colab.research.google.com/github/lala991204/pandas/blob/master/5_2_dropna.ipynb\" target=\"_parent\"><img src=\"https://colab.research.google.com/assets/colab-badge.svg\" alt=\"Open In Colab\"/></a>"
      ]
    },
    {
      "cell_type": "code",
      "metadata": {
        "colab": {
          "base_uri": "https://localhost:8080/"
        },
        "id": "_jAcXvwEPJfb",
        "outputId": "aed352bb-8510-4aca-c2d9-870568332fda"
      },
      "source": [
        "# 라이브러리 불러오기\n",
        "import seaborn as sns\n",
        "\n",
        "# titanic 데이터셋 불러오기\n",
        "df = sns.load_dataset('titanic')\n",
        "\n",
        "# for 반복문으로 각 열의 NaN 개수 계산하기\n",
        "missing_df = df.isnull()\n",
        "for col in missing_df.columns:\n",
        "    missing_count = missing_df[col].value_counts()          # 각 열의 NaN 개수 파악\n",
        "\n",
        "    try:\n",
        "        print(col, ': ', missing_count[True])         # NaN 값이 있으면 개수를 출력\n",
        "    except:\n",
        "        print(col, ': ', 0)                           # NaN 값이 없으면 0개 출력\n",
        "\n",
        "# NaN 값이 500개 이상인 열을 모두 삭제 - deck 열(891개 중 688개의 NaN 값)\n",
        "df_thresh = df.dropna(axis=1, thresh=500)\n",
        "print(df_thresh.columns)\n",
        "\n",
        "# age 열에 나이 데이터가 없는 모든 행을 삭제 - age 열(891개 중 177개의 NaN 값)\n",
        "df_age = df.dropna(subset=['age'], how='any', axis=0)\n",
        "print(len(df_age))"
      ],
      "execution_count": 1,
      "outputs": [
        {
          "output_type": "stream",
          "name": "stdout",
          "text": [
            "survived :  0\n",
            "pclass :  0\n",
            "sex :  0\n",
            "age :  177\n",
            "sibsp :  0\n",
            "parch :  0\n",
            "fare :  0\n",
            "embarked :  2\n",
            "class :  0\n",
            "who :  0\n",
            "adult_male :  0\n",
            "deck :  688\n",
            "embark_town :  2\n",
            "alive :  0\n",
            "alone :  0\n",
            "Index(['survived', 'pclass', 'sex', 'age', 'sibsp', 'parch', 'fare',\n",
            "       'embarked', 'class', 'who', 'adult_male', 'embark_town', 'alive',\n",
            "       'alone'],\n",
            "      dtype='object')\n",
            "714\n"
          ]
        }
      ]
    },
    {
      "cell_type": "code",
      "metadata": {
        "id": "MuWZOpBqQYvd"
      },
      "source": [
        ""
      ],
      "execution_count": null,
      "outputs": []
    }
  ]
}