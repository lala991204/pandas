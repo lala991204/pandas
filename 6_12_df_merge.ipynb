{
  "nbformat": 4,
  "nbformat_minor": 0,
  "metadata": {
    "colab": {
      "name": "6.12_df_merge.ipynb",
      "provenance": [],
      "collapsed_sections": [],
      "mount_file_id": "1BrVJqWf6aJMVW3bRw6ifXww97Yq-kUIt",
      "authorship_tag": "ABX9TyOUr+QzDBHdtHwQSHaTypH8",
      "include_colab_link": true
    },
    "kernelspec": {
      "name": "python3",
      "display_name": "Python 3"
    },
    "language_info": {
      "name": "python"
    }
  },
  "cells": [
    {
      "cell_type": "markdown",
      "metadata": {
        "id": "view-in-github",
        "colab_type": "text"
      },
      "source": [
        "<a href=\"https://colab.research.google.com/github/lala991204/pandas/blob/master/6_12_df_merge.ipynb\" target=\"_parent\"><img src=\"https://colab.research.google.com/assets/colab-badge.svg\" alt=\"Open In Colab\"/></a>"
      ]
    },
    {
      "cell_type": "code",
      "metadata": {
        "id": "gblqhupuekge",
        "colab": {
          "base_uri": "https://localhost:8080/"
        },
        "outputId": "0dc7b235-2a94-45e3-b51f-19bf172ab15f"
      },
      "source": [
        "# 라이브러리 불러오기\n",
        "import pandas as pd\n",
        "\n",
        "# IPython 디스플레이 설정 변경\n",
        "pd.set_option('display.max_columns', 10)                     # 출력할 최대 열의 개수\n",
        "pd.set_option('display.max_colwidth', 20)                    # 출력할 열의 너비\n",
        "pd.set_option('display.unicode.east_asian_width', True)      # 유니코드 사용 너비 조정\n",
        "\n",
        "# 주식 데이터를 가져와서 데이터프레임 만들기\n",
        "df1 = pd.read_excel('/content/drive/MyDrive/Colab Notebooks/pandas/stock price.xlsx', engine='openpyxl')\n",
        "df2 = pd.read_excel('/content/drive/MyDrive/Colab Notebooks/pandas/stock valuation.xlsx', engine='openpyxl')\n",
        "\n",
        "print(df1)\n",
        "print('\\n')\n",
        "print(df2)\n",
        "print('\\n')"
      ],
      "execution_count": 7,
      "outputs": [
        {
          "output_type": "stream",
          "name": "stdout",
          "text": [
            "       id    stock_name          value   price\n",
            "0  128940      한미약품   59385.666667  421000\n",
            "1  130960        CJ E&M   58540.666667   98900\n",
            "2  138250    엔에스쇼핑   14558.666667   13200\n",
            "3  139480        이마트  239230.833333  254500\n",
            "4  142280  녹십자엠에스     468.833333   10200\n",
            "5  145990        삼양사   82750.000000   82000\n",
            "6  185750        종근당   40293.666667  100500\n",
            "7  192400    쿠쿠홀딩스  179204.666667  177500\n",
            "8  199800          툴젠   -2514.333333  115400\n",
            "9  204210  모두투어리츠    3093.333333    3475\n",
            "\n",
            "\n",
            "       id              name           eps     bps        per       pbr\n",
            "0  130960            CJ E&M   6301.333333   54068  15.695091  1.829178\n",
            "1  136480              하림    274.166667    3551  11.489362  0.887074\n",
            "2  138040    메리츠금융지주   2122.333333   14894   6.313806  0.899691\n",
            "3  139480            이마트  18268.166667  295780  13.931338  0.860437\n",
            "4  145990            삼양사   5741.000000  108090  14.283226  0.758627\n",
            "5  161390        한국타이어   5648.500000   51341   7.453306  0.820007\n",
            "6  181710   NHN엔터테인먼트   2110.166667   78434  30.755864  0.827447\n",
            "7  185750            종근당   3990.333333   40684  25.185866  2.470259\n",
            "8  204210      모두투어리츠     85.166667    5335  40.802348  0.651359\n",
            "9  207940  삼성바이오로직스   4644.166667   60099  89.790059  6.938551\n",
            "\n",
            "\n"
          ]
        }
      ]
    },
    {
      "cell_type": "code",
      "metadata": {
        "colab": {
          "base_uri": "https://localhost:8080/"
        },
        "id": "kfKxCUt_g32K",
        "outputId": "701ba42d-8f36-4a80-f276-7d8ce3efb4f9"
      },
      "source": [
        "# 데이터프레임 합치기 - 교집합\n",
        "merge_inner = pd.merge(df1, df2)\n",
        "print(merge_inner)\n",
        "print('\\n')\n",
        "\n",
        "# 데이터프레임 합치기 - 합집합\n",
        "merge_outer = pd.merge(df1, df2, how='outer', on='id')\n",
        "print(merge_outer)\n",
        "print('\\n')"
      ],
      "execution_count": 8,
      "outputs": [
        {
          "output_type": "stream",
          "name": "stdout",
          "text": [
            "       id    stock_name          value   price          name           eps  \\\n",
            "0  130960        CJ E&M   58540.666667   98900        CJ E&M   6301.333333   \n",
            "1  139480        이마트  239230.833333  254500        이마트  18268.166667   \n",
            "2  145990        삼양사   82750.000000   82000        삼양사   5741.000000   \n",
            "3  185750        종근당   40293.666667  100500        종근당   3990.333333   \n",
            "4  204210  모두투어리츠    3093.333333    3475  모두투어리츠     85.166667   \n",
            "\n",
            "      bps        per       pbr  \n",
            "0   54068  15.695091  1.829178  \n",
            "1  295780  13.931338  0.860437  \n",
            "2  108090  14.283226  0.758627  \n",
            "3   40684  25.185866  2.470259  \n",
            "4    5335  40.802348  0.651359  \n",
            "\n",
            "\n",
            "        id    stock_name          value     price              name  \\\n",
            "0   128940      한미약품   59385.666667  421000.0               NaN   \n",
            "1   130960        CJ E&M   58540.666667   98900.0            CJ E&M   \n",
            "2   138250    엔에스쇼핑   14558.666667   13200.0               NaN   \n",
            "3   139480        이마트  239230.833333  254500.0            이마트   \n",
            "4   142280  녹십자엠에스     468.833333   10200.0               NaN   \n",
            "5   145990        삼양사   82750.000000   82000.0            삼양사   \n",
            "6   185750        종근당   40293.666667  100500.0            종근당   \n",
            "7   192400    쿠쿠홀딩스  179204.666667  177500.0               NaN   \n",
            "8   199800          툴젠   -2514.333333  115400.0               NaN   \n",
            "9   204210  모두투어리츠    3093.333333    3475.0      모두투어리츠   \n",
            "10  136480           NaN            NaN       NaN              하림   \n",
            "11  138040           NaN            NaN       NaN    메리츠금융지주   \n",
            "12  161390           NaN            NaN       NaN        한국타이어   \n",
            "13  181710           NaN            NaN       NaN   NHN엔터테인먼트   \n",
            "14  207940           NaN            NaN       NaN  삼성바이오로직스   \n",
            "\n",
            "             eps       bps        per       pbr  \n",
            "0            NaN       NaN        NaN       NaN  \n",
            "1    6301.333333   54068.0  15.695091  1.829178  \n",
            "2            NaN       NaN        NaN       NaN  \n",
            "3   18268.166667  295780.0  13.931338  0.860437  \n",
            "4            NaN       NaN        NaN       NaN  \n",
            "5    5741.000000  108090.0  14.283226  0.758627  \n",
            "6    3990.333333   40684.0  25.185866  2.470259  \n",
            "7            NaN       NaN        NaN       NaN  \n",
            "8            NaN       NaN        NaN       NaN  \n",
            "9      85.166667    5335.0  40.802348  0.651359  \n",
            "10    274.166667    3551.0  11.489362  0.887074  \n",
            "11   2122.333333   14894.0   6.313806  0.899691  \n",
            "12   5648.500000   51341.0   7.453306  0.820007  \n",
            "13   2110.166667   78434.0  30.755864  0.827447  \n",
            "14   4644.166667   60099.0  89.790059  6.938551  \n",
            "\n",
            "\n"
          ]
        }
      ]
    },
    {
      "cell_type": "code",
      "metadata": {
        "colab": {
          "base_uri": "https://localhost:8080/"
        },
        "id": "oXKznyIOgxB4",
        "outputId": "42036f19-5580-440c-86e9-52fd5497401e"
      },
      "source": [
        "# 데이터프레임 합치기 - 왼쪽 데이터프레임 기준, 키 값 분리\n",
        "merge_left = pd.merge(df1, df2, how='left', left_on='stock_name', right_on='name')\n",
        "print(merge_left)\n",
        "print('\\n')\n",
        "\n",
        "# 데이터프레임 합치기 - 오른쪽 데이터프레임 기준, 키 값 분리\n",
        "merge_right = pd.merge(df1, df2, how='right', left_on='stock_name', right_on='name')\n",
        "print(merge_right)\n",
        "print('\\n')"
      ],
      "execution_count": 5,
      "outputs": [
        {
          "output_type": "stream",
          "name": "stdout",
          "text": [
            "     id_x    stock_name          value   price      id_y          name  \\\n",
            "0  128940      한미약품   59385.666667  421000       NaN           NaN   \n",
            "1  130960        CJ E&M   58540.666667   98900  130960.0        CJ E&M   \n",
            "2  138250    엔에스쇼핑   14558.666667   13200       NaN           NaN   \n",
            "3  139480        이마트  239230.833333  254500  139480.0        이마트   \n",
            "4  142280  녹십자엠에스     468.833333   10200       NaN           NaN   \n",
            "5  145990        삼양사   82750.000000   82000  145990.0        삼양사   \n",
            "6  185750        종근당   40293.666667  100500  185750.0        종근당   \n",
            "7  192400    쿠쿠홀딩스  179204.666667  177500       NaN           NaN   \n",
            "8  199800          툴젠   -2514.333333  115400       NaN           NaN   \n",
            "9  204210  모두투어리츠    3093.333333    3475  204210.0  모두투어리츠   \n",
            "\n",
            "            eps       bps        per       pbr  \n",
            "0           NaN       NaN        NaN       NaN  \n",
            "1   6301.333333   54068.0  15.695091  1.829178  \n",
            "2           NaN       NaN        NaN       NaN  \n",
            "3  18268.166667  295780.0  13.931338  0.860437  \n",
            "4           NaN       NaN        NaN       NaN  \n",
            "5   5741.000000  108090.0  14.283226  0.758627  \n",
            "6   3990.333333   40684.0  25.185866  2.470259  \n",
            "7           NaN       NaN        NaN       NaN  \n",
            "8           NaN       NaN        NaN       NaN  \n",
            "9     85.166667    5335.0  40.802348  0.651359  \n",
            "\n",
            "\n",
            "       id_x    stock_name          value     price    id_y              name  \\\n",
            "0  130960.0        CJ E&M   58540.666667   98900.0  130960            CJ E&M   \n",
            "1       NaN           NaN            NaN       NaN  136480              하림   \n",
            "2       NaN           NaN            NaN       NaN  138040    메리츠금융지주   \n",
            "3  139480.0        이마트  239230.833333  254500.0  139480            이마트   \n",
            "4  145990.0        삼양사   82750.000000   82000.0  145990            삼양사   \n",
            "5       NaN           NaN            NaN       NaN  161390        한국타이어   \n",
            "6       NaN           NaN            NaN       NaN  181710   NHN엔터테인먼트   \n",
            "7  185750.0        종근당   40293.666667  100500.0  185750            종근당   \n",
            "8  204210.0  모두투어리츠    3093.333333    3475.0  204210      모두투어리츠   \n",
            "9       NaN           NaN            NaN       NaN  207940  삼성바이오로직스   \n",
            "\n",
            "            eps     bps        per       pbr  \n",
            "0   6301.333333   54068  15.695091  1.829178  \n",
            "1    274.166667    3551  11.489362  0.887074  \n",
            "2   2122.333333   14894   6.313806  0.899691  \n",
            "3  18268.166667  295780  13.931338  0.860437  \n",
            "4   5741.000000  108090  14.283226  0.758627  \n",
            "5   5648.500000   51341   7.453306  0.820007  \n",
            "6   2110.166667   78434  30.755864  0.827447  \n",
            "7   3990.333333   40684  25.185866  2.470259  \n",
            "8     85.166667    5335  40.802348  0.651359  \n",
            "9   4644.166667   60099  89.790059  6.938551  \n",
            "\n",
            "\n"
          ]
        }
      ]
    },
    {
      "cell_type": "code",
      "metadata": {
        "colab": {
          "base_uri": "https://localhost:8080/"
        },
        "id": "c89ygiJ1gkzS",
        "outputId": "40f11627-34f1-4c74-c10a-4ea81d52ad6f"
      },
      "source": [
        "# 불린 인덱싱과 결합하여 원하는 데이터 찾기\n",
        "price = df1[df1['price'] < 50000]\n",
        "print(price.head())\n",
        "print('\\n')\n",
        "\n",
        "value = pd.merge(price, df2)      # default값은 inner\n",
        "print(value)"
      ],
      "execution_count": 9,
      "outputs": [
        {
          "output_type": "stream",
          "name": "stdout",
          "text": [
            "       id    stock_name         value  price\n",
            "2  138250    엔에스쇼핑  14558.666667  13200\n",
            "4  142280  녹십자엠에스    468.833333  10200\n",
            "9  204210  모두투어리츠   3093.333333   3475\n",
            "\n",
            "\n",
            "       id    stock_name        value  price          name        eps   bps  \\\n",
            "0  204210  모두투어리츠  3093.333333   3475  모두투어리츠  85.166667  5335   \n",
            "\n",
            "         per       pbr  \n",
            "0  40.802348  0.651359  \n"
          ]
        }
      ]
    },
    {
      "cell_type": "code",
      "metadata": {
        "id": "9d69yMyTgqZx"
      },
      "source": [
        ""
      ],
      "execution_count": null,
      "outputs": []
    }
  ]
}