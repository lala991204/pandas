{
  "nbformat": 4,
  "nbformat_minor": 0,
  "metadata": {
    "colab": {
      "name": "1.21_series_to_number.ipynb",
      "provenance": [],
      "authorship_tag": "ABX9TyNJojcNl7vRz23QVkcZ0A3u",
      "include_colab_link": true
    },
    "kernelspec": {
      "name": "python3",
      "display_name": "Python 3"
    },
    "language_info": {
      "name": "python"
    }
  },
  "cells": [
    {
      "cell_type": "markdown",
      "metadata": {
        "id": "view-in-github",
        "colab_type": "text"
      },
      "source": [
        "<a href=\"https://colab.research.google.com/github/lala991204/pandas/blob/master/1_21_series_to_number.ipynb\" target=\"_parent\"><img src=\"https://colab.research.google.com/assets/colab-badge.svg\" alt=\"Open In Colab\"/></a>"
      ]
    },
    {
      "cell_type": "code",
      "metadata": {
        "colab": {
          "base_uri": "https://localhost:8080/"
        },
        "id": "5JMWjNNx6x1H",
        "outputId": "ca860353-6d0a-4ec6-f130-285d982224d5"
      },
      "source": [
        "# 라이브러리 부러오기\n",
        "import pandas as pd\n",
        "\n",
        "# 딕셔너리 데이터로 판다스 시리즈 만들기\n",
        "student1 = pd.Series({'국어':100, '영어':80, '수학':90})\n",
        "print(student1)\n",
        "print('\\n')\n",
        "\n",
        "# 학생의 과목별 점수를 200으로 나누기\n",
        "percentage = student1/200\n",
        "\n",
        "print(percentage)\n",
        "print('\\n')\n",
        "print(type(percentage))"
      ],
      "execution_count": 1,
      "outputs": [
        {
          "output_type": "stream",
          "name": "stdout",
          "text": [
            "국어    100\n",
            "영어     80\n",
            "수학     90\n",
            "dtype: int64\n",
            "\n",
            "\n",
            "국어    0.50\n",
            "영어    0.40\n",
            "수학    0.45\n",
            "dtype: float64\n",
            "\n",
            "\n",
            "<class 'pandas.core.series.Series'>\n"
          ]
        }
      ]
    },
    {
      "cell_type": "code",
      "metadata": {
        "id": "GPrd1Nwg7iNf"
      },
      "source": [
        ""
      ],
      "execution_count": null,
      "outputs": []
    }
  ]
}