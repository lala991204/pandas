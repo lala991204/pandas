{
  "nbformat": 4,
  "nbformat_minor": 0,
  "metadata": {
    "colab": {
      "name": "5.16_time_series_period.ipynb",
      "provenance": [],
      "authorship_tag": "ABX9TyOdDWqBJ7X4idOfuJmNkyXJ",
      "include_colab_link": true
    },
    "kernelspec": {
      "name": "python3",
      "display_name": "Python 3"
    },
    "language_info": {
      "name": "python"
    }
  },
  "cells": [
    {
      "cell_type": "markdown",
      "metadata": {
        "id": "view-in-github",
        "colab_type": "text"
      },
      "source": [
        "<a href=\"https://colab.research.google.com/github/lala991204/pandas/blob/master/5_16_time_series_period.ipynb\" target=\"_parent\"><img src=\"https://colab.research.google.com/assets/colab-badge.svg\" alt=\"Open In Colab\"/></a>"
      ]
    },
    {
      "cell_type": "code",
      "metadata": {
        "colab": {
          "base_uri": "https://localhost:8080/"
        },
        "id": "1b1fnBa1S5tA",
        "outputId": "1339f52d-4f96-4303-d071-c7dd44e0cc54"
      },
      "source": [
        "# 라이브러리 불러오기\n",
        "import pandas as pd\n",
        "\n",
        "# 날짜 형식의 문자열로 구성되는 리스트 정의\n",
        "dates = ['2019-01-01', '2020-03-01', '2021-06-01']\n",
        "\n",
        "# 문자열 데이터(시리즈 객체)를 판다스 Timestamp로 변환\n",
        "ts_dates = pd.to_datetime(dates)\n",
        "print(ts_dates)\n",
        "print('\\n')\n",
        "\n",
        "# Timestamp를 Period로 변환\n",
        "pr_day = ts_dates.to_period(freq='D')\n",
        "print(pr_day)\n",
        "pr_month = ts_dates.to_period(freq='M')\n",
        "print(pr_month)\n",
        "pr_year = ts_dates.to_period(freq='A')\n",
        "print(pr_year)"
      ],
      "execution_count": 1,
      "outputs": [
        {
          "output_type": "stream",
          "name": "stdout",
          "text": [
            "DatetimeIndex(['2019-01-01', '2020-03-01', '2021-06-01'], dtype='datetime64[ns]', freq=None)\n",
            "\n",
            "\n",
            "PeriodIndex(['2019-01-01', '2020-03-01', '2021-06-01'], dtype='period[D]', freq='D')\n",
            "PeriodIndex(['2019-01', '2020-03', '2021-06'], dtype='period[M]', freq='M')\n",
            "PeriodIndex(['2019', '2020', '2021'], dtype='period[A-DEC]', freq='A-DEC')\n"
          ]
        }
      ]
    },
    {
      "cell_type": "code",
      "metadata": {
        "id": "Uy8xrETOUZyQ"
      },
      "source": [
        ""
      ],
      "execution_count": null,
      "outputs": []
    }
  ]
}