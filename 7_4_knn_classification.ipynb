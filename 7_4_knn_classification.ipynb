{
  "nbformat": 4,
  "nbformat_minor": 0,
  "metadata": {
    "colab": {
      "name": "7.4_knn_classification.ipynb",
      "provenance": [],
      "toc_visible": true,
      "authorship_tag": "ABX9TyO6NejpI0VpZPYfU1oQWOZy",
      "include_colab_link": true
    },
    "kernelspec": {
      "name": "python3",
      "display_name": "Python 3"
    },
    "language_info": {
      "name": "python"
    }
  },
  "cells": [
    {
      "cell_type": "markdown",
      "metadata": {
        "id": "view-in-github",
        "colab_type": "text"
      },
      "source": [
        "<a href=\"https://colab.research.google.com/github/lala991204/pandas/blob/master/7_4_knn_classification.ipynb\" target=\"_parent\"><img src=\"https://colab.research.google.com/assets/colab-badge.svg\" alt=\"Open In Colab\"/></a>"
      ]
    },
    {
      "cell_type": "code",
      "metadata": {
        "colab": {
          "base_uri": "https://localhost:8080/"
        },
        "id": "NJJuP2HtGWBu",
        "outputId": "67a15935-7a9b-4923-a689-446d2772024e"
      },
      "source": [
        "### 기본 라이브러리 불러오기\n",
        "import pandas as pd\n",
        "import seaborn as sns\n",
        "\n",
        "'''\n",
        "[Step 1] 데이터 준비 - Seaborn에서 제공하는 titanic 데이터셋 가져오기\n",
        "'''\n",
        "\n",
        "# load_dataset 함수를 사용하여 데이터프레임으로 변환\n",
        "df = sns.load_dataset('titanic')\n",
        "\n",
        "# 데이터 살펴보기\n",
        "print(df.head())\n",
        "print('\\n')\n",
        "\n",
        "# IPython 디스플레이 설정 - 출력할 열의 개수 한도 늘리기\n",
        "pd.set_option('display.max_columns', 15)\n",
        "print(df.head())"
      ],
      "execution_count": 2,
      "outputs": [
        {
          "output_type": "stream",
          "name": "stdout",
          "text": [
            "   survived  pclass     sex   age  ...  deck  embark_town  alive  alone\n",
            "0         0       3    male  22.0  ...   NaN  Southampton     no  False\n",
            "1         1       1  female  38.0  ...     C    Cherbourg    yes  False\n",
            "2         1       3  female  26.0  ...   NaN  Southampton    yes   True\n",
            "3         1       1  female  35.0  ...     C  Southampton    yes  False\n",
            "4         0       3    male  35.0  ...   NaN  Southampton     no   True\n",
            "\n",
            "[5 rows x 15 columns]\n",
            "\n",
            "\n",
            "   survived  pclass     sex   age  sibsp  parch     fare embarked  class  \\\n",
            "0         0       3    male  22.0      1      0   7.2500        S  Third   \n",
            "1         1       1  female  38.0      1      0  71.2833        C  First   \n",
            "2         1       3  female  26.0      0      0   7.9250        S  Third   \n",
            "3         1       1  female  35.0      1      0  53.1000        S  First   \n",
            "4         0       3    male  35.0      0      0   8.0500        S  Third   \n",
            "\n",
            "     who  adult_male deck  embark_town alive  alone  \n",
            "0    man        True  NaN  Southampton    no  False  \n",
            "1  woman       False    C    Cherbourg   yes  False  \n",
            "2  woman       False  NaN  Southampton   yes   True  \n",
            "3  woman       False    C  Southampton   yes  False  \n",
            "4    man        True  NaN  Southampton    no   True  \n"
          ]
        }
      ]
    },
    {
      "cell_type": "code",
      "metadata": {
        "colab": {
          "base_uri": "https://localhost:8080/"
        },
        "id": "sTty9xMQJfJE",
        "outputId": "8ed7fb3b-b61b-459f-b966-3575e507a7a3"
      },
      "source": [
        "'''\n",
        "[Step 2] 데이터 탐색/전처리\n",
        "'''\n",
        "\n",
        "# 데이터 자료형 확인\n",
        "print(df.info())"
      ],
      "execution_count": 3,
      "outputs": [
        {
          "output_type": "stream",
          "name": "stdout",
          "text": [
            "<class 'pandas.core.frame.DataFrame'>\n",
            "RangeIndex: 891 entries, 0 to 890\n",
            "Data columns (total 15 columns):\n",
            " #   Column       Non-Null Count  Dtype   \n",
            "---  ------       --------------  -----   \n",
            " 0   survived     891 non-null    int64   \n",
            " 1   pclass       891 non-null    int64   \n",
            " 2   sex          891 non-null    object  \n",
            " 3   age          714 non-null    float64 \n",
            " 4   sibsp        891 non-null    int64   \n",
            " 5   parch        891 non-null    int64   \n",
            " 6   fare         891 non-null    float64 \n",
            " 7   embarked     889 non-null    object  \n",
            " 8   class        891 non-null    category\n",
            " 9   who          891 non-null    object  \n",
            " 10  adult_male   891 non-null    bool    \n",
            " 11  deck         203 non-null    category\n",
            " 12  embark_town  889 non-null    object  \n",
            " 13  alive        891 non-null    object  \n",
            " 14  alone        891 non-null    bool    \n",
            "dtypes: bool(2), category(2), float64(2), int64(4), object(5)\n",
            "memory usage: 80.6+ KB\n",
            "None\n"
          ]
        }
      ]
    },
    {
      "cell_type": "code",
      "metadata": {
        "colab": {
          "base_uri": "https://localhost:8080/"
        },
        "id": "2A_l_nzkJod5",
        "outputId": "a90d5768-c12a-4f73-f042-ff53f32f3bc1"
      },
      "source": [
        "# NaN 값이 많은 deck 열 삭제, embarked와 내용이 겹치는 embark_town 열 삭제\n",
        "rdf = df.drop(['deck', 'embark_town'], axis=1)\n",
        "print(rdf.columns.values)"
      ],
      "execution_count": 4,
      "outputs": [
        {
          "output_type": "stream",
          "name": "stdout",
          "text": [
            "['survived' 'pclass' 'sex' 'age' 'sibsp' 'parch' 'fare' 'embarked' 'class'\n",
            " 'who' 'adult_male' 'alive' 'alone']\n"
          ]
        }
      ]
    },
    {
      "cell_type": "code",
      "metadata": {
        "colab": {
          "base_uri": "https://localhost:8080/"
        },
        "id": "wv-AhEH6J0lg",
        "outputId": "2b35303e-ccdf-4ff1-8190-f7d805b0ad8d"
      },
      "source": [
        "# age 열에 나이 데이터가 없는 모든 행 삭제 - age 열(891개 중 177개의 NaN 값)\n",
        "rdf = rdf.dropna(subset=['age'], how='any', axis=0)\n",
        "print(len(rdf))"
      ],
      "execution_count": 5,
      "outputs": [
        {
          "output_type": "stream",
          "name": "stdout",
          "text": [
            "714\n"
          ]
        }
      ]
    },
    {
      "cell_type": "code",
      "metadata": {
        "colab": {
          "base_uri": "https://localhost:8080/"
        },
        "id": "jkhw1vUcJ_2a",
        "outputId": "bff661ad-a88f-41f8-d5d9-e1d1165ac6ae"
      },
      "source": [
        "# embarked 열의 NaN 값을 승선도시 중에서 가장 많이 출현한 값으로 치환하기\n",
        "most_freq = rdf['embarked'].value_counts(dropna=True).idxmax()\n",
        "print(most_freq)\n",
        "print('\\n')\n",
        "\n",
        "print(rdf.describe(include='all'))        # 여기서도 최빈값(top) 확인 가능\n",
        "print('\\n')\n",
        "\n",
        "rdf['embarked'].fillna(most_freq, inplace=True)"
      ],
      "execution_count": 13,
      "outputs": [
        {
          "output_type": "stream",
          "name": "stdout",
          "text": [
            "S\n",
            "\n",
            "\n",
            "          survived      pclass   sex         age       sibsp       parch  \\\n",
            "count   714.000000  714.000000   714  714.000000  714.000000  714.000000   \n",
            "unique         NaN         NaN     2         NaN         NaN         NaN   \n",
            "top            NaN         NaN  male         NaN         NaN         NaN   \n",
            "freq           NaN         NaN   453         NaN         NaN         NaN   \n",
            "mean      0.406162    2.236695   NaN   29.699118    0.512605    0.431373   \n",
            "std       0.491460    0.838250   NaN   14.526497    0.929783    0.853289   \n",
            "min       0.000000    1.000000   NaN    0.420000    0.000000    0.000000   \n",
            "25%       0.000000    1.000000   NaN   20.125000    0.000000    0.000000   \n",
            "50%       0.000000    2.000000   NaN   28.000000    0.000000    0.000000   \n",
            "75%       1.000000    3.000000   NaN   38.000000    1.000000    1.000000   \n",
            "max       1.000000    3.000000   NaN   80.000000    5.000000    6.000000   \n",
            "\n",
            "              fare embarked  class  who adult_male alive alone  \n",
            "count   714.000000      714    714  714        714   714   714  \n",
            "unique         NaN        3      3    3          2     2     2  \n",
            "top            NaN        S  Third  man       True    no  True  \n",
            "freq           NaN      556    355  413        413   424   404  \n",
            "mean     34.694514      NaN    NaN  NaN        NaN   NaN   NaN  \n",
            "std      52.918930      NaN    NaN  NaN        NaN   NaN   NaN  \n",
            "min       0.000000      NaN    NaN  NaN        NaN   NaN   NaN  \n",
            "25%       8.050000      NaN    NaN  NaN        NaN   NaN   NaN  \n",
            "50%      15.741700      NaN    NaN  NaN        NaN   NaN   NaN  \n",
            "75%      33.375000      NaN    NaN  NaN        NaN   NaN   NaN  \n",
            "max     512.329200      NaN    NaN  NaN        NaN   NaN   NaN  \n",
            "\n",
            "\n"
          ]
        }
      ]
    },
    {
      "cell_type": "code",
      "metadata": {
        "colab": {
          "base_uri": "https://localhost:8080/"
        },
        "id": "WP7AuIWgKcUT",
        "outputId": "1f759ff2-9e6a-416a-97dc-5a2175c5a5ed"
      },
      "source": [
        "'''\n",
        "[Step 3] 분석에 사용할 속성 선택\n",
        "'''\n",
        "\n",
        "# 분석에 활용할 열(속성) 선택\n",
        "ndf = rdf[['survived', 'pclass', 'sex', 'age', 'sibsp', 'parch', 'embarked']]\n",
        "print(ndf.head())"
      ],
      "execution_count": 14,
      "outputs": [
        {
          "output_type": "stream",
          "name": "stdout",
          "text": [
            "   survived  pclass     sex   age  sibsp  parch embarked\n",
            "0         0       3    male  22.0      1      0        S\n",
            "1         1       1  female  38.0      1      0        C\n",
            "2         1       3  female  26.0      0      0        S\n",
            "3         1       1  female  35.0      1      0        S\n",
            "4         0       3    male  35.0      0      0        S\n"
          ]
        }
      ]
    },
    {
      "cell_type": "code",
      "metadata": {
        "colab": {
          "base_uri": "https://localhost:8080/"
        },
        "id": "k8L-gzO2Kq3g",
        "outputId": "1f8f5e76-9ae8-4002-b64a-aba5f640a4ef"
      },
      "source": [
        "# 원핫인코딩(= '더미 변수를 만든다') - 범주형 데이터를 모형이 인식할 수 있도록 숫자형으로 변환\n",
        "onehot_sex = pd.get_dummies(ndf['sex'])\n",
        "ndf = pd.concat([ndf, onehot_sex], axis=1)\n",
        "\n",
        "onehot_embarked = pd.get_dummies(ndf['embarked'], prefix='town')      # 열 이름에 접두어 붙임: prefix\n",
        "ndf = pd.concat([ndf, onehot_embarked], axis=1)\n",
        "\n",
        "ndf.drop(['sex', 'embarked'], axis=1, inplace=True)\n",
        "print(ndf.head())"
      ],
      "execution_count": 15,
      "outputs": [
        {
          "output_type": "stream",
          "name": "stdout",
          "text": [
            "   survived  pclass   age  sibsp  parch  female  male  town_C  town_Q  town_S\n",
            "0         0       3  22.0      1      0       0     1       0       0       1\n",
            "1         1       1  38.0      1      0       1     0       1       0       0\n",
            "2         1       3  26.0      0      0       1     0       0       0       1\n",
            "3         1       1  35.0      1      0       1     0       0       0       1\n",
            "4         0       3  35.0      0      0       0     1       0       0       1\n"
          ]
        }
      ]
    },
    {
      "cell_type": "code",
      "metadata": {
        "colab": {
          "base_uri": "https://localhost:8080/"
        },
        "id": "GWOq3YdOLIEW",
        "outputId": "861cdd82-6e22-4ba2-e59b-ff90b12ab3aa"
      },
      "source": [
        "'''\n",
        "[Step 4] 데이터셋 구분 - 훈련용(train data)/검증용(test data)\n",
        "'''\n",
        "\n",
        "# 속성(변수) 선택\n",
        "X = ndf[['pclass', 'age', 'sibsp', 'parch', 'female', 'male',\n",
        "         'town_C', 'town_Q', 'town_S']]      # 설명 변수 X\n",
        "y = ndf['survived']\n",
        "\n",
        "# 설명 변수 데이터를 정규화(normalization); 데이터의 상대적 크기 차이를 없애기 위해서\n",
        "from sklearn import preprocessing\n",
        "X = preprocessing.StandardScaler().fit(X).transform(X)\n",
        "\n",
        "# train data와 test data로 구분(7:3 비율)\n",
        "from sklearn.model_selection import train_test_split\n",
        "X_train, X_test, y_train, y_test = train_test_split(X, y, test_size=0.3, random_state=10)\n",
        "\n",
        "print('train data 개수: ', X_train.shape)\n",
        "print('test data 개수: ', y_train.shape)"
      ],
      "execution_count": 16,
      "outputs": [
        {
          "output_type": "stream",
          "name": "stdout",
          "text": [
            "train data 개수:  (499, 9)\n",
            "test data 개수:  (499,)\n"
          ]
        }
      ]
    },
    {
      "cell_type": "code",
      "metadata": {
        "colab": {
          "base_uri": "https://localhost:8080/"
        },
        "id": "lA9dmJfJMa8u",
        "outputId": "8e3802f6-2253-4357-9b42-cfffd75bc56f"
      },
      "source": [
        "'''\n",
        "[Step 5] KNN 분류 모형 = sklearn 사용\n",
        "'''\n",
        "\n",
        "# sklearn 라이브러리에서 KNN 분류 모형 가져오기\n",
        "from sklearn.neighbors import KNeighborsClassifier\n",
        "\n",
        "# 모형 객체 생성(k=5로 설정)\n",
        "knn = KNeighborsClassifier(n_neighbors=5)\n",
        "\n",
        "# train data를 가지고 모형 학습\n",
        "knn.fit(X_train, y_train)\n",
        "\n",
        "# test data를 가지고 y_hat을 예측(분류)\n",
        "y_hat = knn.predict(X_test)\n",
        "\n",
        "print(y_hat[0:10])\n",
        "print(y_test.values[0:10])"
      ],
      "execution_count": 17,
      "outputs": [
        {
          "output_type": "stream",
          "name": "stdout",
          "text": [
            "[0 0 1 0 0 1 1 1 0 0]\n",
            "[0 0 1 0 0 1 1 1 0 0]\n"
          ]
        }
      ]
    },
    {
      "cell_type": "code",
      "metadata": {
        "colab": {
          "base_uri": "https://localhost:8080/"
        },
        "id": "px5iGnjapceL",
        "outputId": "df9cf29c-1ef2-4f2d-d289-5132cf4e7849"
      },
      "source": [
        "# 모형 성능 평가 - Confusion Matrix 계산\n",
        "from sklearn import metrics\n",
        "knn_matrix = metrics.confusion_matrix(y_test, y_hat)\n",
        "print(knn_matrix)"
      ],
      "execution_count": 18,
      "outputs": [
        {
          "output_type": "stream",
          "name": "stdout",
          "text": [
            "[[109  16]\n",
            " [ 25  65]]\n"
          ]
        }
      ]
    },
    {
      "cell_type": "code",
      "metadata": {
        "colab": {
          "base_uri": "https://localhost:8080/"
        },
        "id": "fKgs4cH1puU7",
        "outputId": "7710d987-d509-4a68-e1bb-696993c303e4"
      },
      "source": [
        "# 모형 성능 평가 - 평가 지표 계산\n",
        "knn_report = metrics.classification_report(y_test, y_hat)\n",
        "print(knn_report)"
      ],
      "execution_count": 19,
      "outputs": [
        {
          "output_type": "stream",
          "name": "stdout",
          "text": [
            "              precision    recall  f1-score   support\n",
            "\n",
            "           0       0.81      0.87      0.84       125\n",
            "           1       0.80      0.72      0.76        90\n",
            "\n",
            "    accuracy                           0.81       215\n",
            "   macro avg       0.81      0.80      0.80       215\n",
            "weighted avg       0.81      0.81      0.81       215\n",
            "\n"
          ]
        }
      ]
    },
    {
      "cell_type": "code",
      "metadata": {
        "id": "DxhCAFZup16L"
      },
      "source": [
        ""
      ],
      "execution_count": null,
      "outputs": []
    }
  ]
}