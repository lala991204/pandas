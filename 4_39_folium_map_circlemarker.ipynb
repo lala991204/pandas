{
  "nbformat": 4,
  "nbformat_minor": 0,
  "metadata": {
    "colab": {
      "name": "4.39_folium_map_circlemarker.ipynb",
      "provenance": [],
      "mount_file_id": "1rOymMVpEHEUvANvhCUosBnwlYiT-ogaA",
      "authorship_tag": "ABX9TyPpFAK1nKguoJ6sOJaF/o/2",
      "include_colab_link": true
    },
    "kernelspec": {
      "name": "python3",
      "display_name": "Python 3"
    },
    "language_info": {
      "name": "python"
    }
  },
  "cells": [
    {
      "cell_type": "markdown",
      "metadata": {
        "id": "view-in-github",
        "colab_type": "text"
      },
      "source": [
        "<a href=\"https://colab.research.google.com/github/lala991204/pandas/blob/master/4_39_folium_map_circlemarker.ipynb\" target=\"_parent\"><img src=\"https://colab.research.google.com/assets/colab-badge.svg\" alt=\"Open In Colab\"/></a>"
      ]
    },
    {
      "cell_type": "code",
      "metadata": {
        "id": "pQEB9z05Xff2"
      },
      "source": [
        "# 라이브러리 불러오기\n",
        "import pandas as pd\n",
        "import folium\n",
        "\n",
        "# 대학교 리스트를 데이터프레임으로 변환\n",
        "df = pd.read_excel('/content/drive/MyDrive/Colab Notebooks/pandas/서울지역 대학교 위치.xlsx', engine='openpyxl', index_col=0)\n",
        "\n",
        "# 서울 지도 만들기\n",
        "seoul_map = folium.Map(location=[37.55, 126.98], tiles='Stamen Terrain',\n",
        "                       zoom_start=12)\n",
        "\n",
        "# 대학교 위치 정보를 CircleMrker로 표시\n",
        "for name, lat, lng in zip(df.index, df.위도, df.경도):\n",
        "    folium.CircleMarker([lat, lng],\n",
        "                        radius=10,             # 원의 반지름\n",
        "                        color='brown',         # 원의 둘레 색상\n",
        "                        fill=True,\n",
        "                        fill_color='coral',    # 원을 채우는 색\n",
        "                        fill_opacity=0.7,      # 투명도\n",
        "                        popup=name\n",
        "        ).add_to(seoul_map)\n",
        "\n",
        "# 지도를 HTML 파일로 저장하기\n",
        "seoul_map.save('/content/drive/MyDrive/Colab Notebooks/pandas/seoul_colleges2.html')"
      ],
      "execution_count": 6,
      "outputs": []
    },
    {
      "cell_type": "code",
      "metadata": {
        "id": "Rz1GNZRhb1Sl"
      },
      "source": [
        ""
      ],
      "execution_count": null,
      "outputs": []
    }
  ]
}