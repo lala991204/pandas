{
  "nbformat": 4,
  "nbformat_minor": 0,
  "metadata": {
    "colab": {
      "name": "5.17_date_range.ipynb",
      "provenance": [],
      "toc_visible": true,
      "authorship_tag": "ABX9TyMEOqS0NwbufKrfqfA7eKLb",
      "include_colab_link": true
    },
    "kernelspec": {
      "name": "python3",
      "display_name": "Python 3"
    },
    "language_info": {
      "name": "python"
    }
  },
  "cells": [
    {
      "cell_type": "markdown",
      "metadata": {
        "id": "view-in-github",
        "colab_type": "text"
      },
      "source": [
        "<a href=\"https://colab.research.google.com/github/lala991204/pandas/blob/master/5_17_date_range.ipynb\" target=\"_parent\"><img src=\"https://colab.research.google.com/assets/colab-badge.svg\" alt=\"Open In Colab\"/></a>"
      ]
    },
    {
      "cell_type": "code",
      "metadata": {
        "colab": {
          "base_uri": "https://localhost:8080/"
        },
        "id": "JNVePI6UUgo0",
        "outputId": "9c8fc2e8-810e-4ff1-83e2-a417fcb0e10a"
      },
      "source": [
        "# 라이브러리 불러오기\n",
        "import pandas as pd\n",
        "\n",
        "# Timestamp의 배열 만들기 - 월 간격, 월의 시작일 기준\n",
        "ts_ms = pd.date_range(start='2019-01-01',            # 날짜 범위의 시작\n",
        "                      end=None,                      # 날짜 범위의 끝\n",
        "                      periods=6,                     # 생성할 Timestamp의 개수\n",
        "                      freq='MS',                     # 시간 간격(MS: 월의 시작일)\n",
        "                      tz='Asia/Seoul')               # 시간대(timezone)\n",
        "print(ts_ms)\n",
        "print('\\n')\n",
        "\n",
        "# 월 간격, 월의 마지막 날 기준\n",
        "ts_me = pd.date_range('2019-01-01', periods=6,\n",
        "                      freq='M',                      # 시간 간격 (M: 월의 마지막 날)\n",
        "                      tz='Asia/Seoul')               # 시간대(timezone)\n",
        "print(ts_me)\n",
        "print('\\n')\n",
        "\n",
        "# 분기(3개월) 간격, 월의 마지막 날 기준\n",
        "ts_3m = pd.date_range('2019-01-01', periods=6,\n",
        "                      freq='3M',                      # 시간 간격 (3M: 3개월)\n",
        "                      tz='Asia/Seoul')                # 시간대(timezone)\n",
        "print(ts_3m)\n"
      ],
      "execution_count": 3,
      "outputs": [
        {
          "output_type": "stream",
          "name": "stdout",
          "text": [
            "DatetimeIndex(['2019-01-01 00:00:00+09:00', '2019-02-01 00:00:00+09:00',\n",
            "               '2019-03-01 00:00:00+09:00', '2019-04-01 00:00:00+09:00',\n",
            "               '2019-05-01 00:00:00+09:00', '2019-06-01 00:00:00+09:00'],\n",
            "              dtype='datetime64[ns, Asia/Seoul]', freq='MS')\n",
            "\n",
            "\n",
            "DatetimeIndex(['2019-01-31 00:00:00+09:00', '2019-02-28 00:00:00+09:00',\n",
            "               '2019-03-31 00:00:00+09:00', '2019-04-30 00:00:00+09:00',\n",
            "               '2019-05-31 00:00:00+09:00', '2019-06-30 00:00:00+09:00'],\n",
            "              dtype='datetime64[ns, Asia/Seoul]', freq='M')\n",
            "\n",
            "\n",
            "DatetimeIndex(['2019-01-31 00:00:00+09:00', '2019-04-30 00:00:00+09:00',\n",
            "               '2019-07-31 00:00:00+09:00', '2019-10-31 00:00:00+09:00',\n",
            "               '2020-01-31 00:00:00+09:00', '2020-04-30 00:00:00+09:00'],\n",
            "              dtype='datetime64[ns, Asia/Seoul]', freq='3M')\n"
          ]
        }
      ]
    },
    {
      "cell_type": "code",
      "metadata": {
        "id": "r43BD4geXcLh"
      },
      "source": [
        ""
      ],
      "execution_count": null,
      "outputs": []
    }
  ]
}