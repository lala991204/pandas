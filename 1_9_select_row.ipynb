{
  "nbformat": 4,
  "nbformat_minor": 0,
  "metadata": {
    "colab": {
      "name": "1.9_select_row.ipynb",
      "provenance": [],
      "authorship_tag": "ABX9TyMzrBdh+RU8i13h0KplJdUl",
      "include_colab_link": true
    },
    "kernelspec": {
      "name": "python3",
      "display_name": "Python 3"
    },
    "language_info": {
      "name": "python"
    }
  },
  "cells": [
    {
      "cell_type": "markdown",
      "metadata": {
        "id": "view-in-github",
        "colab_type": "text"
      },
      "source": [
        "<a href=\"https://colab.research.google.com/github/lala991204/pandas/blob/master/1_9_select_row.ipynb\" target=\"_parent\"><img src=\"https://colab.research.google.com/assets/colab-badge.svg\" alt=\"Open In Colab\"/></a>"
      ]
    },
    {
      "cell_type": "code",
      "metadata": {
        "colab": {
          "base_uri": "https://localhost:8080/"
        },
        "id": "lANxcYgEfqFf",
        "outputId": "a547d191-f368-479f-e413-d23c8886be1a"
      },
      "source": [
        "import pandas as pd\n",
        "\n",
        "# DataFrame() 함수로 데이터프레임 변환. 변수 df에 저장\n",
        "exam_data = {'수학' : [90, 80, 70], '영어' : [98, 89, 95],\n",
        "             '음악' : [85, 95, 100], '체육' : [100,90, 90]}\n",
        "\n",
        "df = pd.DataFrame(exam_data, index=['서준', '우현', '인아'])\n",
        "print(df)\n",
        "print('\\n')\n",
        "\n",
        "# 행 인덱스를 사용하여 행 1개 선택\n",
        "label1 = df.loc['서준']\n",
        "position1 = df.iloc[0]\n",
        "print(label1)\n",
        "print('\\n')\n",
        "print(position1)"
      ],
      "execution_count": 1,
      "outputs": [
        {
          "output_type": "stream",
          "name": "stdout",
          "text": [
            "    수학  영어   음악   체육\n",
            "서준  90  98   85  100\n",
            "우현  80  89   95   90\n",
            "인아  70  95  100   90\n",
            "\n",
            "\n",
            "수학     90\n",
            "영어     98\n",
            "음악     85\n",
            "체육    100\n",
            "Name: 서준, dtype: int64\n",
            "\n",
            "\n",
            "수학     90\n",
            "영어     98\n",
            "음악     85\n",
            "체육    100\n",
            "Name: 서준, dtype: int64\n"
          ]
        }
      ]
    },
    {
      "cell_type": "code",
      "metadata": {
        "colab": {
          "base_uri": "https://localhost:8080/"
        },
        "id": "D4u_Wckdgq2u",
        "outputId": "51e24e7b-af7f-47a7-ad6a-f24f1b77b94e"
      },
      "source": [
        "# 행 인덱스를 사용하여 2개 이상의 행 선택\n",
        "label2 = df.loc[['서준', '우현']]\n",
        "position2 = df.iloc[[0, 1]]\n",
        "print(label2)\n",
        "print('\\n')\n",
        "print(position2)"
      ],
      "execution_count": 2,
      "outputs": [
        {
          "output_type": "stream",
          "name": "stdout",
          "text": [
            "    수학  영어  음악   체육\n",
            "서준  90  98  85  100\n",
            "우현  80  89  95   90\n",
            "\n",
            "\n",
            "    수학  영어  음악   체육\n",
            "서준  90  98  85  100\n",
            "우현  80  89  95   90\n"
          ]
        }
      ]
    },
    {
      "cell_type": "code",
      "metadata": {
        "colab": {
          "base_uri": "https://localhost:8080/"
        },
        "id": "PC0s9QTlhKDP",
        "outputId": "679559b0-e018-49e6-9769-e4f4dd7e3acd"
      },
      "source": [
        "# 행 인덱스의 범위를 지정하여 행 선택\n",
        "label3 = df.loc['서준':'우현']\n",
        "position3 = df.iloc[0:1]\n",
        "print(label3)\n",
        "print('\\n')\n",
        "print(position3)"
      ],
      "execution_count": 4,
      "outputs": [
        {
          "output_type": "stream",
          "name": "stdout",
          "text": [
            "    수학  영어  음악   체육\n",
            "서준  90  98  85  100\n",
            "우현  80  89  95   90\n",
            "\n",
            "\n",
            "    수학  영어  음악   체육\n",
            "서준  90  98  85  100\n"
          ]
        }
      ]
    },
    {
      "cell_type": "code",
      "metadata": {
        "id": "IrUl-i_shb5N"
      },
      "source": [
        ""
      ],
      "execution_count": null,
      "outputs": []
    }
  ]
}