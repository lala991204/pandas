{
  "nbformat": 4,
  "nbformat_minor": 0,
  "metadata": {
    "colab": {
      "name": "5.13_normalize_max.ipynb",
      "provenance": [],
      "mount_file_id": "1WLVEu7XwexlkRu1k9wOB95E3LwXGOvX7",
      "authorship_tag": "ABX9TyMEMxvKYtMeMj1++BmDMnzx",
      "include_colab_link": true
    },
    "kernelspec": {
      "name": "python3",
      "display_name": "Python 3"
    },
    "language_info": {
      "name": "python"
    }
  },
  "cells": [
    {
      "cell_type": "markdown",
      "metadata": {
        "id": "view-in-github",
        "colab_type": "text"
      },
      "source": [
        "<a href=\"https://colab.research.google.com/github/lala991204/pandas/blob/master/5_13_normalize_max.ipynb\" target=\"_parent\"><img src=\"https://colab.research.google.com/assets/colab-badge.svg\" alt=\"Open In Colab\"/></a>"
      ]
    },
    {
      "cell_type": "code",
      "metadata": {
        "colab": {
          "base_uri": "https://localhost:8080/"
        },
        "id": "4zAxYIgtMzrM",
        "outputId": "e7e29908-be86-49c0-8c0c-359670e4cb97"
      },
      "source": [
        "# 라이브러리 불러오기\n",
        "import pandas as pd\n",
        "import numpy as np\n",
        "\n",
        "# read_csv() 함수로 df 생성\n",
        "df= pd.read_csv('/content/drive/MyDrive/Colab Notebooks/pandas/auto-mpg.csv')\n",
        "\n",
        "# 열 이름을 지정\n",
        "df.columns = ['mpg', 'cylinders', 'displacement', 'horsepower', 'weight',\n",
        "              'acceleration', 'model year', 'origin', 'name']\n",
        "\n",
        "# horsepower 열의 누락 데이터('?') 삭제하고 실수형으로 변환\n",
        "df['horsepower'].replace('?', np.nan, inplace=True)           # '?' 을 np.nan 으로 변경\n",
        "df.dropna(subset=['horsepower'], axis=0, inplace=True)       # 누락데이터 행을 삭제\n",
        "df['horsepower'] = df['horsepower'].astype('float')          # 문자열을 실수형으로 변환\n",
        "\n",
        "# horsepower 열의 통계 요약정보로 최대값(max)을 확인\n",
        "print(df.horsepower.describe())\n",
        "print('\\n')\n",
        "\n",
        "# horsepower 열의 최대값의 절대값으로 모든 데이터를 나눠서 저장\n",
        "df.horsepower = df.horsepower / abs(df.horsepower.max())\n",
        "\n",
        "print(df.horsepower.head())\n",
        "print('\\n')\n",
        "print(df.horsepower.describe())"
      ],
      "execution_count": 2,
      "outputs": [
        {
          "output_type": "stream",
          "name": "stdout",
          "text": [
            "count    391.000000\n",
            "mean     104.404092\n",
            "std       38.518732\n",
            "min       46.000000\n",
            "25%       75.000000\n",
            "50%       93.000000\n",
            "75%      125.000000\n",
            "max      230.000000\n",
            "Name: horsepower, dtype: float64\n",
            "\n",
            "\n",
            "0    0.717391\n",
            "1    0.652174\n",
            "2    0.652174\n",
            "3    0.608696\n",
            "4    0.860870\n",
            "Name: horsepower, dtype: float64\n",
            "\n",
            "\n",
            "count    391.000000\n",
            "mean       0.453931\n",
            "std        0.167473\n",
            "min        0.200000\n",
            "25%        0.326087\n",
            "50%        0.404348\n",
            "75%        0.543478\n",
            "max        1.000000\n",
            "Name: horsepower, dtype: float64\n"
          ]
        }
      ]
    },
    {
      "cell_type": "code",
      "metadata": {
        "id": "5WIrFP61Nar4"
      },
      "source": [
        ""
      ],
      "execution_count": null,
      "outputs": []
    }
  ]
}