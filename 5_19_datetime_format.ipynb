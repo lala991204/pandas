{
  "nbformat": 4,
  "nbformat_minor": 0,
  "metadata": {
    "colab": {
      "name": "5.19_datetime_format.ipynb",
      "provenance": [],
      "mount_file_id": "1Eiz4qLq72GU043ibdgb6P3u_wzQY6jOl",
      "authorship_tag": "ABX9TyMrNyt+1C6geODG/sBAEnv+",
      "include_colab_link": true
    },
    "kernelspec": {
      "name": "python3",
      "display_name": "Python 3"
    },
    "language_info": {
      "name": "python"
    }
  },
  "cells": [
    {
      "cell_type": "markdown",
      "metadata": {
        "id": "view-in-github",
        "colab_type": "text"
      },
      "source": [
        "<a href=\"https://colab.research.google.com/github/lala991204/pandas/blob/master/5_19_datetime_format.ipynb\" target=\"_parent\"><img src=\"https://colab.research.google.com/assets/colab-badge.svg\" alt=\"Open In Colab\"/></a>"
      ]
    },
    {
      "cell_type": "code",
      "metadata": {
        "colab": {
          "base_uri": "https://localhost:8080/"
        },
        "id": "W1zM4-hAZa41",
        "outputId": "bf168e09-812b-491e-e48e-fbcfa7b38c29"
      },
      "source": [
        "# 라이브러리 불러오기\n",
        "import pandas as pd\n",
        "\n",
        "# read_csv() 함수로 파일 읽어와서 df로 변환\n",
        "df = pd.read_csv('/content/drive/MyDrive/Colab Notebooks/pandas/stock-data.csv')\n",
        "\n",
        "# 문자열인 날짜 데이터를 판다스 Timestamp로 변환\n",
        "df['new_Date'] = pd.to_datetime(df['Date'])                   # df에 새로운 열로 추가\n",
        "print(df.head())\n",
        "print('\\n')\n",
        "\n",
        "# df 속성을 이용하여 new_Date 열의 년월일 정보를 년, 월, 일로 구분\n",
        "df['Year'] = df['new_Date'].dt.year\n",
        "df['Month'] = df['new_Date'].dt.month\n",
        "df['Day'] = df['new_Date'].dt.day\n",
        "print(df.head())\n",
        "print('\\n')\n",
        "\n",
        "# Timestamp를 Period로 변환하여 년월일 표기 변경하기\n",
        "df['Date_yr'] = df['new_Date'].dt.to_period(freq='A')\n",
        "df['Date_m'] = df['new_Date'].dt.to_period(freq='M')\n",
        "print(df.head())\n",
        "\n",
        "# 원하는 열을 새로운 행 인덱스로 지정\n",
        "df.set_index('Date_m', inplace=True)\n",
        "print(df.head())"
      ],
      "execution_count": 3,
      "outputs": [
        {
          "output_type": "stream",
          "name": "stdout",
          "text": [
            "         Date  Close  Start   High    Low  Volume   new_Date\n",
            "0  2018-07-02  10100  10850  10900  10000  137977 2018-07-02\n",
            "1  2018-06-29  10700  10550  10900   9990  170253 2018-06-29\n",
            "2  2018-06-28  10400  10900  10950  10150  155769 2018-06-28\n",
            "3  2018-06-27  10900  10800  11050  10500  133548 2018-06-27\n",
            "4  2018-06-26  10800  10900  11000  10700   63039 2018-06-26\n",
            "\n",
            "\n",
            "         Date  Close  Start   High    Low  Volume   new_Date  Year  Month  Day\n",
            "0  2018-07-02  10100  10850  10900  10000  137977 2018-07-02  2018      7    2\n",
            "1  2018-06-29  10700  10550  10900   9990  170253 2018-06-29  2018      6   29\n",
            "2  2018-06-28  10400  10900  10950  10150  155769 2018-06-28  2018      6   28\n",
            "3  2018-06-27  10900  10800  11050  10500  133548 2018-06-27  2018      6   27\n",
            "4  2018-06-26  10800  10900  11000  10700   63039 2018-06-26  2018      6   26\n",
            "\n",
            "\n",
            "         Date  Close  Start   High    Low  ...  Year Month  Day  Date_yr   Date_m\n",
            "0  2018-07-02  10100  10850  10900  10000  ...  2018     7    2     2018  2018-07\n",
            "1  2018-06-29  10700  10550  10900   9990  ...  2018     6   29     2018  2018-06\n",
            "2  2018-06-28  10400  10900  10950  10150  ...  2018     6   28     2018  2018-06\n",
            "3  2018-06-27  10900  10800  11050  10500  ...  2018     6   27     2018  2018-06\n",
            "4  2018-06-26  10800  10900  11000  10700  ...  2018     6   26     2018  2018-06\n",
            "\n",
            "[5 rows x 12 columns]\n",
            "               Date  Close  Start   High  ...  Year  Month Day  Date_yr\n",
            "Date_m                                    ...                          \n",
            "2018-07  2018-07-02  10100  10850  10900  ...  2018      7   2     2018\n",
            "2018-06  2018-06-29  10700  10550  10900  ...  2018      6  29     2018\n",
            "2018-06  2018-06-28  10400  10900  10950  ...  2018      6  28     2018\n",
            "2018-06  2018-06-27  10900  10800  11050  ...  2018      6  27     2018\n",
            "2018-06  2018-06-26  10800  10900  11000  ...  2018      6  26     2018\n",
            "\n",
            "[5 rows x 11 columns]\n"
          ]
        }
      ]
    },
    {
      "cell_type": "code",
      "metadata": {
        "id": "eseiu6_kasCI"
      },
      "source": [
        ""
      ],
      "execution_count": null,
      "outputs": []
    }
  ]
}