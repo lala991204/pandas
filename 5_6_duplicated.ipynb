{
  "nbformat": 4,
  "nbformat_minor": 0,
  "metadata": {
    "colab": {
      "name": "5.6_duplicated.ipynb",
      "provenance": [],
      "authorship_tag": "ABX9TyMuZoGIVP0dSG6y1AT/JmBh",
      "include_colab_link": true
    },
    "kernelspec": {
      "name": "python3",
      "display_name": "Python 3"
    },
    "language_info": {
      "name": "python"
    }
  },
  "cells": [
    {
      "cell_type": "markdown",
      "metadata": {
        "id": "view-in-github",
        "colab_type": "text"
      },
      "source": [
        "<a href=\"https://colab.research.google.com/github/lala991204/pandas/blob/master/5_6_duplicated.ipynb\" target=\"_parent\"><img src=\"https://colab.research.google.com/assets/colab-badge.svg\" alt=\"Open In Colab\"/></a>"
      ]
    },
    {
      "cell_type": "code",
      "metadata": {
        "colab": {
          "base_uri": "https://localhost:8080/"
        },
        "id": "KvJDKALqXUL1",
        "outputId": "53b33a4e-b02e-4680-85b3-bd2ce6a999ec"
      },
      "source": [
        "# 라이브러리 불러오기\n",
        "import pandas as pd\n",
        "\n",
        "# 중복 데이터를 갖는 데이터프레임 만들기\n",
        "df = pd.DataFrame({'c1':['a', 'a', 'b', 'a', 'b'],\n",
        "                   'c2':[1, 1, 1, 2, 2],\n",
        "                   'c3':[1, 1, 2, 2, 2]})\n",
        "print(df)\n",
        "print('\\n')\n",
        "\n",
        "# 데이터프레임 전체 행 데이터 중에서 중복값 찾기\n",
        "df_dup = df.duplicated()\n",
        "print(df_dup)\n",
        "print('\\n')\n",
        "\n",
        "# 데이터프레임 특정 열 데이터에서 중복값 찾기\n",
        "col_dup = df['c2'].duplicated()\n",
        "print(col_dup)"
      ],
      "execution_count": 2,
      "outputs": [
        {
          "output_type": "stream",
          "name": "stdout",
          "text": [
            "  c1  c2  c3\n",
            "0  a   1   1\n",
            "1  a   1   1\n",
            "2  b   1   2\n",
            "3  a   2   2\n",
            "4  b   2   2\n",
            "\n",
            "\n",
            "0    False\n",
            "1     True\n",
            "2    False\n",
            "3    False\n",
            "4    False\n",
            "dtype: bool\n",
            "\n",
            "\n",
            "0    False\n",
            "1     True\n",
            "2     True\n",
            "3    False\n",
            "4     True\n",
            "Name: c2, dtype: bool\n"
          ]
        }
      ]
    },
    {
      "cell_type": "code",
      "metadata": {
        "id": "yfjikbS1YbjY"
      },
      "source": [
        ""
      ],
      "execution_count": null,
      "outputs": []
    }
  ]
}