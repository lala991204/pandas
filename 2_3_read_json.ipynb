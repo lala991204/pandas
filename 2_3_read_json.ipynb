{
  "nbformat": 4,
  "nbformat_minor": 0,
  "metadata": {
    "colab": {
      "name": "2.3_read_json.ipynb",
      "provenance": [],
      "mount_file_id": "1TXhbkHc8DpXRDwAgbxIDg6OMwlhhKMcL",
      "authorship_tag": "ABX9TyNvnozBv5QA2emyB30q18lO",
      "include_colab_link": true
    },
    "kernelspec": {
      "name": "python3",
      "display_name": "Python 3"
    },
    "language_info": {
      "name": "python"
    }
  },
  "cells": [
    {
      "cell_type": "markdown",
      "metadata": {
        "id": "view-in-github",
        "colab_type": "text"
      },
      "source": [
        "<a href=\"https://colab.research.google.com/github/lala991204/pandas/blob/master/2_3_read_json.ipynb\" target=\"_parent\"><img src=\"https://colab.research.google.com/assets/colab-badge.svg\" alt=\"Open In Colab\"/></a>"
      ]
    },
    {
      "cell_type": "code",
      "metadata": {
        "colab": {
          "base_uri": "https://localhost:8080/"
        },
        "id": "06eOmx4xfb6b",
        "outputId": "c2281b13-8dc1-467f-d0b7-bf3e073211d6"
      },
      "source": [
        "import pandas as pd\n",
        "\n",
        "# read_json() 함수로 데이터프레임 변환\n",
        "df = pd.read_json('/content/drive/MyDrive/Colab Notebooks/pandas/read_json_sample.json')\n",
        "print(df)\n",
        "print('\\n')\n",
        "print(df.index)"
      ],
      "execution_count": 1,
      "outputs": [
        {
          "output_type": "stream",
          "name": "stdout",
          "text": [
            "           name  year        developer opensource\n",
            "pandas           2008    Wes Mckinneye       True\n",
            "NumPy            2006  Travis Oliphant       True\n",
            "matplotlib       2003   John D. Hunter       True\n",
            "\n",
            "\n",
            "Index(['pandas', 'NumPy', 'matplotlib'], dtype='object')\n"
          ]
        }
      ]
    },
    {
      "cell_type": "code",
      "metadata": {
        "id": "jzeUUtd9gisY"
      },
      "source": [
        ""
      ],
      "execution_count": null,
      "outputs": []
    }
  ]
}