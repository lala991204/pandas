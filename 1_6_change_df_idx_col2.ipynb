{
  "nbformat": 4,
  "nbformat_minor": 0,
  "metadata": {
    "colab": {
      "name": "1.6_change_df_idx_col2.ipynb",
      "provenance": [],
      "authorship_tag": "ABX9TyNh56MJkficfR8ch3n/HzTG",
      "include_colab_link": true
    },
    "kernelspec": {
      "name": "python3",
      "display_name": "Python 3"
    },
    "language_info": {
      "name": "python"
    }
  },
  "cells": [
    {
      "cell_type": "markdown",
      "metadata": {
        "id": "view-in-github",
        "colab_type": "text"
      },
      "source": [
        "<a href=\"https://colab.research.google.com/github/lala991204/pandas/blob/master/1_6_change_df_idx_col2.ipynb\" target=\"_parent\"><img src=\"https://colab.research.google.com/assets/colab-badge.svg\" alt=\"Open In Colab\"/></a>"
      ]
    },
    {
      "cell_type": "code",
      "metadata": {
        "colab": {
          "base_uri": "https://localhost:8080/"
        },
        "id": "N72vvdT40-kC",
        "outputId": "c6de6ac1-6bdc-41b2-ddb0-a033ce57b765"
      },
      "source": [
        "import pandas as pd\n",
        "\n",
        "# 행 인덱스/열 이름 지정하여 데이터프레임 만들기\n",
        "df = pd.DataFrame([[15, '남', '덕영중'], [17, '여', '수리중']],\n",
        "                  index=['준서', '예은'],\n",
        "                  columns=['나이', '성별', '학교'])\n",
        "\n",
        "# 데이터프레임 df 출력\n",
        "print(df)\n",
        "print(\"\\n\")\n",
        "\n",
        "# 열 이름 중, '나이'를 '연령'으로, '성별'을 '남녀'로, '학교'를 '소속'으로 바꾸기\n",
        "df.rename(columns={'나이':'연령', '성별':'남녀', '학교':'소속'}, inplace=True)\n",
        "\n",
        "# df의 행 인덱스 중에서, '준서'를 '학생1'로, '예은'을 '학생2'로 바꾸기\n",
        "df.rename(index={'준서':'학생1', '예은':'학생2'}, inplace=True)\n",
        "\n",
        "# df 출력(변경 후)\n",
        "print(df)"
      ],
      "execution_count": 3,
      "outputs": [
        {
          "output_type": "stream",
          "name": "stdout",
          "text": [
            "    나이 성별   학교\n",
            "준서  15  남  덕영중\n",
            "예은  17  여  수리중\n",
            "\n",
            "\n",
            "     연령 남녀   소속\n",
            "학생1  15  남  덕영중\n",
            "학생2  17  여  수리중\n"
          ]
        }
      ]
    },
    {
      "cell_type": "code",
      "metadata": {
        "id": "IB1emdOo2cQr"
      },
      "source": [
        ""
      ],
      "execution_count": null,
      "outputs": []
    }
  ]
}