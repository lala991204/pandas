{
  "nbformat": 4,
  "nbformat_minor": 0,
  "metadata": {
    "colab": {
      "name": "2.2_read_excel.ipynb",
      "provenance": [],
      "mount_file_id": "1LKr2B8PccPBtJmXil7mpncKeeDiO6fp9",
      "authorship_tag": "ABX9TyNonbZhBHw0eiDE+AD1rr1P",
      "include_colab_link": true
    },
    "kernelspec": {
      "name": "python3",
      "display_name": "Python 3"
    },
    "language_info": {
      "name": "python"
    }
  },
  "cells": [
    {
      "cell_type": "markdown",
      "metadata": {
        "id": "view-in-github",
        "colab_type": "text"
      },
      "source": [
        "<a href=\"https://colab.research.google.com/github/lala991204/pandas/blob/master/2_2_read_excel.ipynb\" target=\"_parent\"><img src=\"https://colab.research.google.com/assets/colab-badge.svg\" alt=\"Open In Colab\"/></a>"
      ]
    },
    {
      "cell_type": "code",
      "metadata": {
        "colab": {
          "base_uri": "https://localhost:8080/"
        },
        "id": "sJLV7fKcdQeK",
        "outputId": "31ec2372-8c5f-4e5d-ac26-dc39764dc2ea"
      },
      "source": [
        "import pandas as pd\n",
        "\n",
        "# read_csv() 함수로 데이터프레임 변환\n",
        "df1 = pd.read_excel('/content/drive/MyDrive/Colab Notebooks/pandas/남북한발전전력량.xlsx', engine='openpyxl')     # header=0 (default 옵션)\n",
        "df2 = pd.read_excel('/content/drive/MyDrive/Colab Notebooks/pandas/남북한발전전력량.xlsx', engine='openpyxl', header=None)   # header 옵션 미적용\n",
        "\n",
        "# 데이터프레임 출력\n",
        "print(df1)\n",
        "print('\\n')\n",
        "print(df2)"
      ],
      "execution_count": 1,
      "outputs": [
        {
          "output_type": "stream",
          "name": "stdout",
          "text": [
            "  전력량 (억㎾h) 발전 전력별  1990  1991  1992  1993  ...  2011  2012  2013  2014  2015  2016\n",
            "0        남한     합계  1077  1186  1310  1444  ...  4969  5096  5171  5220  5281  5404\n",
            "1       NaN     수력    64    51    49    60  ...    78    77    84    78    58    66\n",
            "2       NaN     화력   484   573   696   803  ...  3343  3430  3581  3427  3402  3523\n",
            "3       NaN    원자력   529   563   565   581  ...  1547  1503  1388  1564  1648  1620\n",
            "4       NaN    신재생     -     -     -     -  ...     -    86   118   151   173   195\n",
            "5        북한     합계   277   263   247   221  ...   211   215   221   216   190   239\n",
            "6       NaN     수력   156   150   142   133  ...   132   135   139   130   100   128\n",
            "7       NaN     화력   121   113   105    88  ...    79    80    82    86    90   111\n",
            "8       NaN    원자력     -     -     -     -  ...     -     -     -     -     -     -\n",
            "\n",
            "[9 rows x 29 columns]\n",
            "\n",
            "\n",
            "          0       1     2     3     4   ...    24    25    26    27    28\n",
            "0  전력량 (억㎾h)  발전 전력별  1990  1991  1992  ...  2012  2013  2014  2015  2016\n",
            "1         남한      합계  1077  1186  1310  ...  5096  5171  5220  5281  5404\n",
            "2        NaN      수력    64    51    49  ...    77    84    78    58    66\n",
            "3        NaN      화력   484   573   696  ...  3430  3581  3427  3402  3523\n",
            "4        NaN     원자력   529   563   565  ...  1503  1388  1564  1648  1620\n",
            "5        NaN     신재생     -     -     -  ...    86   118   151   173   195\n",
            "6         북한      합계   277   263   247  ...   215   221   216   190   239\n",
            "7        NaN      수력   156   150   142  ...   135   139   130   100   128\n",
            "8        NaN      화력   121   113   105  ...    80    82    86    90   111\n",
            "9        NaN     원자력     -     -     -  ...     -     -     -     -     -\n",
            "\n",
            "[10 rows x 29 columns]\n"
          ]
        }
      ]
    },
    {
      "cell_type": "code",
      "metadata": {
        "id": "I5QwW5Mwe8ye"
      },
      "source": [
        ""
      ],
      "execution_count": null,
      "outputs": []
    }
  ]
}