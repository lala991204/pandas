{
  "nbformat": 4,
  "nbformat_minor": 0,
  "metadata": {
    "colab": {
      "name": "6.7_df_column_order.ipynb",
      "provenance": [],
      "toc_visible": true,
      "authorship_tag": "ABX9TyMxbezFG9xXQm7idfdcxX7k",
      "include_colab_link": true
    },
    "kernelspec": {
      "name": "python3",
      "display_name": "Python 3"
    },
    "language_info": {
      "name": "python"
    }
  },
  "cells": [
    {
      "cell_type": "markdown",
      "metadata": {
        "id": "view-in-github",
        "colab_type": "text"
      },
      "source": [
        "<a href=\"https://colab.research.google.com/github/lala991204/pandas/blob/master/6_7_df_column_order.ipynb\" target=\"_parent\"><img src=\"https://colab.research.google.com/assets/colab-badge.svg\" alt=\"Open In Colab\"/></a>"
      ]
    },
    {
      "cell_type": "code",
      "metadata": {
        "colab": {
          "base_uri": "https://localhost:8080/"
        },
        "id": "6--dOhb9jMJY",
        "outputId": "7f7b9392-6417-42bc-c211-34855a231bcc"
      },
      "source": [
        "# 라이브러리 불러오기\n",
        "import seaborn as sns\n",
        "\n",
        "# titanic 데이터셋의 부분을 선택하여 데이터프레임 만들기\n",
        "titanic = sns.load_dataset('titanic')\n",
        "df = titanic.loc[0:4, 'survived':'age']\n",
        "print(df, '\\n')"
      ],
      "execution_count": 4,
      "outputs": [
        {
          "output_type": "stream",
          "name": "stdout",
          "text": [
            "   survived  pclass     sex   age\n",
            "0         0       3    male  22.0\n",
            "1         1       1  female  38.0\n",
            "2         1       3  female  26.0\n",
            "3         1       1  female  35.0\n",
            "4         0       3    male  35.0 \n",
            "\n"
          ]
        }
      ]
    },
    {
      "cell_type": "code",
      "metadata": {
        "colab": {
          "base_uri": "https://localhost:8080/"
        },
        "id": "SKBF9dgRkFUy",
        "outputId": "f3396982-da6e-4708-be2c-ef547e9464f0"
      },
      "source": [
        "# 열 이름의 리스트 만들기\n",
        "columns = list(df.columns.values)        # 기존 열 이름\n",
        "print(columns, '\\n')"
      ],
      "execution_count": 5,
      "outputs": [
        {
          "output_type": "stream",
          "name": "stdout",
          "text": [
            "['survived', 'pclass', 'sex', 'age'] \n",
            "\n"
          ]
        }
      ]
    },
    {
      "cell_type": "code",
      "metadata": {
        "colab": {
          "base_uri": "https://localhost:8080/"
        },
        "id": "n24DlY-jke9d",
        "outputId": "6e651f0d-a653-4c77-e989-51dbd6113b59"
      },
      "source": [
        "# 열 이름을 알파벳 순으로 정렬하기\n",
        "columns_sorted = sorted(columns)         # 알파벳 순으로 정렬\n",
        "df_sorted = df[columns_sorted]\n",
        "print(df_sorted, '\\n')"
      ],
      "execution_count": 9,
      "outputs": [
        {
          "output_type": "stream",
          "name": "stdout",
          "text": [
            "    age  pclass     sex  survived\n",
            "0  22.0       3    male         0\n",
            "1  38.0       1  female         1\n",
            "2  26.0       3  female         1\n",
            "3  35.0       1  female         1\n",
            "4  35.0       3    male         0 \n",
            "\n"
          ]
        }
      ]
    },
    {
      "cell_type": "code",
      "metadata": {
        "colab": {
          "base_uri": "https://localhost:8080/"
        },
        "id": "hpCMtJ7VkykY",
        "outputId": "9db0081b-f11c-4265-d3ec-31158b1aff1c"
      },
      "source": [
        "# 열 이름을 기존 순서의 정반대 역순으로 정렬하기\n",
        "columns_reversed = list(reversed(columns))\n",
        "df_reversed = df[columns_reversed]\n",
        "print(df_reversed, '\\n')"
      ],
      "execution_count": 12,
      "outputs": [
        {
          "output_type": "stream",
          "name": "stdout",
          "text": [
            "    age     sex  pclass  survived\n",
            "0  22.0    male       3         0\n",
            "1  38.0  female       1         1\n",
            "2  26.0  female       3         1\n",
            "3  35.0  female       1         1\n",
            "4  35.0    male       3         0 \n",
            "\n"
          ]
        }
      ]
    },
    {
      "cell_type": "code",
      "metadata": {
        "colab": {
          "base_uri": "https://localhost:8080/"
        },
        "id": "kgeXe7aulmKz",
        "outputId": "e6bb7ea2-8deb-43ea-ed4c-e1c9620fb6c6"
      },
      "source": [
        "# 열 이름을 사용자가 정의한 임의의 순서로 재배치하기\n",
        "columns_customed = ['pclass', 'sex', 'age', 'survived']\n",
        "df_customed = df[columns_customed]\n",
        "print(df_customed)"
      ],
      "execution_count": 13,
      "outputs": [
        {
          "output_type": "stream",
          "name": "stdout",
          "text": [
            "   pclass     sex   age  survived\n",
            "0       3    male  22.0         0\n",
            "1       1  female  38.0         1\n",
            "2       3  female  26.0         1\n",
            "3       1  female  35.0         1\n",
            "4       3    male  35.0         0\n"
          ]
        }
      ]
    }
  ]
}