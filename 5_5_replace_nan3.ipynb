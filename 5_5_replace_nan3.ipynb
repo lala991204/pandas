{
  "nbformat": 4,
  "nbformat_minor": 0,
  "metadata": {
    "colab": {
      "name": "5.5_replace_nan3.ipynb",
      "provenance": [],
      "authorship_tag": "ABX9TyPTkYjlcQJX8ti5qVnLroSJ",
      "include_colab_link": true
    },
    "kernelspec": {
      "name": "python3",
      "display_name": "Python 3"
    },
    "language_info": {
      "name": "python"
    }
  },
  "cells": [
    {
      "cell_type": "markdown",
      "metadata": {
        "id": "view-in-github",
        "colab_type": "text"
      },
      "source": [
        "<a href=\"https://colab.research.google.com/github/lala991204/pandas/blob/master/5_5_replace_nan3.ipynb\" target=\"_parent\"><img src=\"https://colab.research.google.com/assets/colab-badge.svg\" alt=\"Open In Colab\"/></a>"
      ]
    },
    {
      "cell_type": "code",
      "metadata": {
        "colab": {
          "base_uri": "https://localhost:8080/"
        },
        "id": "Y0nP2srQWlNH",
        "outputId": "7019b420-ed00-4d86-a783-55d6a2295340"
      },
      "source": [
        "# 라이브러리 불러오기\n",
        "import seaborn as sns\n",
        "\n",
        "# titanic 데이터셋 가져오기\n",
        "df = sns.load_dataset('titanic')\n",
        "\n",
        "# embark_town 열의 829행의 NaN 데이터 출력\n",
        "print(df['embark_town'][825:830])\n",
        "print('\\n')\n",
        "\n",
        "# embark_town 열의 NaN 값을 바로 앞에 있는 828행의 값으로 변경하기\n",
        "df['embark_town'].fillna(method='ffill', inplace=True)    # front fill\n",
        "print(df['embark_town'][825:830])"
      ],
      "execution_count": 1,
      "outputs": [
        {
          "output_type": "stream",
          "name": "stdout",
          "text": [
            "825     Queenstown\n",
            "826    Southampton\n",
            "827      Cherbourg\n",
            "828     Queenstown\n",
            "829            NaN\n",
            "Name: embark_town, dtype: object\n",
            "\n",
            "\n",
            "825     Queenstown\n",
            "826    Southampton\n",
            "827      Cherbourg\n",
            "828     Queenstown\n",
            "829     Queenstown\n",
            "Name: embark_town, dtype: object\n"
          ]
        }
      ]
    },
    {
      "cell_type": "code",
      "metadata": {
        "id": "ed_blwkBXJ32"
      },
      "source": [
        ""
      ],
      "execution_count": null,
      "outputs": []
    }
  ]
}