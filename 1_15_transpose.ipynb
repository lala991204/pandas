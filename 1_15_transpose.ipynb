{
  "nbformat": 4,
  "nbformat_minor": 0,
  "metadata": {
    "colab": {
      "name": "1.15_transpose.ipynb",
      "provenance": [],
      "authorship_tag": "ABX9TyMF/2N6GbUDinwSyecSIXE8",
      "include_colab_link": true
    },
    "kernelspec": {
      "name": "python3",
      "display_name": "Python 3"
    },
    "language_info": {
      "name": "python"
    }
  },
  "cells": [
    {
      "cell_type": "markdown",
      "metadata": {
        "id": "view-in-github",
        "colab_type": "text"
      },
      "source": [
        "<a href=\"https://colab.research.google.com/github/lala991204/pandas/blob/master/1_15_transpose.ipynb\" target=\"_parent\"><img src=\"https://colab.research.google.com/assets/colab-badge.svg\" alt=\"Open In Colab\"/></a>"
      ]
    },
    {
      "cell_type": "code",
      "metadata": {
        "colab": {
          "base_uri": "https://localhost:8080/"
        },
        "id": "ql14w6egxL13",
        "outputId": "aa62398f-5bf5-416f-952f-aabd4921c5ce"
      },
      "source": [
        "import pandas as pd\n",
        "\n",
        "# DataFrame() 함수로 데이터프레임 변환. 변수 df에 저장\n",
        "exam_data = {'이름' : ['서준', '우현', '인아'],\n",
        "             '수학' : [90, 80, 70],\n",
        "             '영어' : [98, 89, 95],\n",
        "             '음악' : [85, 95, 100],\n",
        "             '체육' : [100, 90, 90]}\n",
        "df = pd.DataFrame(exam_data)\n",
        "print(df)\n",
        "print('\\n')\n",
        "\n",
        "# 데이터프레임 df를 전치하기(메소드 활용)\n",
        "df = df.transpose()\n",
        "print(df)\n",
        "print('\\n')\n",
        "\n",
        "# 데이터프레임 df를 다시 전치하기(클래스 속성 활용)\n",
        "df = df.T\n",
        "print(df)"
      ],
      "execution_count": 1,
      "outputs": [
        {
          "output_type": "stream",
          "name": "stdout",
          "text": [
            "   이름  수학  영어   음악   체육\n",
            "0  서준  90  98   85  100\n",
            "1  우현  80  89   95   90\n",
            "2  인아  70  95  100   90\n",
            "\n",
            "\n",
            "      0   1    2\n",
            "이름   서준  우현   인아\n",
            "수학   90  80   70\n",
            "영어   98  89   95\n",
            "음악   85  95  100\n",
            "체육  100  90   90\n",
            "\n",
            "\n",
            "   이름  수학  영어   음악   체육\n",
            "0  서준  90  98   85  100\n",
            "1  우현  80  89   95   90\n",
            "2  인아  70  95  100   90\n"
          ]
        }
      ]
    },
    {
      "cell_type": "code",
      "metadata": {
        "id": "wG__UlG0yG2D"
      },
      "source": [
        ""
      ],
      "execution_count": null,
      "outputs": []
    }
  ]
}