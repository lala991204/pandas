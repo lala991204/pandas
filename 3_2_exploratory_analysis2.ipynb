{
  "nbformat": 4,
  "nbformat_minor": 0,
  "metadata": {
    "colab": {
      "name": "3.2_exploratory_analysis2.ipynb",
      "provenance": [],
      "authorship_tag": "ABX9TyOQHzaXj8YLnwGxKmm2Bfu/",
      "include_colab_link": true
    },
    "kernelspec": {
      "name": "python3",
      "display_name": "Python 3"
    },
    "language_info": {
      "name": "python"
    }
  },
  "cells": [
    {
      "cell_type": "markdown",
      "metadata": {
        "id": "view-in-github",
        "colab_type": "text"
      },
      "source": [
        "<a href=\"https://colab.research.google.com/github/lala991204/pandas/blob/master/3_2_exploratory_analysis2.ipynb\" target=\"_parent\"><img src=\"https://colab.research.google.com/assets/colab-badge.svg\" alt=\"Open In Colab\"/></a>"
      ]
    },
    {
      "cell_type": "code",
      "metadata": {
        "colab": {
          "base_uri": "https://localhost:8080/"
        },
        "id": "Qw8BokAGLJcf",
        "outputId": "4f190b1d-576e-4683-a0d4-63247057eb81"
      },
      "source": [
        "import pandas as pd\n",
        "\n",
        "# read_csv() 함수로 df 생성\n",
        "df = pd.read_csv('/content/drive/MyDrive/Colab Notebooks/pandas/auto-mpg.csv')\n",
        "\n",
        "# 열 이름 지정\n",
        "df.columns = ['mpg', 'cylinders', 'displacement', 'horsepower', 'weight',\n",
        "              'accerleration', 'model year', 'origin', 'name']\n",
        "\n",
        "# 데이터프레임 df의 각 열이 가지고 있는 원소 개수 확인\n",
        "print(df.count())\n",
        "print('\\n')\n",
        "\n",
        "# df.count()가 반환하는 객체 타입 출력\n",
        "print(type(df.count()))"
      ],
      "execution_count": 2,
      "outputs": [
        {
          "output_type": "stream",
          "name": "stdout",
          "text": [
            "mpg              397\n",
            "cylinders        397\n",
            "displacement     397\n",
            "horsepower       397\n",
            "weight           397\n",
            "accerleration    397\n",
            "model year       397\n",
            "origin           397\n",
            "name             397\n",
            "dtype: int64\n",
            "\n",
            "\n",
            "<class 'pandas.core.series.Series'>\n"
          ]
        }
      ]
    },
    {
      "cell_type": "code",
      "metadata": {
        "colab": {
          "base_uri": "https://localhost:8080/"
        },
        "id": "MKNb-GsCMLUX",
        "outputId": "b4f364a2-777b-4ddd-eb6b-c1d6d6effa30"
      },
      "source": [
        "# 데이터프레임 df의 특정 열이 가지고 있는 고유값 확인\n",
        "unique_values = df['origin'].value_counts()\n",
        "print(unique_values)\n",
        "print('\\n')\n",
        "\n",
        "# value_counts 메소드가 반환하는 객체 타입 출력\n",
        "print(type(unique_values))"
      ],
      "execution_count": 5,
      "outputs": [
        {
          "output_type": "stream",
          "name": "stdout",
          "text": [
            "1    248\n",
            "3     79\n",
            "2     70\n",
            "Name: origin, dtype: int64\n",
            "\n",
            "\n",
            "<class 'pandas.core.series.Series'>\n"
          ]
        }
      ]
    },
    {
      "cell_type": "code",
      "metadata": {
        "id": "phFtbsFjNztt"
      },
      "source": [
        ""
      ],
      "execution_count": null,
      "outputs": []
    }
  ]
}