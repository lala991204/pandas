{
  "nbformat": 4,
  "nbformat_minor": 0,
  "metadata": {
    "colab": {
      "name": "1.12_add_column.ipynb",
      "provenance": [],
      "authorship_tag": "ABX9TyPc+coClTET9FFl+X9HDyjQ",
      "include_colab_link": true
    },
    "kernelspec": {
      "name": "python3",
      "display_name": "Python 3"
    },
    "language_info": {
      "name": "python"
    }
  },
  "cells": [
    {
      "cell_type": "markdown",
      "metadata": {
        "id": "view-in-github",
        "colab_type": "text"
      },
      "source": [
        "<a href=\"https://colab.research.google.com/github/lala991204/pandas/blob/master/1_12_add_column.ipynb\" target=\"_parent\"><img src=\"https://colab.research.google.com/assets/colab-badge.svg\" alt=\"Open In Colab\"/></a>"
      ]
    },
    {
      "cell_type": "code",
      "metadata": {
        "colab": {
          "base_uri": "https://localhost:8080/"
        },
        "id": "25WhWvIgrT28",
        "outputId": "5cd76986-51ca-45ad-e355-60fd863fc0d3"
      },
      "source": [
        "import pandas as pd\n",
        "\n",
        "# DataFrame() 함수로 데이터프레임 변환. 변수 df에 저장\n",
        "exam_data = {'이름' : ['서준', '우현', '인아'],\n",
        "             '수학' : [90, 80, 70],\n",
        "             '영어' : [98, 89, 95],\n",
        "             '음악' : [85, 95, 100],\n",
        "             '체육' : [100, 90, 90]}\n",
        "df = pd.DataFrame(exam_data)\n",
        "print(df)\n",
        "print('\\n')\n",
        "\n",
        "# 데이터프레임 df에 '국어' 점수 열(column) 추가. 데이터 값은 80 지정\n",
        "df['국어'] = 80\n",
        "print(df)"
      ],
      "execution_count": 1,
      "outputs": [
        {
          "output_type": "stream",
          "name": "stdout",
          "text": [
            "   이름  수학  영어   음악   체육\n",
            "0  서준  90  98   85  100\n",
            "1  우현  80  89   95   90\n",
            "2  인아  70  95  100   90\n",
            "\n",
            "\n",
            "   이름  수학  영어   음악   체육  국어\n",
            "0  서준  90  98   85  100  80\n",
            "1  우현  80  89   95   90  80\n",
            "2  인아  70  95  100   90  80\n"
          ]
        }
      ]
    },
    {
      "cell_type": "code",
      "metadata": {
        "id": "kYtixszRsKBI"
      },
      "source": [
        ""
      ],
      "execution_count": null,
      "outputs": []
    }
  ]
}