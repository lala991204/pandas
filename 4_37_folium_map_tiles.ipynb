{
  "nbformat": 4,
  "nbformat_minor": 0,
  "metadata": {
    "colab": {
      "name": "4.37_folium_map_tiles.ipynb",
      "provenance": [],
      "mount_file_id": "1fz-JSFJ7r-6qp6M4w5xH5CQSQ0ZFejt6",
      "authorship_tag": "ABX9TyMgmb/2EbELBLj6VN+zRRzY",
      "include_colab_link": true
    },
    "kernelspec": {
      "name": "python3",
      "display_name": "Python 3"
    },
    "language_info": {
      "name": "python"
    }
  },
  "cells": [
    {
      "cell_type": "markdown",
      "metadata": {
        "id": "view-in-github",
        "colab_type": "text"
      },
      "source": [
        "<a href=\"https://colab.research.google.com/github/lala991204/pandas/blob/master/4_37_folium_map_tiles.ipynb\" target=\"_parent\"><img src=\"https://colab.research.google.com/assets/colab-badge.svg\" alt=\"Open In Colab\"/></a>"
      ]
    },
    {
      "cell_type": "code",
      "metadata": {
        "id": "ff2goLPeRNQe"
      },
      "source": [
        "# 라이브러리 불러오기\n",
        "import folium\n",
        "\n",
        "# 서울 지도 만들기\n",
        "seoul_map2 = folium.Map(location=[37.55,126.98], tiles='Stamen Terrain',\n",
        "                        zoom_start=12)\n",
        "seoul_map3 = folium.Map(location=[37.55,126.98], tiles='Stamen Toner',\n",
        "                        zoom_start=15)\n",
        "\n",
        "# 지도를 HTML 파일로 저장하기\n",
        "seoul_map2.save('/content/drive/MyDrive/Colab Notebooks/pandas/seoul2.html')\n",
        "seoul_map3.save('/content/drive/MyDrive/Colab Notebooks/pandas/seoul3.html')"
      ],
      "execution_count": 2,
      "outputs": []
    },
    {
      "cell_type": "code",
      "metadata": {
        "id": "Bc1bMQDNRyll"
      },
      "source": [
        ""
      ],
      "execution_count": null,
      "outputs": []
    }
  ]
}