{
  "nbformat": 4,
  "nbformat_minor": 0,
  "metadata": {
    "colab": {
      "name": "5.8_unit_conversion.ipynb",
      "provenance": [],
      "mount_file_id": "1LvkI6R7Cgapr3ulselftKn-Xi6E6MT_r",
      "authorship_tag": "ABX9TyNFdPiPn2xGi6XYn0Ypj+5w",
      "include_colab_link": true
    },
    "kernelspec": {
      "name": "python3",
      "display_name": "Python 3"
    },
    "language_info": {
      "name": "python"
    }
  },
  "cells": [
    {
      "cell_type": "markdown",
      "metadata": {
        "id": "view-in-github",
        "colab_type": "text"
      },
      "source": [
        "<a href=\"https://colab.research.google.com/github/lala991204/pandas/blob/master/5_8_unit_conversion.ipynb\" target=\"_parent\"><img src=\"https://colab.research.google.com/assets/colab-badge.svg\" alt=\"Open In Colab\"/></a>"
      ]
    },
    {
      "cell_type": "code",
      "metadata": {
        "colab": {
          "base_uri": "https://localhost:8080/"
        },
        "id": "yzy3JuT_aMhk",
        "outputId": "db3dc9fe-2229-4153-9c70-3ff0fa4bca39"
      },
      "source": [
        "# 라이브러리 불러오기\n",
        "import pandas as pd\n",
        "\n",
        "# read_csv() 함수로 df 생성\n",
        "df = pd.read_csv('/content/drive/MyDrive/Colab Notebooks/pandas/auto-mpg.csv')\n",
        "\n",
        "# 열 이름을 지정\n",
        "df.columns = ['mpg', 'cylinders', 'displacement', 'horsepower', 'weight',\n",
        "              'acceleration', 'model year', 'origin', 'name']\n",
        "print(df.head(3))\n",
        "print('\\n')\n",
        "\n",
        "# mpg(mile per gallon)를 kpl(kilometer per liter)로 변환 (mpg_to_kpl = 0.425)\n",
        "mpg_to_kpl = 1.60934 / 3.78541\n",
        "\n",
        "# mpg 열에 0.425를 곱한 결과를 새로운 열(kpl)에 추가\n",
        "df['kpl'] = df['mpg'] * mpg_to_kpl\n",
        "print(df.head(3))\n",
        "print('\\n')\n",
        "\n",
        "# kpl 열을 소수점 아래 둘째 자리에서 반올림\n",
        "df['kpl'] = df['kpl'].round(2)\n",
        "print(df.head(3))"
      ],
      "execution_count": 1,
      "outputs": [
        {
          "output_type": "stream",
          "name": "stdout",
          "text": [
            "    mpg  cylinders  displacement  ... model year  origin                name\n",
            "0  15.0          8         350.0  ...         70       1   buick skylark 320\n",
            "1  18.0          8         318.0  ...         70       1  plymouth satellite\n",
            "2  16.0          8         304.0  ...         70       1       amc rebel sst\n",
            "\n",
            "[3 rows x 9 columns]\n",
            "\n",
            "\n",
            "    mpg  cylinders  displacement  ... origin                name       kpl\n",
            "0  15.0          8         350.0  ...      1   buick skylark 320  6.377143\n",
            "1  18.0          8         318.0  ...      1  plymouth satellite  7.652571\n",
            "2  16.0          8         304.0  ...      1       amc rebel sst  6.802286\n",
            "\n",
            "[3 rows x 10 columns]\n",
            "\n",
            "\n",
            "    mpg  cylinders  displacement  ... origin                name   kpl\n",
            "0  15.0          8         350.0  ...      1   buick skylark 320  6.38\n",
            "1  18.0          8         318.0  ...      1  plymouth satellite  7.65\n",
            "2  16.0          8         304.0  ...      1       amc rebel sst  6.80\n",
            "\n",
            "[3 rows x 10 columns]\n"
          ]
        }
      ]
    },
    {
      "cell_type": "code",
      "metadata": {
        "id": "SQCgaz0ubOLq"
      },
      "source": [
        ""
      ],
      "execution_count": null,
      "outputs": []
    }
  ]
}