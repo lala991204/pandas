{
  "nbformat": 4,
  "nbformat_minor": 0,
  "metadata": {
    "colab": {
      "name": "6.16_df_groupby_transform.ipynb",
      "provenance": [],
      "authorship_tag": "ABX9TyN9VyRuUXurtZrGULJ2KyqM",
      "include_colab_link": true
    },
    "kernelspec": {
      "name": "python3",
      "display_name": "Python 3"
    },
    "language_info": {
      "name": "python"
    }
  },
  "cells": [
    {
      "cell_type": "markdown",
      "metadata": {
        "id": "view-in-github",
        "colab_type": "text"
      },
      "source": [
        "<a href=\"https://colab.research.google.com/github/lala991204/pandas/blob/master/6_16_df_groupby_transform.ipynb\" target=\"_parent\"><img src=\"https://colab.research.google.com/assets/colab-badge.svg\" alt=\"Open In Colab\"/></a>"
      ]
    },
    {
      "cell_type": "code",
      "metadata": {
        "colab": {
          "base_uri": "https://localhost:8080/"
        },
        "id": "fZ8CQNX1vnrS",
        "outputId": "616e5000-60ce-4af3-8289-b9fa0ca5c8cc"
      },
      "source": [
        "# 라이브러리 불러오기\n",
        "import pandas as pd\n",
        "import seaborn as sns\n",
        "\n",
        "# titanic 데이터셋에서 age, sex 등 5개 열을 선택하여 데이터프레임 만들기\n",
        "titanic = sns.load_dataset('titanic')\n",
        "df = titanic.loc[:, ['age', 'sex', 'class', 'fare', 'survived']]\n",
        "\n",
        "# class 열을 기준으로 분할\n",
        "grouped = df.groupby(['class'])\n",
        "\n",
        "# 그룹별 age 열의 평균 집계 연산\n",
        "age_mean = grouped.age.mean()\n",
        "print(age_mean)\n",
        "print('\\n')\n",
        "\n",
        "# 그룹별 age 열의 표준편차 집계 연산\n",
        "age_std = grouped.age.std()\n",
        "print(age_std)\n",
        "print('\\n')\n",
        "\n",
        "# 그룹 객체의 age 열을 iteration으로 z-score을 계산하여 출력\n",
        "for key, group in grouped.age:\n",
        "    group_zscore = (group - age_mean.loc[key]) / age_std.loc[key]\n",
        "    print('* origin :', key)\n",
        "    print(group_zscore.head(3))    # 각 그룹의 첫 3개의 행을 출력\n",
        "    print('\\n')"
      ],
      "execution_count": 3,
      "outputs": [
        {
          "output_type": "stream",
          "name": "stdout",
          "text": [
            "class\n",
            "First     38.233441\n",
            "Second    29.877630\n",
            "Third     25.140620\n",
            "Name: age, dtype: float64\n",
            "\n",
            "\n",
            "class\n",
            "First     14.802856\n",
            "Second    14.001077\n",
            "Third     12.495398\n",
            "Name: age, dtype: float64\n",
            "\n",
            "\n",
            "* origin : First\n",
            "1   -0.015770\n",
            "3   -0.218434\n",
            "6    1.065103\n",
            "Name: age, dtype: float64\n",
            "\n",
            "\n",
            "* origin : Second\n",
            "9    -1.134029\n",
            "15    1.794317\n",
            "17         NaN\n",
            "Name: age, dtype: float64\n",
            "\n",
            "\n",
            "* origin : Third\n",
            "0   -0.251342\n",
            "2    0.068776\n",
            "4    0.789041\n",
            "Name: age, dtype: float64\n",
            "\n",
            "\n"
          ]
        }
      ]
    },
    {
      "cell_type": "code",
      "metadata": {
        "colab": {
          "base_uri": "https://localhost:8080/"
        },
        "id": "mHVFM76Cwoly",
        "outputId": "494f1fe0-fe56-4624-c21c-86a62d16e2c4"
      },
      "source": [
        "# z-score을 계산하는 사용자 함수 정의\n",
        "def z_score(x):\n",
        "    return (x - x.mean()) / x.std()\n",
        "\n",
        "# transform() 메소드를 이용하여 age 열의 데이터를 z-score로 변환\n",
        "age_zscore = grouped.age.transform(z_score)\n",
        "print(age_zscore.loc[[1, 9, 0]])         # 1, 2, 3 그룹의 첫 데이터 확인 (변환 결과)\n",
        "print('\\n')\n",
        "print(len(age_zscore))                   # transform 메소드 반환 값의 길이\n",
        "print('\\n')\n",
        "print(age_zscore.loc[0:9])               # transform 메소드 반환 값 출력 (첫 10개)\n",
        "print('\\n')\n",
        "print(type(age_zscore))                  # transform 메소드 반환 객체의 자료형\n"
      ],
      "execution_count": 4,
      "outputs": [
        {
          "output_type": "stream",
          "name": "stdout",
          "text": [
            "1   -0.015770\n",
            "9   -1.134029\n",
            "0   -0.251342\n",
            "Name: age, dtype: float64\n",
            "\n",
            "\n",
            "891\n",
            "\n",
            "\n",
            "0   -0.251342\n",
            "1   -0.015770\n",
            "2    0.068776\n",
            "3   -0.218434\n",
            "4    0.789041\n",
            "5         NaN\n",
            "6    1.065103\n",
            "7   -1.851931\n",
            "8    0.148805\n",
            "9   -1.134029\n",
            "Name: age, dtype: float64\n",
            "\n",
            "\n",
            "<class 'pandas.core.series.Series'>\n"
          ]
        }
      ]
    },
    {
      "cell_type": "code",
      "metadata": {
        "id": "BvWpoU2NxiT9"
      },
      "source": [
        "ㄹ"
      ],
      "execution_count": null,
      "outputs": []
    }
  ]
}