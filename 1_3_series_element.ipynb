{
  "nbformat": 4,
  "nbformat_minor": 0,
  "metadata": {
    "colab": {
      "name": "1.3_series_element.ipynb",
      "provenance": [],
      "authorship_tag": "ABX9TyMRvOACxprayrRGZjpzz548",
      "include_colab_link": true
    },
    "kernelspec": {
      "name": "python3",
      "display_name": "Python 3"
    },
    "language_info": {
      "name": "python"
    }
  },
  "cells": [
    {
      "cell_type": "markdown",
      "metadata": {
        "id": "view-in-github",
        "colab_type": "text"
      },
      "source": [
        "<a href=\"https://colab.research.google.com/github/lala991204/pandas/blob/master/1_3_series_element.ipynb\" target=\"_parent\"><img src=\"https://colab.research.google.com/assets/colab-badge.svg\" alt=\"Open In Colab\"/></a>"
      ]
    },
    {
      "cell_type": "code",
      "metadata": {
        "colab": {
          "base_uri": "https://localhost:8080/"
        },
        "id": "nIHqxjmanp3T",
        "outputId": "bf316424-1c74-40b3-ef1a-756ddda7cae4"
      },
      "source": [
        "import pandas as pd\n",
        "\n",
        "# 투플을 시리즈로 변환(인덱스 옵션 지정)\n",
        "tup_data = ('영인', '2010-05-01', '여', True)\n",
        "sr = pd.Series(tup_data, index=['이름', '생년월일', '성별', '학생여부'])\n",
        "print(sr)"
      ],
      "execution_count": 1,
      "outputs": [
        {
          "output_type": "stream",
          "name": "stdout",
          "text": [
            "이름              영인\n",
            "생년월일    2010-05-01\n",
            "성별               여\n",
            "학생여부          True\n",
            "dtype: object\n"
          ]
        }
      ]
    },
    {
      "cell_type": "code",
      "metadata": {
        "colab": {
          "base_uri": "https://localhost:8080/"
        },
        "id": "w4F15hdrodEG",
        "outputId": "fe695c6e-e866-41b0-9c1f-3c3fe573b33a"
      },
      "source": [
        "# 원소를 1개 선택\n",
        "print(sr[0])             # sr의 1번째 원소를 선택(정수형 위치 인덱스)\n",
        "print(sr['이름'])        #'이름' 라벨을 가진 원소를 선택(인덱스 이름)"
      ],
      "execution_count": 2,
      "outputs": [
        {
          "output_type": "stream",
          "name": "stdout",
          "text": [
            "영인\n",
            "영인\n"
          ]
        }
      ]
    },
    {
      "cell_type": "code",
      "metadata": {
        "colab": {
          "base_uri": "https://localhost:8080/"
        },
        "id": "Pd9qtoIxo0o2",
        "outputId": "9ab0c0b7-fd8b-48fc-87ce-6ffd20deef92"
      },
      "source": [
        "# 여러 개의 원소를 선택(인덱스 리스트 활용)\n",
        "print(sr[[1, 2]])\n",
        "print('\\n')\n",
        "print(sr[['생년월일', '성별']])"
      ],
      "execution_count": 4,
      "outputs": [
        {
          "output_type": "stream",
          "name": "stdout",
          "text": [
            "생년월일    2010-05-01\n",
            "성별               여\n",
            "dtype: object\n",
            "\n",
            "\n",
            "생년월일    2010-05-01\n",
            "성별               여\n",
            "dtype: object\n"
          ]
        }
      ]
    },
    {
      "cell_type": "code",
      "metadata": {
        "colab": {
          "base_uri": "https://localhost:8080/"
        },
        "id": "SgmP9FVKpD9y",
        "outputId": "417d5a08-849d-4f1f-8459-f9d21402b96f"
      },
      "source": [
        "# 여러 개의 원소를 선택(인덱스 범위 지정)\n",
        "print(sr[1:2])\n",
        "print('\\n')\n",
        "print(sr['생년월일':'성별'])"
      ],
      "execution_count": 5,
      "outputs": [
        {
          "output_type": "stream",
          "name": "stdout",
          "text": [
            "생년월일    2010-05-01\n",
            "dtype: object\n",
            "\n",
            "\n",
            "생년월일    2010-05-01\n",
            "성별               여\n",
            "dtype: object\n"
          ]
        }
      ]
    },
    {
      "cell_type": "markdown",
      "metadata": {
        "id": "3W4mEcPupbDv"
      },
      "source": [
        "정수형 위치 인덱스 사용할 때는 범위의 끝이 포함되지 않음. \\\\\n",
        "인덱스 이름을 사용할 때는 범위의 끝이 포함됨."
      ]
    },
    {
      "cell_type": "code",
      "metadata": {
        "id": "J8gJ4nLLpSXs"
      },
      "source": [
        ""
      ],
      "execution_count": null,
      "outputs": []
    }
  ]
}