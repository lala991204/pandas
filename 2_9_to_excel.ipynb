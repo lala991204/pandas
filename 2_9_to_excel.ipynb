{
  "nbformat": 4,
  "nbformat_minor": 0,
  "metadata": {
    "colab": {
      "name": "2.9_to_excel.ipynb",
      "provenance": [],
      "mount_file_id": "1JjJammo2VoWk7a66_Ei8MFDBNpKBcAJ1",
      "authorship_tag": "ABX9TyMCh0vCX/CyK0IavEW8sS9L",
      "include_colab_link": true
    },
    "kernelspec": {
      "name": "python3",
      "display_name": "Python 3"
    },
    "language_info": {
      "name": "python"
    }
  },
  "cells": [
    {
      "cell_type": "markdown",
      "metadata": {
        "id": "view-in-github",
        "colab_type": "text"
      },
      "source": [
        "<a href=\"https://colab.research.google.com/github/lala991204/pandas/blob/master/2_9_to_excel.ipynb\" target=\"_parent\"><img src=\"https://colab.research.google.com/assets/colab-badge.svg\" alt=\"Open In Colab\"/></a>"
      ]
    },
    {
      "cell_type": "code",
      "metadata": {
        "id": "f3uBWAQ6nj0_",
        "colab": {
          "base_uri": "https://localhost:8080/"
        },
        "outputId": "eed50d1d-1601-4657-95eb-764a90d29156"
      },
      "source": [
        "import pandas as pd\n",
        "\n",
        "# 판다스 DataFrame() 함수로 데이터프레임 변환. 변수 df에 저장\n",
        "data = {'name' : ['Jerry', 'Riah', 'Paul'],\n",
        "        'algol' : [\"A\", \"A+\", \"B\"],\n",
        "        'basic' : [\"C\", \"B\", \"B+\"],\n",
        "        'c++' : [\"B+\", \"C\", \"C+\"],\n",
        "        }\n",
        "\n",
        "df = pd.DataFrame(data)\n",
        "df.set_index('name', inplace=True)   # name 열을 인덱스로 지정\n",
        "print(df)\n",
        "\n",
        "# to_excel() 메소드를 사용하여 Excel 파일로 내보내기. 파일명은 df_sample.xlsx로 저장\n",
        "df.to_excel(\"/content/drive/MyDrive/Colab Notebooks/pandas/df_sample.xlsx\")"
      ],
      "execution_count": 1,
      "outputs": [
        {
          "output_type": "stream",
          "name": "stdout",
          "text": [
            "      algol basic c++\n",
            "name                 \n",
            "Jerry     A     C  B+\n",
            "Riah     A+     B   C\n",
            "Paul      B    B+  C+\n"
          ]
        }
      ]
    },
    {
      "cell_type": "code",
      "metadata": {
        "id": "55kcoUsWodPP"
      },
      "source": [
        ""
      ],
      "execution_count": null,
      "outputs": []
    }
  ]
}