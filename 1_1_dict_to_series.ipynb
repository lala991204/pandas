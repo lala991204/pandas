{
  "nbformat": 4,
  "nbformat_minor": 0,
  "metadata": {
    "colab": {
      "name": "1.1_dict_to_series.ipynb",
      "provenance": [],
      "authorship_tag": "ABX9TyMBfMdRWbcIM5Kco0mXAIqH",
      "include_colab_link": true
    },
    "kernelspec": {
      "name": "python3",
      "display_name": "Python 3"
    },
    "language_info": {
      "name": "python"
    }
  },
  "cells": [
    {
      "cell_type": "markdown",
      "metadata": {
        "id": "view-in-github",
        "colab_type": "text"
      },
      "source": [
        "<a href=\"https://colab.research.google.com/github/lala991204/pandas/blob/master/1_1_dict_to_series.ipynb\" target=\"_parent\"><img src=\"https://colab.research.google.com/assets/colab-badge.svg\" alt=\"Open In Colab\"/></a>"
      ]
    },
    {
      "cell_type": "code",
      "metadata": {
        "colab": {
          "base_uri": "https://localhost:8080/"
        },
        "id": "m-01KPS6cVXv",
        "outputId": "273789ba-226b-4577-ee73-baa1d70cb848"
      },
      "source": [
        "# pandas 불러오기\n",
        "import pandas as pd\n",
        "\n",
        "# key:value 쌍으로 딕셔너리를 만들고, 변수 dict_data에 저장\n",
        "dict_data = {'a': 1, 'b': 2, 'c': 3 }\n",
        "\n",
        "# 판다스 Series() 함수로 dictionary를 Series로 변환. 변수 sr에 저장\n",
        "sr = pd.Series(dict_data)\n",
        "\n",
        "# sr의 자료형 출력\n",
        "print(type(sr))\n",
        "print('\\n')\n",
        "# 변수 sr에 저장되어 있는 시리즈 객체를 출력\n",
        "print(sr)"
      ],
      "execution_count": 1,
      "outputs": [
        {
          "output_type": "stream",
          "name": "stdout",
          "text": [
            "<class 'pandas.core.series.Series'>\n",
            "\n",
            "\n",
            "a    1\n",
            "b    2\n",
            "c    3\n",
            "dtype: int64\n"
          ]
        }
      ]
    },
    {
      "cell_type": "code",
      "metadata": {
        "id": "XYsS3ihMdRkc"
      },
      "source": [
        ""
      ],
      "execution_count": null,
      "outputs": []
    }
  ]
}