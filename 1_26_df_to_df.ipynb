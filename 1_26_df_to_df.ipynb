{
  "nbformat": 4,
  "nbformat_minor": 0,
  "metadata": {
    "colab": {
      "name": "1.26_df_to_df.ipynb",
      "provenance": [],
      "authorship_tag": "ABX9TyNOAyroqO9CS9EsQrR4UDcP",
      "include_colab_link": true
    },
    "kernelspec": {
      "name": "python3",
      "display_name": "Python 3"
    },
    "language_info": {
      "name": "python"
    }
  },
  "cells": [
    {
      "cell_type": "markdown",
      "metadata": {
        "id": "view-in-github",
        "colab_type": "text"
      },
      "source": [
        "<a href=\"https://colab.research.google.com/github/lala991204/pandas/blob/master/1_26_df_to_df.ipynb\" target=\"_parent\"><img src=\"https://colab.research.google.com/assets/colab-badge.svg\" alt=\"Open In Colab\"/></a>"
      ]
    },
    {
      "cell_type": "code",
      "metadata": {
        "colab": {
          "base_uri": "https://localhost:8080/"
        },
        "id": "RulY4ooOCWoC",
        "outputId": "e7cf522c-0676-4f20-f26f-49e8d83ea670"
      },
      "source": [
        "# 라이브러리 불러오기\n",
        "import pandas as pd\n",
        "import seaborn as sns\n",
        "\n",
        "# titanic 데이터셋에서 age, fare 2개 열을 선택하여 데이터프레임 만들기\n",
        "titanic = sns.load_dataset('titanic')\n",
        "df = titanic.loc[:, ['age', 'fare']]\n",
        "print(df.tail())                 # 마지막 5행 표시\n",
        "print('\\n')\n",
        "print(type(df))\n",
        "print('\\n')\n",
        "\n",
        "# 데이터프레임에 숫자 10 더하기\n",
        "addition = df + 10\n",
        "print(addition1.tail())          # 마지막 5행 표시\n",
        "print('\\n')\n",
        "print(type(addition))\n",
        "print('\\n')\n",
        "\n",
        "# 데이터프레임끼리 연산하기(addition - df)\n",
        "subtraction = addition - df\n",
        "print(subtraction.tail())         # 마지막 5행 표시\n",
        "print('\\n')\n",
        "print(type(subtraction))"
      ],
      "execution_count": 2,
      "outputs": [
        {
          "output_type": "stream",
          "name": "stdout",
          "text": [
            "      age   fare\n",
            "886  27.0  13.00\n",
            "887  19.0  30.00\n",
            "888   NaN  23.45\n",
            "889  26.0  30.00\n",
            "890  32.0   7.75\n",
            "\n",
            "\n",
            "<class 'pandas.core.frame.DataFrame'>\n",
            "\n",
            "\n",
            "      age   fare\n",
            "886  37.0  23.00\n",
            "887  29.0  40.00\n",
            "888   NaN  33.45\n",
            "889  36.0  40.00\n",
            "890  42.0  17.75\n",
            "\n",
            "\n",
            "<class 'pandas.core.frame.DataFrame'>\n",
            "\n",
            "\n",
            "      age  fare\n",
            "886  10.0  10.0\n",
            "887  10.0  10.0\n",
            "888   NaN  10.0\n",
            "889  10.0  10.0\n",
            "890  10.0  10.0\n",
            "\n",
            "\n",
            "<class 'pandas.core.frame.DataFrame'>\n"
          ]
        }
      ]
    },
    {
      "cell_type": "code",
      "metadata": {
        "id": "ZK9fz1BJENZO"
      },
      "source": [
        ""
      ],
      "execution_count": null,
      "outputs": []
    }
  ]
}