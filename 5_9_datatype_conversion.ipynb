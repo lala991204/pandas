{
  "nbformat": 4,
  "nbformat_minor": 0,
  "metadata": {
    "colab": {
      "name": "5.9_datatype_conversion.ipynb",
      "provenance": [],
      "collapsed_sections": [],
      "mount_file_id": "1iF9sYiCDYxKZRhB4IuuTlr2oqhO-Oy7D",
      "authorship_tag": "ABX9TyNloJ7I+df5hO0Ae8Chqx8V",
      "include_colab_link": true
    },
    "kernelspec": {
      "name": "python3",
      "display_name": "Python 3"
    },
    "language_info": {
      "name": "python"
    }
  },
  "cells": [
    {
      "cell_type": "markdown",
      "metadata": {
        "id": "view-in-github",
        "colab_type": "text"
      },
      "source": [
        "<a href=\"https://colab.research.google.com/github/lala991204/pandas/blob/master/5_9_datatype_conversion.ipynb\" target=\"_parent\"><img src=\"https://colab.research.google.com/assets/colab-badge.svg\" alt=\"Open In Colab\"/></a>"
      ]
    },
    {
      "cell_type": "code",
      "metadata": {
        "colab": {
          "base_uri": "https://localhost:8080/"
        },
        "id": "RS98AbKibsY6",
        "outputId": "deaef530-74a6-4718-8140-bbd17eeb3166"
      },
      "source": [
        "# 라이브러리 불러오기\n",
        "import pandas as pd\n",
        "\n",
        "# read_csv() 함수로 df 생성\n",
        "df = pd.read_csv('/content/drive/MyDrive/Colab Notebooks/pandas/auto-mpg.csv')\n",
        "\n",
        "# 열 이름을 지정\n",
        "df.columns = ['mpg', 'cylinders', 'displacement', 'horsepower', 'weight',\n",
        "              'acceleration', 'model year', 'origin', 'name']\n",
        "\n",
        "# 각 열의 자료형 확인\n",
        "print(df.dtypes)\n",
        "print('\\n')\n",
        "\n",
        "# horsepower 열의 고유값 확인\n",
        "print(df['horsepower'].unique())\n",
        "print('\\n')\n",
        "\n",
        "# 누락 데이터('?') 삭제\n",
        "import numpy as np\n",
        "df['horsepower'].replace('?', np.nan, inplace=True)       # '?'을 np.nan으로 변경\n",
        "df.dropna(subset=['horsepower'], axis=0, inplace=True)    # 누락데이터 행을 삭제\n",
        "df['horsepower'] = df['horsepower'].astype('float')       # 문자열을 실수형으로 변환\n",
        "\n",
        "# horsepower 열의 자료형 확인\n",
        "print(df['horsepower'].dtypes)\n",
        "print('\\n')"
      ],
      "execution_count": 7,
      "outputs": [
        {
          "output_type": "stream",
          "name": "stdout",
          "text": [
            "mpg             float64\n",
            "cylinders         int64\n",
            "displacement    float64\n",
            "horsepower       object\n",
            "weight          float64\n",
            "acceleration    float64\n",
            "model year        int64\n",
            "origin            int64\n",
            "name             object\n",
            "dtype: object\n",
            "\n",
            "\n",
            "['165.0' '150.0' '140.0' '198.0' '220.0' '215.0' '225.0' '190.0' '170.0'\n",
            " '160.0' '95.00' '97.00' '85.00' '88.00' '46.00' '87.00' '90.00' '113.0'\n",
            " '200.0' '210.0' '193.0' '?' '100.0' '105.0' '175.0' '153.0' '180.0'\n",
            " '110.0' '72.00' '86.00' '70.00' '76.00' '65.00' '69.00' '60.00' '80.00'\n",
            " '54.00' '208.0' '155.0' '130.0' '112.0' '92.00' '145.0' '137.0' '158.0'\n",
            " '167.0' '94.00' '107.0' '230.0' '49.00' '75.00' '91.00' '122.0' '67.00'\n",
            " '83.00' '78.00' '52.00' '61.00' '93.00' '148.0' '129.0' '96.00' '71.00'\n",
            " '98.00' '115.0' '53.00' '81.00' '79.00' '120.0' '152.0' '102.0' '108.0'\n",
            " '68.00' '58.00' '149.0' '89.00' '63.00' '48.00' '66.00' '139.0' '103.0'\n",
            " '125.0' '133.0' '138.0' '135.0' '142.0' '77.00' '62.00' '132.0' '84.00'\n",
            " '64.00' '74.00' '116.0' '82.00']\n",
            "\n",
            "\n",
            "float64\n",
            "\n",
            "\n"
          ]
        }
      ]
    },
    {
      "cell_type": "code",
      "metadata": {
        "colab": {
          "base_uri": "https://localhost:8080/"
        },
        "id": "Ja2FEszVb3rE",
        "outputId": "f8d39cc5-2c07-46b1-8a0c-40e41da31453"
      },
      "source": [
        "# origin 열의 고유값 확인\n",
        "print(df['origin'].unique())\n",
        "\n",
        "# 정수형 데이터를 문자형 데이터로 변환\n",
        "df['origin'].replace({1:'USA', 2:'EU', 3:'JAPAN'}, inplace=True)\n",
        "\n",
        "# origin 열의 고유값과 자료형 확인\n",
        "print(df['origin'].unique())\n",
        "print(df['origin'].dtypes)\n",
        "print('\\n')"
      ],
      "execution_count": 9,
      "outputs": [
        {
          "output_type": "stream",
          "name": "stdout",
          "text": [
            "['USA' 'JAPAN' 'EU']\n",
            "['USA' 'JAPAN' 'EU']\n",
            "object\n",
            "\n",
            "\n"
          ]
        }
      ]
    },
    {
      "cell_type": "code",
      "metadata": {
        "colab": {
          "base_uri": "https://localhost:8080/"
        },
        "id": "2Q1bvAw4eHe9",
        "outputId": "23bf6bad-291b-485b-e3a6-fc0036abea2d"
      },
      "source": [
        "# origin 열의 문자열 자료형을 범주형으로 변환\n",
        "df['origin'] = df['origin'].astype('category')\n",
        "print(df['origin'].dtypes)\n",
        "\n",
        "# 범주형을 문자열로 다시 반환\n",
        "df['origin'] = df['origin'].astype('str')\n",
        "print(df['origin'].dtypes)\n",
        "\n",
        "# model year 열의 정수형을 범주형으로 변환\n",
        "print(df['model year'].sample(3))\n",
        "df['model year'] = df['model year'].astype('category')\n",
        "print(df['model year'].sample(3))"
      ],
      "execution_count": 10,
      "outputs": [
        {
          "output_type": "stream",
          "name": "stdout",
          "text": [
            "category\n",
            "object\n",
            "36     71\n",
            "239    77\n",
            "2      70\n",
            "Name: model year, dtype: category\n",
            "Categories (13, int64): [70, 71, 72, 73, ..., 79, 80, 81, 82]\n",
            "218    77\n",
            "204    76\n",
            "59     72\n",
            "Name: model year, dtype: category\n",
            "Categories (13, int64): [70, 71, 72, 73, ..., 79, 80, 81, 82]\n"
          ]
        }
      ]
    },
    {
      "cell_type": "code",
      "metadata": {
        "id": "NpjO-RiteaCK"
      },
      "source": [
        ""
      ],
      "execution_count": null,
      "outputs": []
    }
  ]
}