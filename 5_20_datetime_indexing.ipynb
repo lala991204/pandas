{
  "nbformat": 4,
  "nbformat_minor": 0,
  "metadata": {
    "colab": {
      "name": "5.20_datetime_indexing.ipynb",
      "provenance": [],
      "mount_file_id": "1ZbA0fm9Q2BXUsuIT5bWEyVRvBhVKi9mL",
      "authorship_tag": "ABX9TyMQ6llz0WzAOkdEWqC/RU3y",
      "include_colab_link": true
    },
    "kernelspec": {
      "name": "python3",
      "display_name": "Python 3"
    },
    "language_info": {
      "name": "python"
    }
  },
  "cells": [
    {
      "cell_type": "markdown",
      "metadata": {
        "id": "view-in-github",
        "colab_type": "text"
      },
      "source": [
        "<a href=\"https://colab.research.google.com/github/lala991204/pandas/blob/master/5_20_datetime_indexing.ipynb\" target=\"_parent\"><img src=\"https://colab.research.google.com/assets/colab-badge.svg\" alt=\"Open In Colab\"/></a>"
      ]
    },
    {
      "cell_type": "code",
      "metadata": {
        "colab": {
          "base_uri": "https://localhost:8080/"
        },
        "id": "70JGDcQzcFXC",
        "outputId": "614d4a3c-4a5c-4bec-d210-2b13663be9cd"
      },
      "source": [
        "# 라이브러리 불러오기\n",
        "import pandas as pd\n",
        "\n",
        "# read_csv() 함수로 파일 읽어와서 df로 변환\n",
        "df = pd.read_csv('/content/drive/MyDrive/Colab Notebooks/pandas/stock-data.csv')\n",
        "\n",
        "# 문자열인 날짜 데이터를 판다스 Timestamp로 변환\n",
        "df['new_Date'] = pd.to_datetime(df['Date'])            # 새로운 열에 추가\n",
        "df.set_index('new_Date', inplace=True)                 # 행 인덱스로 지정\n",
        "\n",
        "print(df.head())\n",
        "print('\\n')\n",
        "print(df.index)\n",
        "print('\\n')\n",
        "\n",
        "# 날짜 인덱스를 이용하여 데이터 선택하기\n",
        "df_y = df['2018']\n",
        "print(df_y.head())\n",
        "print('\\n')\n",
        "df_ym = df.loc['2018-07']                # loc 인덱서 활용\n",
        "print(df_ym)\n",
        "print('\\n')\n",
        "df_ym_cols = df.loc['2018-07', 'Start':'High']         # 열 범위 슬라이싱\n",
        "print(df_ym_cols)\n",
        "print('\\n')\n",
        "df_ymd = df['2018-07-02']\n",
        "print(df_ymd)\n",
        "print('\\n')\n",
        "df_ymd_range = df['2018-06-25':'2018-06-20']            # 날짜 범위 지정\n",
        "print(df_ymd_range)\n",
        "print('\\n')\n",
        "\n",
        "# 시간 간격 계산. 최근 180일 ~ 189일 사이의 값들만 선택하기\n",
        "today = pd.to_datetime('2018-12-25')                   # 기준일 생성\n",
        "df['time_delta'] = today - df.index                    # 날짜 차이 계산\n",
        "df.set_index('time_delta', inplace=True)               # 행 인덱스로 지정\n",
        "df_180 = df['180 days':'189 days']\n",
        "print(df_180)"
      ],
      "execution_count": 3,
      "outputs": [
        {
          "output_type": "stream",
          "name": "stdout",
          "text": [
            "                  Date  Close  Start   High    Low  Volume\n",
            "new_Date                                                  \n",
            "2018-07-02  2018-07-02  10100  10850  10900  10000  137977\n",
            "2018-06-29  2018-06-29  10700  10550  10900   9990  170253\n",
            "2018-06-28  2018-06-28  10400  10900  10950  10150  155769\n",
            "2018-06-27  2018-06-27  10900  10800  11050  10500  133548\n",
            "2018-06-26  2018-06-26  10800  10900  11000  10700   63039\n",
            "\n",
            "\n",
            "DatetimeIndex(['2018-07-02', '2018-06-29', '2018-06-28', '2018-06-27',\n",
            "               '2018-06-26', '2018-06-25', '2018-06-22', '2018-06-21',\n",
            "               '2018-06-20', '2018-06-19', '2018-06-18', '2018-06-15',\n",
            "               '2018-06-14', '2018-06-12', '2018-06-11', '2018-06-08',\n",
            "               '2018-06-07', '2018-06-05', '2018-06-04', '2018-06-01'],\n",
            "              dtype='datetime64[ns]', name='new_Date', freq=None)\n",
            "\n",
            "\n",
            "                  Date  Close  Start   High    Low  Volume\n",
            "new_Date                                                  \n",
            "2018-07-02  2018-07-02  10100  10850  10900  10000  137977\n",
            "2018-06-29  2018-06-29  10700  10550  10900   9990  170253\n",
            "2018-06-28  2018-06-28  10400  10900  10950  10150  155769\n",
            "2018-06-27  2018-06-27  10900  10800  11050  10500  133548\n",
            "2018-06-26  2018-06-26  10800  10900  11000  10700   63039\n",
            "\n",
            "\n",
            "                  Date  Close  Start   High    Low  Volume\n",
            "new_Date                                                  \n",
            "2018-07-02  2018-07-02  10100  10850  10900  10000  137977\n",
            "\n",
            "\n",
            "            Start   High\n",
            "new_Date                \n",
            "2018-07-02  10850  10900\n",
            "\n",
            "\n",
            "                  Date  Close  Start   High    Low  Volume\n",
            "new_Date                                                  \n",
            "2018-07-02  2018-07-02  10100  10850  10900  10000  137977\n",
            "\n",
            "\n",
            "                  Date  Close  Start   High    Low  Volume\n",
            "new_Date                                                  \n",
            "2018-06-25  2018-06-25  11150  11400  11450  11000   55519\n",
            "2018-06-22  2018-06-22  11300  11250  11450  10750  134805\n",
            "2018-06-21  2018-06-21  11200  11350  11750  11200  133002\n",
            "2018-06-20  2018-06-20  11550  11200  11600  10900  308596\n",
            "\n",
            "\n",
            "                  Date  Close  Start   High    Low  Volume\n",
            "time_delta                                                \n",
            "180 days    2018-06-28  10400  10900  10950  10150  155769\n",
            "181 days    2018-06-27  10900  10800  11050  10500  133548\n",
            "182 days    2018-06-26  10800  10900  11000  10700   63039\n",
            "183 days    2018-06-25  11150  11400  11450  11000   55519\n",
            "186 days    2018-06-22  11300  11250  11450  10750  134805\n",
            "187 days    2018-06-21  11200  11350  11750  11200  133002\n",
            "188 days    2018-06-20  11550  11200  11600  10900  308596\n",
            "189 days    2018-06-19  11300  11850  11950  11300  180656\n"
          ]
        }
      ]
    },
    {
      "cell_type": "code",
      "metadata": {
        "id": "YHeWZ4r-dvaB"
      },
      "source": [
        ""
      ],
      "execution_count": null,
      "outputs": []
    }
  ]
}