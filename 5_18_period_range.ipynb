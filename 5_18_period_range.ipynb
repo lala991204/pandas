{
  "nbformat": 4,
  "nbformat_minor": 0,
  "metadata": {
    "colab": {
      "name": "5.18_period_range.ipynb",
      "provenance": [],
      "authorship_tag": "ABX9TyML18NFFtT6BxX0zPxY8y+L",
      "include_colab_link": true
    },
    "kernelspec": {
      "name": "python3",
      "display_name": "Python 3"
    },
    "language_info": {
      "name": "python"
    }
  },
  "cells": [
    {
      "cell_type": "markdown",
      "metadata": {
        "id": "view-in-github",
        "colab_type": "text"
      },
      "source": [
        "<a href=\"https://colab.research.google.com/github/lala991204/pandas/blob/master/5_18_period_range.ipynb\" target=\"_parent\"><img src=\"https://colab.research.google.com/assets/colab-badge.svg\" alt=\"Open In Colab\"/></a>"
      ]
    },
    {
      "cell_type": "code",
      "metadata": {
        "colab": {
          "base_uri": "https://localhost:8080/"
        },
        "id": "LMd5mZ1hX90k",
        "outputId": "a8394abb-c42a-4e7d-997c-511d84caaa03"
      },
      "source": [
        "# 라이브러리 불러오기\n",
        "import pandas as pd\n",
        "\n",
        "# Period 배열 만들기 - 1개월 길이\n",
        "pr_m = pd.period_range(start='2019-01-01',            # 날짜 범위의 시작\n",
        "                       end=None,                      # 날짜 범위의 끝\n",
        "                       periods=3,                     # 생성할 Period 개수\n",
        "                       freq='M')                      # 기간의 길이 (M: 월)\n",
        "print(pr_m)\n",
        "print('\\n')\n",
        "\n",
        "# Period 배열 만들기 - 1시간 길이\n",
        "pr_h = pd.period_range(start='2019-01-01',            # 날짜 범위의 시작\n",
        "                       end=None,                      # 날짜 범위의 끝\n",
        "                       periods=3,                     # 생성할 Period 개수\n",
        "                       freq='H')                      # 기간의 길이 (H: 시간)\n",
        "print(pr_h)\n",
        "print('\\n')\n",
        "\n",
        "# Period 배열 만들기 - 2시간 길이\n",
        "pr_2h = pd.period_range(start='2019-01-01',           # 날짜 범위의 시작\n",
        "                        end=None,                     # 날짜 범위의 끝\n",
        "                        periods=3,                    # 생성할 Period 개수\n",
        "                        freq='2H')                    # 기간의 길이 (H: 시간)\n",
        "print(pr_2h)"
      ],
      "execution_count": 1,
      "outputs": [
        {
          "output_type": "stream",
          "name": "stdout",
          "text": [
            "PeriodIndex(['2019-01', '2019-02', '2019-03'], dtype='period[M]', freq='M')\n",
            "\n",
            "\n",
            "PeriodIndex(['2019-01-01 00:00', '2019-01-01 01:00', '2019-01-01 02:00'], dtype='period[H]', freq='H')\n",
            "\n",
            "\n",
            "PeriodIndex(['2019-01-01 00:00', '2019-01-01 02:00', '2019-01-01 04:00'], dtype='period[2H]', freq='2H')\n"
          ]
        }
      ]
    },
    {
      "cell_type": "code",
      "metadata": {
        "id": "ePPZU6DfZOsQ"
      },
      "source": [
        ""
      ],
      "execution_count": null,
      "outputs": []
    }
  ]
}