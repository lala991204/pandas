{
  "nbformat": 4,
  "nbformat_minor": 0,
  "metadata": {
    "colab": {
      "name": "6.14_df_groupby.ipynb",
      "provenance": [],
      "toc_visible": true,
      "authorship_tag": "ABX9TyMvGiJ6cFfa5zeMXgzjE91U",
      "include_colab_link": true
    },
    "kernelspec": {
      "name": "python3",
      "display_name": "Python 3"
    },
    "language_info": {
      "name": "python"
    }
  },
  "cells": [
    {
      "cell_type": "markdown",
      "metadata": {
        "id": "view-in-github",
        "colab_type": "text"
      },
      "source": [
        "<a href=\"https://colab.research.google.com/github/lala991204/pandas/blob/master/6_14_df_groupby.ipynb\" target=\"_parent\"><img src=\"https://colab.research.google.com/assets/colab-badge.svg\" alt=\"Open In Colab\"/></a>"
      ]
    },
    {
      "cell_type": "code",
      "metadata": {
        "colab": {
          "base_uri": "https://localhost:8080/"
        },
        "id": "Lf3NJvQKkQGF",
        "outputId": "b6342f56-7fb1-49c3-ce17-a75f3c751301"
      },
      "source": [
        "# 라이브러리 불러오기\n",
        "import pandas as pd\n",
        "import seaborn as sns\n",
        "\n",
        "# titanic 데이터셋에서 age, sex 등 5개 열을 선택하여 데이터프레임 만들기\n",
        "titanic = sns.load_dataset('titanic')\n",
        "df = titanic.loc[:, ['age', 'sex', 'class', 'fare', 'survived']]\n",
        "\n",
        "print('승객 수:', len(df))\n",
        "print(df.head())\n",
        "print('\\n')\n",
        "\n",
        "# class 열을 기준으로 분할\n",
        "grouped = df.groupby(['class'])\n",
        "print(grouped)\n",
        "print('\\n')\n",
        "\n",
        "# 그룹 객체를 iteration으로 출력: head() 메소드로 첫 5행만을 출력\n",
        "for key, group in grouped:\n",
        "  print('* key :', key)\n",
        "  print('* number :', len(group))\n",
        "  print(group.head())\n",
        "  print('\\n')"
      ],
      "execution_count": 1,
      "outputs": [
        {
          "output_type": "stream",
          "name": "stdout",
          "text": [
            "승객 수: 891\n",
            "    age     sex  class     fare  survived\n",
            "0  22.0    male  Third   7.2500         0\n",
            "1  38.0  female  First  71.2833         1\n",
            "2  26.0  female  Third   7.9250         1\n",
            "3  35.0  female  First  53.1000         1\n",
            "4  35.0    male  Third   8.0500         0\n",
            "\n",
            "\n",
            "<pandas.core.groupby.generic.DataFrameGroupBy object at 0x7f37cc34f510>\n",
            "\n",
            "\n",
            "* key : First\n",
            "* number : 216\n",
            "     age     sex  class     fare  survived\n",
            "1   38.0  female  First  71.2833         1\n",
            "3   35.0  female  First  53.1000         1\n",
            "6   54.0    male  First  51.8625         0\n",
            "11  58.0  female  First  26.5500         1\n",
            "23  28.0    male  First  35.5000         1\n",
            "\n",
            "\n",
            "* key : Second\n",
            "* number : 184\n",
            "     age     sex   class     fare  survived\n",
            "9   14.0  female  Second  30.0708         1\n",
            "15  55.0  female  Second  16.0000         1\n",
            "17   NaN    male  Second  13.0000         1\n",
            "20  35.0    male  Second  26.0000         0\n",
            "21  34.0    male  Second  13.0000         1\n",
            "\n",
            "\n",
            "* key : Third\n",
            "* number : 491\n",
            "    age     sex  class     fare  survived\n",
            "0  22.0    male  Third   7.2500         0\n",
            "2  26.0  female  Third   7.9250         1\n",
            "4  35.0    male  Third   8.0500         0\n",
            "5   NaN    male  Third   8.4583         0\n",
            "7   2.0    male  Third  21.0750         0\n",
            "\n",
            "\n"
          ]
        }
      ]
    },
    {
      "cell_type": "code",
      "metadata": {
        "colab": {
          "base_uri": "https://localhost:8080/"
        },
        "id": "gsRGU5I0oyfs",
        "outputId": "dbf9d99e-5f48-4017-e736-56af297f3058"
      },
      "source": [
        "# 연산 메소드 적용\n",
        "average = grouped.mean()\n",
        "print(average)\n",
        "print('\\n')"
      ],
      "execution_count": 2,
      "outputs": [
        {
          "output_type": "stream",
          "name": "stdout",
          "text": [
            "              age       fare  survived\n",
            "class                                 \n",
            "First   38.233441  84.154687  0.629630\n",
            "Second  29.877630  20.662183  0.472826\n",
            "Third   25.140620  13.675550  0.242363\n",
            "\n",
            "\n"
          ]
        }
      ]
    },
    {
      "cell_type": "code",
      "metadata": {
        "colab": {
          "base_uri": "https://localhost:8080/"
        },
        "id": "aXAK1Bxeo1lL",
        "outputId": "1e28762f-b41a-4087-8556-0f0001f87929"
      },
      "source": [
        "# 개별 그룹 선택하기\n",
        "group3 = grouped.get_group('Third')\n",
        "print(group3.head())\n",
        "print('\\n')\n",
        "\n",
        "# class 열, sex 열을 기준으로 분할\n",
        "grouped_two = df.groupby(['class', 'sex'])\n",
        "\n",
        "# grouped_two 그룹 객체를 iteration으로 출력\n",
        "for key, group in grouped_two:\n",
        "    print('* key :', key)\n",
        "    print('* number :', len(group))\n",
        "    print(group.head())\n",
        "    print('\\n')"
      ],
      "execution_count": 3,
      "outputs": [
        {
          "output_type": "stream",
          "name": "stdout",
          "text": [
            "    age     sex  class     fare  survived\n",
            "0  22.0    male  Third   7.2500         0\n",
            "2  26.0  female  Third   7.9250         1\n",
            "4  35.0    male  Third   8.0500         0\n",
            "5   NaN    male  Third   8.4583         0\n",
            "7   2.0    male  Third  21.0750         0\n",
            "\n",
            "\n",
            "* key : ('First', 'female')\n",
            "* number : 94\n",
            "     age     sex  class      fare  survived\n",
            "1   38.0  female  First   71.2833         1\n",
            "3   35.0  female  First   53.1000         1\n",
            "11  58.0  female  First   26.5500         1\n",
            "31   NaN  female  First  146.5208         1\n",
            "52  49.0  female  First   76.7292         1\n",
            "\n",
            "\n",
            "* key : ('First', 'male')\n",
            "* number : 122\n",
            "     age   sex  class      fare  survived\n",
            "6   54.0  male  First   51.8625         0\n",
            "23  28.0  male  First   35.5000         1\n",
            "27  19.0  male  First  263.0000         0\n",
            "30  40.0  male  First   27.7208         0\n",
            "34  28.0  male  First   82.1708         0\n",
            "\n",
            "\n",
            "* key : ('Second', 'female')\n",
            "* number : 76\n",
            "     age     sex   class     fare  survived\n",
            "9   14.0  female  Second  30.0708         1\n",
            "15  55.0  female  Second  16.0000         1\n",
            "41  27.0  female  Second  21.0000         0\n",
            "43   3.0  female  Second  41.5792         1\n",
            "53  29.0  female  Second  26.0000         1\n",
            "\n",
            "\n",
            "* key : ('Second', 'male')\n",
            "* number : 108\n",
            "     age   sex   class  fare  survived\n",
            "17   NaN  male  Second  13.0         1\n",
            "20  35.0  male  Second  26.0         0\n",
            "21  34.0  male  Second  13.0         1\n",
            "33  66.0  male  Second  10.5         0\n",
            "70  32.0  male  Second  10.5         0\n",
            "\n",
            "\n",
            "* key : ('Third', 'female')\n",
            "* number : 144\n",
            "     age     sex  class     fare  survived\n",
            "2   26.0  female  Third   7.9250         1\n",
            "8   27.0  female  Third  11.1333         1\n",
            "10   4.0  female  Third  16.7000         1\n",
            "14  14.0  female  Third   7.8542         0\n",
            "18  31.0  female  Third  18.0000         0\n",
            "\n",
            "\n",
            "* key : ('Third', 'male')\n",
            "* number : 347\n",
            "     age   sex  class     fare  survived\n",
            "0   22.0  male  Third   7.2500         0\n",
            "4   35.0  male  Third   8.0500         0\n",
            "5    NaN  male  Third   8.4583         0\n",
            "7    2.0  male  Third  21.0750         0\n",
            "12  20.0  male  Third   8.0500         0\n",
            "\n",
            "\n"
          ]
        }
      ]
    },
    {
      "cell_type": "code",
      "metadata": {
        "colab": {
          "base_uri": "https://localhost:8080/"
        },
        "id": "vQXj2082o92s",
        "outputId": "15ce5b36-bfff-47a6-f0d5-ee50316a9ca6"
      },
      "source": [
        "# grouped_two 그룹 객체에 연산 메소드 적용\n",
        "average_two = grouped_two.mean()\n",
        "print(average_two)\n",
        "print('\\n')\n",
        "print(type(average_two))\n",
        "\n",
        "# grouped_two 그룹 객체에서 개별 그룹 선택하기\n",
        "group3f = grouped_two.get_group(('Third', 'female'))\n",
        "print(group3f.head())"
      ],
      "execution_count": 4,
      "outputs": [
        {
          "output_type": "stream",
          "name": "stdout",
          "text": [
            "                     age        fare  survived\n",
            "class  sex                                    \n",
            "First  female  34.611765  106.125798  0.968085\n",
            "       male    41.281386   67.226127  0.368852\n",
            "Second female  28.722973   21.970121  0.921053\n",
            "       male    30.740707   19.741782  0.157407\n",
            "Third  female  21.750000   16.118810  0.500000\n",
            "       male    26.507589   12.661633  0.135447\n",
            "\n",
            "\n",
            "<class 'pandas.core.frame.DataFrame'>\n",
            "     age     sex  class     fare  survived\n",
            "2   26.0  female  Third   7.9250         1\n",
            "8   27.0  female  Third  11.1333         1\n",
            "10   4.0  female  Third  16.7000         1\n",
            "14  14.0  female  Third   7.8542         0\n",
            "18  31.0  female  Third  18.0000         0\n"
          ]
        }
      ]
    },
    {
      "cell_type": "code",
      "metadata": {
        "id": "tjyhAidjo-OW"
      },
      "source": [
        ""
      ],
      "execution_count": null,
      "outputs": []
    }
  ]
}