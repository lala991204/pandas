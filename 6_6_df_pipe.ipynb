{
  "nbformat": 4,
  "nbformat_minor": 0,
  "metadata": {
    "colab": {
      "name": "6.6_df_pipe.ipynb",
      "provenance": [],
      "authorship_tag": "ABX9TyNqKm1c4PuVIsnplnxLNjJ6",
      "include_colab_link": true
    },
    "kernelspec": {
      "name": "python3",
      "display_name": "Python 3"
    },
    "language_info": {
      "name": "python"
    }
  },
  "cells": [
    {
      "cell_type": "markdown",
      "metadata": {
        "id": "view-in-github",
        "colab_type": "text"
      },
      "source": [
        "<a href=\"https://colab.research.google.com/github/lala991204/pandas/blob/master/6_6_df_pipe.ipynb\" target=\"_parent\"><img src=\"https://colab.research.google.com/assets/colab-badge.svg\" alt=\"Open In Colab\"/></a>"
      ]
    },
    {
      "cell_type": "code",
      "metadata": {
        "id": "1iWUWXFRyriJ"
      },
      "source": [
        "# 라이브러리 불러오기\n",
        "import seaborn as sns\n",
        "\n",
        "# titanic 데이터셋에서 age, fare 2개 열을 선택하여 데이터프레임 만들기\n",
        "titanic = sns.load_dataset('titanic')\n",
        "df = titanic.loc[:, ['age','fare']]\n",
        "\n",
        "# 각 열의 NaN 찾기 - 데이터프레임을 전달하면 데이터프레임 반환\n",
        "def missing_value(x):\n",
        "    return x.isnull()\n",
        "\n",
        "# 각 열의 NaN 개수 반환 - 데이터프레임을 전달하면 시리즈 반환\n",
        "def missing_count(x):\n",
        "    return missing_value(x).sum()\n",
        "\n",
        "# 데이터프레임의 총 NaN 개수 - 데이터프레임을 전달하면 값 반환\n",
        "def total_number_missing(x):\n",
        "    return missing_count(x).sum()"
      ],
      "execution_count": 2,
      "outputs": []
    },
    {
      "cell_type": "code",
      "metadata": {
        "colab": {
          "base_uri": "https://localhost:8080/"
        },
        "id": "ZO88IKwUzisK",
        "outputId": "76b57dfe-bad6-4cba-8a27-c1f832b68584"
      },
      "source": [
        "# 데이터프레임에 함수 매핑\n",
        "result_df = df.pipe(missing_value)\n",
        "print(result_df.head())\n",
        "print(result_df)"
      ],
      "execution_count": 3,
      "outputs": [
        {
          "output_type": "stream",
          "name": "stdout",
          "text": [
            "     age   fare\n",
            "0  False  False\n",
            "1  False  False\n",
            "2  False  False\n",
            "3  False  False\n",
            "4  False  False\n",
            "       age   fare\n",
            "0    False  False\n",
            "1    False  False\n",
            "2    False  False\n",
            "3    False  False\n",
            "4    False  False\n",
            "..     ...    ...\n",
            "886  False  False\n",
            "887  False  False\n",
            "888   True  False\n",
            "889  False  False\n",
            "890  False  False\n",
            "\n",
            "[891 rows x 2 columns]\n"
          ]
        }
      ]
    },
    {
      "cell_type": "code",
      "metadata": {
        "colab": {
          "base_uri": "https://localhost:8080/"
        },
        "id": "rkIew4gUzwbz",
        "outputId": "b3165151-d1f6-46a3-e270-eddf01e54f78"
      },
      "source": [
        "result_series = df.pipe(missing_count)\n",
        "print(result_series)\n",
        "print(type(result_series))"
      ],
      "execution_count": 4,
      "outputs": [
        {
          "output_type": "stream",
          "name": "stdout",
          "text": [
            "age     177\n",
            "fare      0\n",
            "dtype: int64\n",
            "<class 'pandas.core.series.Series'>\n"
          ]
        }
      ]
    },
    {
      "cell_type": "code",
      "metadata": {
        "colab": {
          "base_uri": "https://localhost:8080/"
        },
        "id": "WBZWAQiq0Hwj",
        "outputId": "9d2713c2-ea67-4e97-93e2-c16d15ee3b77"
      },
      "source": [
        "result_value = df.pipe(total_number_missing)\n",
        "print(result_value)\n",
        "print(type(result_value))"
      ],
      "execution_count": 5,
      "outputs": [
        {
          "output_type": "stream",
          "name": "stdout",
          "text": [
            "177\n",
            "<class 'numpy.int64'>\n"
          ]
        }
      ]
    },
    {
      "cell_type": "code",
      "metadata": {
        "id": "0cv1DgBI0QJC"
      },
      "source": [
        ""
      ],
      "execution_count": null,
      "outputs": []
    }
  ]
}